{
  "nbformat": 4,
  "nbformat_minor": 0,
  "metadata": {
    "colab": {
      "provenance": []
    },
    "kernelspec": {
      "name": "python3",
      "display_name": "Python 3"
    },
    "language_info": {
      "name": "python"
    }
  },
  "cells": [
    {
      "cell_type": "code",
      "source": [
        "import pandas as pd\n",
        "import numpy as np\n",
        "from sklearn import model_selection\n",
        "from sklearn import metrics\n",
        "from sklearn.model_selection import train_test_split\n",
        "from sklearn.ensemble import RandomForestClassifier\n",
        "from sklearn.ensemble import AdaBoostClassifier, GradientBoostingClassifier\n",
        "\n",
        "\n",
        "data = pd.read_csv(\"sp500_tm.csv\")\n",
        "data.head()\n",
        "x = data.drop(\"Direction\", axis = 1)\n",
        "y = data.Direction\n",
        "x_train, x_test, y_train, y_test = train_test_split(x, y, test_size=0.3)\n",
        "\n",
        "model1 = RandomForestClassifier().fit(x_train, y_train)\n",
        "model1.score(x_test, y_test)\n",
        "\n",
        "model2 = AdaBoostClassifier().fit(x_train, y_train)\n",
        "model2.score(x_test, y_test)\n",
        "\n",
        "model3 = GradientBoostingClassifier().fit(x_train, y_train)\n",
        "model3.score(x_test, y_test)\n",
        "\n",
        "\n",
        "\n",
        "\n",
        "\n"
      ],
      "metadata": {
        "id": "agsjFGs-4dA9",
        "outputId": "17ef85d1-6c85-42cc-ad13-54746909b0e3",
        "colab": {
          "base_uri": "https://localhost:8080/"
        }
      },
      "execution_count": 17,
      "outputs": [
        {
          "output_type": "execute_result",
          "data": {
            "text/plain": [
              "0.3333333333333333"
            ]
          },
          "metadata": {},
          "execution_count": 17
        }
      ]
    },
    {
      "cell_type": "markdown",
      "source": [
        "## 1. Ensemble의 Boosting\n",
        "###Gradient Boosting, XGBoost, LightGBM\n",
        "\n",
        "###Gradient boosting\n",
        "- 강력한 앙상블 기법\n",
        "- DT를 Boost하여 오차 Gradient를 최소화\n",
        "- Tree모형을 기반으로 하는 앙상블\n",
        "- 미분 가능한 loss 함수와 GD 최적화 알고리즘을 사용(=ANN)\n",
        "- GBM의 하이퍼파라미터\n",
        " - The number of trees or estimators in the model.\n",
        " - The learning rate of the model.\n",
        " - The row and column sampling rate for stochastic models.\n",
        " - The maximum tree depth.\n",
        " - The minimum tree weight.\n",
        " - The regularization terms alpha and lambda."
      ],
      "metadata": {
        "id": "Phhlyr-H0yqB"
      }
    },
    {
      "cell_type": "markdown",
      "source": [
        " - loss : 경사 하강법에서 사용할 비용 함수. 기본값 'devidence'\n",
        "\n",
        " - learning_rate : GBM이 학습을 진행할 때마다 적용하는 학습률. 기본값은  0.1\n",
        "  - weak learner가 순차적으로 오류 값을 보정해 나가는 데 적용하는 계수\n",
        "  - 0 ~ 1 사이의 값\n",
        "  - 작을 경우, 예측 성능이 높아질 수 있으나 많은 week learner가 순차적인 반복이 필요해 수행시간이 길어지고 local optima에 빠질 수 있음\n",
        "  - 너무 큰 값을 설정하는 경우, 최적값을 못찰을 수 있어 성능이 떨어질 가능성이 있으나, 시간은 단축\n",
        "  - learning_rate은 n_estimator와 상호 보완적으로 활용\n",
        "\n",
        " - n_estimators: weak learner의 개수이며,기본값은 100\n",
        "  - weak learner가 많으면 성능 개선이 있지만 많은 시간 소요\n",
        "\n",
        "- subsample: weak learner가 학습에 사용하는 데이터 샘플링의 비율, 기본값은 1이며, 전체 데이터를 기반으로 학습함. 1보다 작은 값을 설정해서 과적합을 완화시킬 수 있음"
      ],
      "metadata": {
        "id": "_ZhD5CP63uSk"
      }
    },
    {
      "cell_type": "code",
      "source": [
        "# gradient boosting for classification\n",
        "from numpy import mean\n",
        "from numpy import std\n",
        "from sklearn.datasets import make_classification\n",
        "from sklearn.ensemble import GradientBoostingClassifier\n",
        "from sklearn.model_selection import cross_val_score\n",
        "from sklearn.model_selection import RepeatedStratifiedKFold\n",
        "from matplotlib import pyplot\n",
        "\n",
        "#  dataset 생성\n",
        "X, y = make_classification(n_samples=1000, n_features=10, n_informative=5, n_redundant=5, random_state=1)\n",
        "\n",
        "model = GradientBoostingClassifier()\n",
        "model.fit(X, y)\n",
        "\n",
        "# 10개값을 갖는 한 개의 X 샘플에 대한 범주 예측\n",
        "row = [[2.56999479, -0.13019997, 3.16075093, -4.35936352, -1.61271951, -1.39352057, -2.48924933, -1.93094078, 3.26130366, 2.05692145]]\n",
        "yhat = model.predict(row)\n",
        "print('Prediction: %d' % yhat)"
      ],
      "metadata": {
        "colab": {
          "base_uri": "https://localhost:8080/"
        },
        "id": "of6Ui7VV0z7t",
        "outputId": "c0ad3290-6970-4054-83c6-d9210c19e804"
      },
      "execution_count": null,
      "outputs": [
        {
          "output_type": "stream",
          "name": "stdout",
          "text": [
            "Prediction: 1\n"
          ]
        }
      ]
    },
    {
      "cell_type": "markdown",
      "source": [
        "### 2. Histogram-Based Gradient Boosting\n",
        "- LightGBM library와 유사한 GB 모형\n",
        "- HistGradientBoostingClassifier와 HistGradientBoostingRegressor\n",
        "- 속도가 개선된 GB모형.\n"
      ],
      "metadata": {
        "id": "BR7uVKUa1ZzZ"
      }
    },
    {
      "cell_type": "code",
      "source": [
        "from sklearn.experimental import enable_hist_gradient_boosting\n",
        "\n",
        "#분류\n",
        "from numpy import mean\n",
        "from numpy import std\n",
        "from sklearn.datasets import make_classification\n",
        "from sklearn.experimental import enable_hist_gradient_boosting\n",
        "from sklearn.ensemble import HistGradientBoostingClassifier\n",
        "from matplotlib import pyplot\n",
        "\n",
        "# define dataset\n",
        "X, y = make_classification(n_samples=1000, n_features=10, n_informative=5, n_redundant=5, random_state=1)\n",
        "\n",
        "model = HistGradientBoostingClassifier()\n",
        "model.fit(X, y)\n",
        "\n",
        "# prediction\n",
        "row = [[2.56999479, -0.13019997, 3.16075093, -4.35936352, -1.61271951, -1.39352057, -2.48924933, -1.93094078, 3.26130366, 2.05692145]]\n",
        "yhat = model.predict(row)\n",
        "print('Prediction: %d' % yhat)"
      ],
      "metadata": {
        "colab": {
          "base_uri": "https://localhost:8080/"
        },
        "id": "g-4SRfsb1Z63",
        "outputId": "330591a5-68a6-43b5-fa94-5439cf08da8e"
      },
      "execution_count": null,
      "outputs": [
        {
          "output_type": "stream",
          "name": "stdout",
          "text": [
            "Prediction: 1\n"
          ]
        }
      ]
    },
    {
      "cell_type": "markdown",
      "source": [
        "### 3.Gradient Boosting With XGBoost\n",
        "- Extreme Gradient Boosting을 의미하며, sklearn 대신 xgboost 라이브러리 이용\n",
        "- 계산 효율성을 높이며, 성능도 개선\n",
        "- colab에 설치되어 있으며 필요 시 !pip install xgboost\n",
        "- XGBClassifier와 XGBregressor 제공\n"
      ],
      "metadata": {
        "id": "PhmUchYT1aAo"
      }
    },
    {
      "cell_type": "code",
      "source": [
        "# 분류, xgboost for classification\n",
        "from numpy import asarray\n",
        "from numpy import mean\n",
        "from numpy import std\n",
        "from sklearn.datasets import make_classification\n",
        "from xgboost import XGBClassifier\n",
        "from matplotlib import pyplot\n",
        "\n",
        "# define dataset\n",
        "X, y = make_classification(n_samples=1000, n_features=10, n_informative=5, n_redundant=5, random_state=1)\n",
        "\n",
        "model = XGBClassifier()\n",
        "model.fit(X, y)\n",
        "\n",
        "# prediction\n",
        "row = [2.56999479, -0.13019997, 3.16075093, -4.35936352, -1.61271951, -1.39352057, -2.48924933, -1.93094078, 3.26130366, 2.05692145]\n",
        "row = asarray(row).reshape((1, len(row)))\n",
        "yhat = model.predict(row)\n",
        "print('Prediction: %d' % yhat)"
      ],
      "metadata": {
        "colab": {
          "base_uri": "https://localhost:8080/"
        },
        "id": "0kyA3Vi61aGx",
        "outputId": "002e1a07-d8e0-4bbb-cb85-41f456fcbbd2"
      },
      "execution_count": null,
      "outputs": [
        {
          "output_type": "stream",
          "name": "stdout",
          "text": [
            "Prediction: 1\n"
          ]
        }
      ]
    },
    {
      "cell_type": "markdown",
      "source": [
        "### 4.Gradient Boosting With LightGBM\n",
        "- Light Gradient Boosted Machine\n",
        "- MS에 의해 개발, 효율성이 강조된 GBM\n",
        "- 설치되어 있으며 필요 시 !pip install lightgbm\n",
        "- LGBMClassifier , LGBMRegressor classes.\n"
      ],
      "metadata": {
        "id": "e4Fl3zOL1aMB"
      }
    },
    {
      "cell_type": "code",
      "source": [
        "# lightgbm for classification\n",
        "from numpy import mean\n",
        "from numpy import std\n",
        "from sklearn.datasets import make_classification\n",
        "from lightgbm import LGBMClassifier\n",
        "from matplotlib import pyplot\n",
        "\n",
        "# define dataset\n",
        "X, y = make_classification(n_samples=1000, n_features=10, n_informative=5, n_redundant=5, random_state=1)\n",
        "\n",
        "model = LGBMClassifier()\n",
        "model.fit(X, y)\n",
        "\n",
        "# prediction\n",
        "row = [[2.56999479, -0.13019997, 3.16075093, -4.35936352, -1.61271951, -1.39352057, -2.48924933, -1.93094078, 3.26130366, 2.05692145]]\n",
        "yhat = model.predict(row)\n",
        "print('Prediction: %d' % yhat)\n",
        "\n"
      ],
      "metadata": {
        "colab": {
          "base_uri": "https://localhost:8080/"
        },
        "id": "jy2y5_ry1aR0",
        "outputId": "60e052e6-45f6-4d30-84c1-dfe2f6280aba"
      },
      "execution_count": null,
      "outputs": [
        {
          "output_type": "stream",
          "name": "stdout",
          "text": [
            "[LightGBM] [Info] Number of positive: 501, number of negative: 499\n",
            "[LightGBM] [Info] Auto-choosing col-wise multi-threading, the overhead of testing was 0.000204 seconds.\n",
            "You can set `force_col_wise=true` to remove the overhead.\n",
            "[LightGBM] [Info] Total Bins 2550\n",
            "[LightGBM] [Info] Number of data points in the train set: 1000, number of used features: 10\n",
            "[LightGBM] [Info] [binary:BoostFromScore]: pavg=0.501000 -> initscore=0.004000\n",
            "[LightGBM] [Info] Start training from score 0.004000\n",
            "[LightGBM] [Warning] No further splits with positive gain, best gain: -inf\n",
            "Prediction: 1\n"
          ]
        }
      ]
    },
    {
      "cell_type": "markdown",
      "source": [
        "### 5.Gradient Boosting with CatBoost\n",
        "- CatBoost는 Yandex가 개발한 라이브러리\n",
        "- 효율적으로 계산하여 속도 개선\n",
        "- 범주형 X변수에 대해 잘 작동: Category Gradient Boosting\n",
        "- 설치 안되어 있으므로, 다음을 이용해서 설치\n",
        "- !pip install catboost\n",
        "\n"
      ],
      "metadata": {
        "id": "dH-62off1aWk"
      }
    },
    {
      "cell_type": "code",
      "source": [
        "!pip install catboost"
      ],
      "metadata": {
        "id": "U8ZH8BXV23TZ",
        "colab": {
          "base_uri": "https://localhost:8080/"
        },
        "outputId": "dbbe3317-2311-4898-dc7a-18ffd7f2afe2"
      },
      "execution_count": null,
      "outputs": [
        {
          "output_type": "stream",
          "name": "stdout",
          "text": [
            "Collecting catboost\n",
            "  Downloading catboost-1.2.2-cp310-cp310-manylinux2014_x86_64.whl (98.7 MB)\n",
            "\u001b[2K     \u001b[90m━━━━━━━━━━━━━━━━━━━━━━━━━━━━━━━━━━━━━━━━\u001b[0m \u001b[32m98.7/98.7 MB\u001b[0m \u001b[31m8.3 MB/s\u001b[0m eta \u001b[36m0:00:00\u001b[0m\n",
            "\u001b[?25hRequirement already satisfied: graphviz in /usr/local/lib/python3.10/dist-packages (from catboost) (0.20.1)\n",
            "Requirement already satisfied: matplotlib in /usr/local/lib/python3.10/dist-packages (from catboost) (3.7.1)\n",
            "Requirement already satisfied: numpy>=1.16.0 in /usr/local/lib/python3.10/dist-packages (from catboost) (1.23.5)\n",
            "Requirement already satisfied: pandas>=0.24 in /usr/local/lib/python3.10/dist-packages (from catboost) (1.5.3)\n",
            "Requirement already satisfied: scipy in /usr/local/lib/python3.10/dist-packages (from catboost) (1.11.3)\n",
            "Requirement already satisfied: plotly in /usr/local/lib/python3.10/dist-packages (from catboost) (5.15.0)\n",
            "Requirement already satisfied: six in /usr/local/lib/python3.10/dist-packages (from catboost) (1.16.0)\n",
            "Requirement already satisfied: python-dateutil>=2.8.1 in /usr/local/lib/python3.10/dist-packages (from pandas>=0.24->catboost) (2.8.2)\n",
            "Requirement already satisfied: pytz>=2020.1 in /usr/local/lib/python3.10/dist-packages (from pandas>=0.24->catboost) (2023.3.post1)\n",
            "Requirement already satisfied: contourpy>=1.0.1 in /usr/local/lib/python3.10/dist-packages (from matplotlib->catboost) (1.2.0)\n",
            "Requirement already satisfied: cycler>=0.10 in /usr/local/lib/python3.10/dist-packages (from matplotlib->catboost) (0.12.1)\n",
            "Requirement already satisfied: fonttools>=4.22.0 in /usr/local/lib/python3.10/dist-packages (from matplotlib->catboost) (4.44.3)\n",
            "Requirement already satisfied: kiwisolver>=1.0.1 in /usr/local/lib/python3.10/dist-packages (from matplotlib->catboost) (1.4.5)\n",
            "Requirement already satisfied: packaging>=20.0 in /usr/local/lib/python3.10/dist-packages (from matplotlib->catboost) (23.2)\n",
            "Requirement already satisfied: pillow>=6.2.0 in /usr/local/lib/python3.10/dist-packages (from matplotlib->catboost) (9.4.0)\n",
            "Requirement already satisfied: pyparsing>=2.3.1 in /usr/local/lib/python3.10/dist-packages (from matplotlib->catboost) (3.1.1)\n",
            "Requirement already satisfied: tenacity>=6.2.0 in /usr/local/lib/python3.10/dist-packages (from plotly->catboost) (8.2.3)\n",
            "Installing collected packages: catboost\n",
            "Successfully installed catboost-1.2.2\n"
          ]
        }
      ]
    },
    {
      "cell_type": "code",
      "source": [
        "# catboost for classification\n",
        "from numpy import mean\n",
        "from numpy import std\n",
        "from sklearn.datasets import make_classification\n",
        "from catboost import CatBoostClassifier\n",
        "from sklearn.model_selection import cross_val_score\n",
        "from sklearn.model_selection import RepeatedStratifiedKFold\n",
        "from matplotlib import pyplot\n",
        "\n",
        "# define dataset\n",
        "X, y = make_classification(n_samples=1000, n_features=10, n_informative=5, n_redundant=5, random_state=1)\n",
        "\n",
        "# evaluate the model\n",
        "model = CatBoostClassifier(verbose=0, n_estimators=100)\n",
        "cv = RepeatedStratifiedKFold(n_splits=10, n_repeats=3, random_state=1)\n",
        "n_scores = cross_val_score(model, X, y, scoring='accuracy', cv=cv, n_jobs=-1, error_score='raise')\n",
        "print('Accuracy: %.3f (%.3f)' % (mean(n_scores), std(n_scores)))\n",
        "\n",
        "# fit\n",
        "model = CatBoostClassifier(verbose=0, n_estimators=100)\n",
        "model.fit(X, y)\n",
        "\n",
        "# prediction\n",
        "row = [[2.56999479, -0.13019997, 3.16075093, -4.35936352, -1.61271951, -1.39352057, -2.48924933, -1.93094078, 3.26130366, 2.05692145]]\n",
        "yhat = model.predict(row)\n",
        "print('Prediction: %d' % yhat)\n"
      ],
      "metadata": {
        "colab": {
          "base_uri": "https://localhost:8080/"
        },
        "id": "SYKkp3PW1ac5",
        "outputId": "29e5639e-2592-4975-b8b6-d4826797613e"
      },
      "execution_count": null,
      "outputs": [
        {
          "output_type": "stream",
          "name": "stdout",
          "text": [
            "Accuracy: 0.925 (0.025)\n",
            "Prediction: 1\n"
          ]
        }
      ]
    },
    {
      "cell_type": "markdown",
      "source": [
        "### 6. Adaboost, Gradient Boosting, XGBoost 비교\n",
        "\n"
      ],
      "metadata": {
        "id": "HabgfWsn_9qU"
      }
    },
    {
      "cell_type": "code",
      "source": [
        "import pandas as pd\n",
        "import numpy as np\n",
        "import matplotlib.pyplot as plt\n",
        "import warnings\n",
        "warnings.filterwarnings('ignore')\n",
        "\n",
        "from sklearn.datasets import load_iris"
      ],
      "metadata": {
        "id": "Vm_ksOulOYmA"
      },
      "execution_count": null,
      "outputs": []
    },
    {
      "cell_type": "code",
      "source": [
        "iris = load_iris()\n",
        "df = pd.DataFrame(iris.data, columns=iris.feature_names)\n",
        "df['species'] = [iris.target_names[x] for x in iris.target]\n",
        "\n",
        "X2 = df.drop('species', axis=1)\n",
        "y2 = df['species']\n"
      ],
      "metadata": {
        "id": "RXgH6FT3Ohes"
      },
      "execution_count": null,
      "outputs": []
    },
    {
      "cell_type": "markdown",
      "source": [
        "### 1. Adaboost\n"
      ],
      "metadata": {
        "id": "UhCvci_lNb_4"
      }
    },
    {
      "cell_type": "code",
      "source": [
        "from sklearn.tree import DecisionTreeClassifier, DecisionTreeRegressor\n",
        "from sklearn.tree import plot_tree\n",
        "from sklearn.ensemble import AdaBoostClassifier, AdaBoostRegressor\n",
        "\n",
        "clf = AdaBoostClassifier( n_estimators=5, learning_rate=0.5, random_state=100).fit(X,y)\n",
        "clf = AdaBoostClassifier( base_estimator=DecisionTreeClassifier(max_depth=1, min_samples_leaf=10),#base_estimator를 변경할 수 있음\n",
        "            n_estimators=5,  learning_rate=0.5, random_state=100 ).fit(X,y)"
      ],
      "metadata": {
        "id": "mYTxlVaDNgh4"
      },
      "execution_count": null,
      "outputs": []
    },
    {
      "cell_type": "code",
      "source": [
        "#iris로 테스트\n",
        "clf = AdaBoostClassifier( base_estimator=DecisionTreeClassifier(max_depth=1, min_samples_leaf=10),#base_estimator를 변경할 수 있음\n",
        "            n_estimators=5,  learning_rate=0.5, random_state=100).fit(X2,y2)"
      ],
      "metadata": {
        "id": "_ELLykCtP01-"
      },
      "execution_count": null,
      "outputs": []
    },
    {
      "cell_type": "code",
      "source": [
        "## 예측\n",
        "print(clf.predict(X2)[:3])\n",
        "\n",
        "## 변수 중요도\n",
        "for i, col in enumerate(X2.columns):\n",
        "    print(f'{col} Importance : {clf.feature_importances_[i]}')\n",
        "\n",
        "print(clf.get_params())\n",
        "print('Accuracy : ', clf.score(X2,y2))\n"
      ],
      "metadata": {
        "colab": {
          "base_uri": "https://localhost:8080/"
        },
        "id": "lyi304NdOFK0",
        "outputId": "addea29a-c136-417a-9f8e-49fd35c4f89c"
      },
      "execution_count": null,
      "outputs": [
        {
          "output_type": "stream",
          "name": "stdout",
          "text": [
            "['setosa' 'setosa' 'setosa']\n",
            "sepal length (cm) Importance : 0.0\n",
            "sepal width (cm) Importance : 0.0\n",
            "petal length (cm) Importance : 0.4\n",
            "petal width (cm) Importance : 0.6\n",
            "{'algorithm': 'SAMME.R', 'base_estimator__ccp_alpha': 0.0, 'base_estimator__class_weight': None, 'base_estimator__criterion': 'gini', 'base_estimator__max_depth': 1, 'base_estimator__max_features': None, 'base_estimator__max_leaf_nodes': None, 'base_estimator__min_impurity_decrease': 0.0, 'base_estimator__min_samples_leaf': 10, 'base_estimator__min_samples_split': 2, 'base_estimator__min_weight_fraction_leaf': 0.0, 'base_estimator__random_state': None, 'base_estimator__splitter': 'best', 'base_estimator': DecisionTreeClassifier(max_depth=1, min_samples_leaf=10), 'estimator': None, 'learning_rate': 0.5, 'n_estimators': 5, 'random_state': 100}\n",
            "Accuracy :  0.9533333333333334\n"
          ]
        }
      ]
    },
    {
      "cell_type": "code",
      "source": [
        "for i in range(len(clf.estimators_)):\n",
        "    ind_est = clf.estimators_[i]\n",
        "    col_idx = ind_est.tree_.feature[0]\n",
        "    print(X2.columns[col_idx]) ## 루트 노드에서의 분리 변수\n"
      ],
      "metadata": {
        "colab": {
          "base_uri": "https://localhost:8080/"
        },
        "id": "1AssOibHOI6s",
        "outputId": "4ecca13f-177b-4ab1-9af7-beed6e5cd250"
      },
      "execution_count": null,
      "outputs": [
        {
          "output_type": "stream",
          "name": "stdout",
          "text": [
            "petal width (cm)\n",
            "petal width (cm)\n",
            "petal length (cm)\n",
            "petal width (cm)\n",
            "petal length (cm)\n"
          ]
        }
      ]
    },
    {
      "cell_type": "code",
      "source": [
        "n_estimator = len(clf.estimators_)\n",
        "fig = plt.figure(figsize=(10, 15), facecolor='white')\n",
        "\n",
        "row_num=2\n",
        "col_num=3\n",
        "for i in range(n_estimator):\n",
        "    ax = fig.add_subplot(row_num, col_num, i+1)\n",
        "    plot_tree(clf.estimators_[i],\n",
        "              feature_names=X2.columns, ## 박스에 변수 이름 표시\n",
        "              class_names=clf.classes_, ## 클래스 이름(범주 이름)\n",
        "              ax=ax\n",
        "             )\n",
        "    ax.set_title(f'{i+1} th stump')\n",
        "plt.show()"
      ],
      "metadata": {
        "colab": {
          "base_uri": "https://localhost:8080/",
          "height": 1000
        },
        "id": "vydiuXa1OLbJ",
        "outputId": "0b07820b-fbe7-429a-f5cd-a6995421087d"
      },
      "execution_count": null,
      "outputs": [
        {
          "output_type": "display_data",
          "data": {
            "text/plain": [
              "<Figure size 1000x1500 with 5 Axes>"
            ],
            "image/png": "[encoded data removed]"
          },
          "metadata": {}
        }
      ]
    },
    {
      "cell_type": "markdown",
      "source": [
        "### 2. Gradient Boosting"
      ],
      "metadata": {
        "id": "ukAtUtcZ_9qX"
      }
    },
    {
      "cell_type": "code",
      "source": [
        "# gradient boosting for classification\n",
        "from numpy import mean\n",
        "from numpy import std\n",
        "from sklearn.ensemble import GradientBoostingClassifier\n",
        "from matplotlib import pyplot\n",
        "\n",
        "#피팅\n",
        "model = GradientBoostingClassifier().fit(X, y)\n",
        "\n",
        "# 10개값을 갖는 한 개의 X 샘플에 대한 범주 예측\n",
        "row = [[2.56999479, -0.13019997, 3.16075093, -4.35936352, -1.61271951, -1.39352057, -2.48924933, -1.93094078, 3.26130366, 2.05692145]]\n",
        "yhat = model.predict(row)\n",
        "print('Prediction: %d' % yhat)"
      ],
      "metadata": {
        "colab": {
          "base_uri": "https://localhost:8080/"
        },
        "outputId": "d220986e-69f2-48d1-bce9-4fd651f58081",
        "id": "sLCxd8OA_9qX"
      },
      "execution_count": null,
      "outputs": [
        {
          "output_type": "stream",
          "name": "stdout",
          "text": [
            "Prediction: 1\n"
          ]
        }
      ]
    },
    {
      "cell_type": "code",
      "source": [
        "#피팅\n",
        "model = GradientBoostingClassifier(n_estimators=100, max_depth=3).fit(X2, y2)"
      ],
      "metadata": {
        "id": "fxTCNWX9RLSx"
      },
      "execution_count": null,
      "outputs": []
    },
    {
      "cell_type": "code",
      "source": [
        "## 예측\n",
        "print(model.predict(X2)[:3])\n",
        "\n",
        "## 변수 중요도\n",
        "for i, col in enumerate(X2.columns):\n",
        "    print(f'{col} Importance : {model.feature_importances_[i]}')\n",
        "\n",
        "print(model.get_params())\n",
        "print('Accuracy : ', model.score(X2,y2))\n"
      ],
      "metadata": {
        "colab": {
          "base_uri": "https://localhost:8080/"
        },
        "id": "tdN6oA1cRU0Z",
        "outputId": "97d8a069-886f-4b6c-dabb-eec0e7b4955e"
      },
      "execution_count": null,
      "outputs": [
        {
          "output_type": "stream",
          "name": "stdout",
          "text": [
            "['setosa' 'setosa' 'setosa']\n",
            "sepal length (cm) Importance : 0.006315103633581773\n",
            "sepal width (cm) Importance : 0.010349924418462152\n",
            "petal length (cm) Importance : 0.35015125740533776\n",
            "petal width (cm) Importance : 0.6331837145426182\n",
            "{'ccp_alpha': 0.0, 'criterion': 'friedman_mse', 'init': None, 'learning_rate': 0.1, 'loss': 'log_loss', 'max_depth': 3, 'max_features': None, 'max_leaf_nodes': None, 'min_impurity_decrease': 0.0, 'min_samples_leaf': 1, 'min_samples_split': 2, 'min_weight_fraction_leaf': 0.0, 'n_estimators': 100, 'n_iter_no_change': None, 'random_state': None, 'subsample': 1.0, 'tol': 0.0001, 'validation_fraction': 0.1, 'verbose': 0, 'warm_start': False}\n",
            "Accuracy :  1.0\n"
          ]
        }
      ]
    },
    {
      "cell_type": "markdown",
      "source": [
        "### 3.Gradient Boosting With XGBoost\n",
        "- Extreme Gradient Boosting을 의미하며, sklearn 대신 xgboost 라이브러리 이용\n",
        "- 계산 효율성을 높이며, 성능도 개선\n",
        "- colab에 설치되어 있으며 필요 시 !pip install xgboost\n"
      ],
      "metadata": {
        "id": "yseFVGYJ_9qX"
      }
    },
    {
      "cell_type": "code",
      "source": [
        "# 분류, xgboost for classification\n",
        "from numpy import asarray\n",
        "from xgboost import XGBClassifier\n",
        "\n",
        "# fit\n",
        "model = XGBClassifier().fit(X, y)\n",
        "\n",
        "# prediction\n",
        "row = [2.56999479, -0.13019997, 3.16075093, -4.35936352, -1.61271951, -1.39352057, -2.48924933, -1.93094078, 3.26130366, 2.05692145]\n",
        "row = asarray(row).reshape((1, len(row)))\n",
        "yhat = model.predict(row)\n",
        "print('Prediction: %d' % yhat)"
      ],
      "metadata": {
        "colab": {
          "base_uri": "https://localhost:8080/"
        },
        "outputId": "22499509-b595-4171-fdb5-f2ae50c23a30",
        "id": "dpHgB5XK_9qX"
      },
      "execution_count": null,
      "outputs": [
        {
          "output_type": "stream",
          "name": "stdout",
          "text": [
            "Prediction: 1\n"
          ]
        }
      ]
    },
    {
      "cell_type": "code",
      "source": [
        "# fit\n",
        "y2_1 = pd.get_dummies(y2)\n",
        "model = XGBClassifier().fit(X2, y2_1)\n",
        "model.score(X2, y2_1)"
      ],
      "metadata": {
        "colab": {
          "base_uri": "https://localhost:8080/"
        },
        "id": "zh_LSwhM-7Xg",
        "outputId": "c1bdf030-8d3d-484a-b000-ff1cc0dbe120"
      },
      "execution_count": null,
      "outputs": [
        {
          "output_type": "execute_result",
          "data": {
            "text/plain": [
              "1.0"
            ]
          },
          "metadata": {},
          "execution_count": 22
        }
      ]
    }
  ]
}