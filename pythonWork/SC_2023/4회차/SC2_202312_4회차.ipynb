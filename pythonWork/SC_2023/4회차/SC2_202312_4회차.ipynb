{
  "nbformat": 4,
  "nbformat_minor": 0,
  "metadata": {
    "colab": {
      "provenance": []
    },
    "kernelspec": {
      "name": "python3",
      "display_name": "Python 3"
    },
    "language_info": {
      "name": "python"
    },
    "widgets": {
      "application/vnd.jupyter.widget-state+json": {
        "70ee12b2c02d437cbd770c471abaf5ec": {
          "model_module": "@jupyter-widgets/controls",
          "model_name": "HBoxModel",
          "model_module_version": "1.5.0",
          "state": {
            "_dom_classes": [],
            "_model_module": "@jupyter-widgets/controls",
            "_model_module_version": "1.5.0",
            "_model_name": "HBoxModel",
            "_view_count": null,
            "_view_module": "@jupyter-widgets/controls",
            "_view_module_version": "1.5.0",
            "_view_name": "HBoxView",
            "box_style": "",
            "children": [
              "IPY_MODEL_0a3f56d49e0949c0ae732f87542a6feb",
              "IPY_MODEL_6a8f9265a9564b12837eb8f51684a2e7",
              "IPY_MODEL_55089a680c2b4ebd82fe6fb5085544d9"
            ],
            "layout": "IPY_MODEL_8d2aa60c7e6f4579b5e243679045bd40"
          }
        },
        "0a3f56d49e0949c0ae732f87542a6feb": {
          "model_module": "@jupyter-widgets/controls",
          "model_name": "HTMLModel",
          "model_module_version": "1.5.0",
          "state": {
            "_dom_classes": [],
            "_model_module": "@jupyter-widgets/controls",
            "_model_module_version": "1.5.0",
            "_model_name": "HTMLModel",
            "_view_count": null,
            "_view_module": "@jupyter-widgets/controls",
            "_view_module_version": "1.5.0",
            "_view_name": "HTMLView",
            "description": "",
            "description_tooltip": null,
            "layout": "IPY_MODEL_300458b995f34c5ca6c9a173fd413a3e",
            "placeholder": "​",
            "style": "IPY_MODEL_37c0bb88db06477f93dcd908913688a0",
            "value": "Processing: 100%"
          }
        },
        "6a8f9265a9564b12837eb8f51684a2e7": {
          "model_module": "@jupyter-widgets/controls",
          "model_name": "FloatProgressModel",
          "model_module_version": "1.5.0",
          "state": {
            "_dom_classes": [],
            "_model_module": "@jupyter-widgets/controls",
            "_model_module_version": "1.5.0",
            "_model_name": "FloatProgressModel",
            "_view_count": null,
            "_view_module": "@jupyter-widgets/controls",
            "_view_module_version": "1.5.0",
            "_view_name": "ProgressView",
            "bar_style": "",
            "description": "",
            "description_tooltip": null,
            "layout": "IPY_MODEL_a213ce5fe0a040f6930c94ef594e4edf",
            "max": 67,
            "min": 0,
            "orientation": "horizontal",
            "style": "IPY_MODEL_421f143ac6ba40f5b373746d6528e59f",
            "value": 67
          }
        },
        "55089a680c2b4ebd82fe6fb5085544d9": {
          "model_module": "@jupyter-widgets/controls",
          "model_name": "HTMLModel",
          "model_module_version": "1.5.0",
          "state": {
            "_dom_classes": [],
            "_model_module": "@jupyter-widgets/controls",
            "_model_module_version": "1.5.0",
            "_model_name": "HTMLModel",
            "_view_count": null,
            "_view_module": "@jupyter-widgets/controls",
            "_view_module_version": "1.5.0",
            "_view_name": "HTMLView",
            "description": "",
            "description_tooltip": null,
            "layout": "IPY_MODEL_d73d52c6f3df4dc8887385cac2b6df3e",
            "placeholder": "​",
            "style": "IPY_MODEL_c6be4443f6234b64b1737a5afbac96b3",
            "value": " 67/67 [00:24&lt;00:00,  3.06it/s]"
          }
        },
        "8d2aa60c7e6f4579b5e243679045bd40": {
          "model_module": "@jupyter-widgets/base",
          "model_name": "LayoutModel",
          "model_module_version": "1.2.0",
          "state": {
            "_model_module": "@jupyter-widgets/base",
            "_model_module_version": "1.2.0",
            "_model_name": "LayoutModel",
            "_view_count": null,
            "_view_module": "@jupyter-widgets/base",
            "_view_module_version": "1.2.0",
            "_view_name": "LayoutView",
            "align_content": null,
            "align_items": null,
            "align_self": null,
            "border": null,
            "bottom": null,
            "display": null,
            "flex": null,
            "flex_flow": null,
            "grid_area": null,
            "grid_auto_columns": null,
            "grid_auto_flow": null,
            "grid_auto_rows": null,
            "grid_column": null,
            "grid_gap": null,
            "grid_row": null,
            "grid_template_areas": null,
            "grid_template_columns": null,
            "grid_template_rows": null,
            "height": null,
            "justify_content": null,
            "justify_items": null,
            "left": null,
            "margin": null,
            "max_height": null,
            "max_width": null,
            "min_height": null,
            "min_width": null,
            "object_fit": null,
            "object_position": null,
            "order": null,
            "overflow": null,
            "overflow_x": null,
            "overflow_y": null,
            "padding": null,
            "right": null,
            "top": null,
            "visibility": "hidden",
            "width": null
          }
        },
        "300458b995f34c5ca6c9a173fd413a3e": {
          "model_module": "@jupyter-widgets/base",
          "model_name": "LayoutModel",
          "model_module_version": "1.2.0",
          "state": {
            "_model_module": "@jupyter-widgets/base",
            "_model_module_version": "1.2.0",
            "_model_name": "LayoutModel",
            "_view_count": null,
            "_view_module": "@jupyter-widgets/base",
            "_view_module_version": "1.2.0",
            "_view_name": "LayoutView",
            "align_content": null,
            "align_items": null,
            "align_self": null,
            "border": null,
            "bottom": null,
            "display": null,
            "flex": null,
            "flex_flow": null,
            "grid_area": null,
            "grid_auto_columns": null,
            "grid_auto_flow": null,
            "grid_auto_rows": null,
            "grid_column": null,
            "grid_gap": null,
            "grid_row": null,
            "grid_template_areas": null,
            "grid_template_columns": null,
            "grid_template_rows": null,
            "height": null,
            "justify_content": null,
            "justify_items": null,
            "left": null,
            "margin": null,
            "max_height": null,
            "max_width": null,
            "min_height": null,
            "min_width": null,
            "object_fit": null,
            "object_position": null,
            "order": null,
            "overflow": null,
            "overflow_x": null,
            "overflow_y": null,
            "padding": null,
            "right": null,
            "top": null,
            "visibility": null,
            "width": null
          }
        },
        "37c0bb88db06477f93dcd908913688a0": {
          "model_module": "@jupyter-widgets/controls",
          "model_name": "DescriptionStyleModel",
          "model_module_version": "1.5.0",
          "state": {
            "_model_module": "@jupyter-widgets/controls",
            "_model_module_version": "1.5.0",
            "_model_name": "DescriptionStyleModel",
            "_view_count": null,
            "_view_module": "@jupyter-widgets/base",
            "_view_module_version": "1.2.0",
            "_view_name": "StyleView",
            "description_width": ""
          }
        },
        "a213ce5fe0a040f6930c94ef594e4edf": {
          "model_module": "@jupyter-widgets/base",
          "model_name": "LayoutModel",
          "model_module_version": "1.2.0",
          "state": {
            "_model_module": "@jupyter-widgets/base",
            "_model_module_version": "1.2.0",
            "_model_name": "LayoutModel",
            "_view_count": null,
            "_view_module": "@jupyter-widgets/base",
            "_view_module_version": "1.2.0",
            "_view_name": "LayoutView",
            "align_content": null,
            "align_items": null,
            "align_self": null,
            "border": null,
            "bottom": null,
            "display": null,
            "flex": null,
            "flex_flow": null,
            "grid_area": null,
            "grid_auto_columns": null,
            "grid_auto_flow": null,
            "grid_auto_rows": null,
            "grid_column": null,
            "grid_gap": null,
            "grid_row": null,
            "grid_template_areas": null,
            "grid_template_columns": null,
            "grid_template_rows": null,
            "height": null,
            "justify_content": null,
            "justify_items": null,
            "left": null,
            "margin": null,
            "max_height": null,
            "max_width": null,
            "min_height": null,
            "min_width": null,
            "object_fit": null,
            "object_position": null,
            "order": null,
            "overflow": null,
            "overflow_x": null,
            "overflow_y": null,
            "padding": null,
            "right": null,
            "top": null,
            "visibility": null,
            "width": null
          }
        },
        "421f143ac6ba40f5b373746d6528e59f": {
          "model_module": "@jupyter-widgets/controls",
          "model_name": "ProgressStyleModel",
          "model_module_version": "1.5.0",
          "state": {
            "_model_module": "@jupyter-widgets/controls",
            "_model_module_version": "1.5.0",
            "_model_name": "ProgressStyleModel",
            "_view_count": null,
            "_view_module": "@jupyter-widgets/base",
            "_view_module_version": "1.2.0",
            "_view_name": "StyleView",
            "bar_color": null,
            "description_width": ""
          }
        },
        "d73d52c6f3df4dc8887385cac2b6df3e": {
          "model_module": "@jupyter-widgets/base",
          "model_name": "LayoutModel",
          "model_module_version": "1.2.0",
          "state": {
            "_model_module": "@jupyter-widgets/base",
            "_model_module_version": "1.2.0",
            "_model_name": "LayoutModel",
            "_view_count": null,
            "_view_module": "@jupyter-widgets/base",
            "_view_module_version": "1.2.0",
            "_view_name": "LayoutView",
            "align_content": null,
            "align_items": null,
            "align_self": null,
            "border": null,
            "bottom": null,
            "display": null,
            "flex": null,
            "flex_flow": null,
            "grid_area": null,
            "grid_auto_columns": null,
            "grid_auto_flow": null,
            "grid_auto_rows": null,
            "grid_column": null,
            "grid_gap": null,
            "grid_row": null,
            "grid_template_areas": null,
            "grid_template_columns": null,
            "grid_template_rows": null,
            "height": null,
            "justify_content": null,
            "justify_items": null,
            "left": null,
            "margin": null,
            "max_height": null,
            "max_width": null,
            "min_height": null,
            "min_width": null,
            "object_fit": null,
            "object_position": null,
            "order": null,
            "overflow": null,
            "overflow_x": null,
            "overflow_y": null,
            "padding": null,
            "right": null,
            "top": null,
            "visibility": null,
            "width": null
          }
        },
        "c6be4443f6234b64b1737a5afbac96b3": {
          "model_module": "@jupyter-widgets/controls",
          "model_name": "DescriptionStyleModel",
          "model_module_version": "1.5.0",
          "state": {
            "_model_module": "@jupyter-widgets/controls",
            "_model_module_version": "1.5.0",
            "_model_name": "DescriptionStyleModel",
            "_view_count": null,
            "_view_module": "@jupyter-widgets/base",
            "_view_module_version": "1.2.0",
            "_view_name": "StyleView",
            "description_width": ""
          }
        },
        "7ee672757fe34887bf32f7f51a5765ff": {
          "model_module": "@jupyter-widgets/controls",
          "model_name": "HBoxModel",
          "model_module_version": "1.5.0",
          "state": {
            "_dom_classes": [],
            "_model_module": "@jupyter-widgets/controls",
            "_model_module_version": "1.5.0",
            "_model_name": "HBoxModel",
            "_view_count": null,
            "_view_module": "@jupyter-widgets/controls",
            "_view_module_version": "1.5.0",
            "_view_name": "HBoxView",
            "box_style": "",
            "children": [
              "IPY_MODEL_c97867c09ac047709b8eacc147dc5d43",
              "IPY_MODEL_1b71a659fa1b4aa2909bda2168b6d32b",
              "IPY_MODEL_2180bbac45114cc4aa2b20caa1ad251f"
            ],
            "layout": "IPY_MODEL_ae9c11eb29234b9c96a8b56633d896ef"
          }
        },
        "c97867c09ac047709b8eacc147dc5d43": {
          "model_module": "@jupyter-widgets/controls",
          "model_name": "HTMLModel",
          "model_module_version": "1.5.0",
          "state": {
            "_dom_classes": [],
            "_model_module": "@jupyter-widgets/controls",
            "_model_module_version": "1.5.0",
            "_model_name": "HTMLModel",
            "_view_count": null,
            "_view_module": "@jupyter-widgets/controls",
            "_view_module_version": "1.5.0",
            "_view_name": "HTMLView",
            "description": "",
            "description_tooltip": null,
            "layout": "IPY_MODEL_41a65cc9de3f45a8ae02e8d22742193a",
            "placeholder": "​",
            "style": "IPY_MODEL_09740cc7ecc94aac893bb8966126dfd7",
            "value": "Processing:  86%"
          }
        },
        "1b71a659fa1b4aa2909bda2168b6d32b": {
          "model_module": "@jupyter-widgets/controls",
          "model_name": "FloatProgressModel",
          "model_module_version": "1.5.0",
          "state": {
            "_dom_classes": [],
            "_model_module": "@jupyter-widgets/controls",
            "_model_module_version": "1.5.0",
            "_model_name": "FloatProgressModel",
            "_view_count": null,
            "_view_module": "@jupyter-widgets/controls",
            "_view_module_version": "1.5.0",
            "_view_name": "ProgressView",
            "bar_style": "",
            "description": "",
            "description_tooltip": null,
            "layout": "IPY_MODEL_4e890114d32549d48a727c155a915820",
            "max": 7,
            "min": 0,
            "orientation": "horizontal",
            "style": "IPY_MODEL_bf0c0880239b4fcdbe150600290559b2",
            "value": 7
          }
        },
        "2180bbac45114cc4aa2b20caa1ad251f": {
          "model_module": "@jupyter-widgets/controls",
          "model_name": "HTMLModel",
          "model_module_version": "1.5.0",
          "state": {
            "_dom_classes": [],
            "_model_module": "@jupyter-widgets/controls",
            "_model_module_version": "1.5.0",
            "_model_name": "HTMLModel",
            "_view_count": null,
            "_view_module": "@jupyter-widgets/controls",
            "_view_module_version": "1.5.0",
            "_view_name": "HTMLView",
            "description": "",
            "description_tooltip": null,
            "layout": "IPY_MODEL_9c082f03993041a99055d242d2157577",
            "placeholder": "​",
            "style": "IPY_MODEL_be9753abe96c40178a3e6f769610de09",
            "value": " 6/7 [00:13&lt;00:02,  2.10s/it]"
          }
        },
        "ae9c11eb29234b9c96a8b56633d896ef": {
          "model_module": "@jupyter-widgets/base",
          "model_name": "LayoutModel",
          "model_module_version": "1.2.0",
          "state": {
            "_model_module": "@jupyter-widgets/base",
            "_model_module_version": "1.2.0",
            "_model_name": "LayoutModel",
            "_view_count": null,
            "_view_module": "@jupyter-widgets/base",
            "_view_module_version": "1.2.0",
            "_view_name": "LayoutView",
            "align_content": null,
            "align_items": null,
            "align_self": null,
            "border": null,
            "bottom": null,
            "display": null,
            "flex": null,
            "flex_flow": null,
            "grid_area": null,
            "grid_auto_columns": null,
            "grid_auto_flow": null,
            "grid_auto_rows": null,
            "grid_column": null,
            "grid_gap": null,
            "grid_row": null,
            "grid_template_areas": null,
            "grid_template_columns": null,
            "grid_template_rows": null,
            "height": null,
            "justify_content": null,
            "justify_items": null,
            "left": null,
            "margin": null,
            "max_height": null,
            "max_width": null,
            "min_height": null,
            "min_width": null,
            "object_fit": null,
            "object_position": null,
            "order": null,
            "overflow": null,
            "overflow_x": null,
            "overflow_y": null,
            "padding": null,
            "right": null,
            "top": null,
            "visibility": "hidden",
            "width": null
          }
        },
        "41a65cc9de3f45a8ae02e8d22742193a": {
          "model_module": "@jupyter-widgets/base",
          "model_name": "LayoutModel",
          "model_module_version": "1.2.0",
          "state": {
            "_model_module": "@jupyter-widgets/base",
            "_model_module_version": "1.2.0",
            "_model_name": "LayoutModel",
            "_view_count": null,
            "_view_module": "@jupyter-widgets/base",
            "_view_module_version": "1.2.0",
            "_view_name": "LayoutView",
            "align_content": null,
            "align_items": null,
            "align_self": null,
            "border": null,
            "bottom": null,
            "display": null,
            "flex": null,
            "flex_flow": null,
            "grid_area": null,
            "grid_auto_columns": null,
            "grid_auto_flow": null,
            "grid_auto_rows": null,
            "grid_column": null,
            "grid_gap": null,
            "grid_row": null,
            "grid_template_areas": null,
            "grid_template_columns": null,
            "grid_template_rows": null,
            "height": null,
            "justify_content": null,
            "justify_items": null,
            "left": null,
            "margin": null,
            "max_height": null,
            "max_width": null,
            "min_height": null,
            "min_width": null,
            "object_fit": null,
            "object_position": null,
            "order": null,
            "overflow": null,
            "overflow_x": null,
            "overflow_y": null,
            "padding": null,
            "right": null,
            "top": null,
            "visibility": null,
            "width": null
          }
        },
        "09740cc7ecc94aac893bb8966126dfd7": {
          "model_module": "@jupyter-widgets/controls",
          "model_name": "DescriptionStyleModel",
          "model_module_version": "1.5.0",
          "state": {
            "_model_module": "@jupyter-widgets/controls",
            "_model_module_version": "1.5.0",
            "_model_name": "DescriptionStyleModel",
            "_view_count": null,
            "_view_module": "@jupyter-widgets/base",
            "_view_module_version": "1.2.0",
            "_view_name": "StyleView",
            "description_width": ""
          }
        },
        "4e890114d32549d48a727c155a915820": {
          "model_module": "@jupyter-widgets/base",
          "model_name": "LayoutModel",
          "model_module_version": "1.2.0",
          "state": {
            "_model_module": "@jupyter-widgets/base",
            "_model_module_version": "1.2.0",
            "_model_name": "LayoutModel",
            "_view_count": null,
            "_view_module": "@jupyter-widgets/base",
            "_view_module_version": "1.2.0",
            "_view_name": "LayoutView",
            "align_content": null,
            "align_items": null,
            "align_self": null,
            "border": null,
            "bottom": null,
            "display": null,
            "flex": null,
            "flex_flow": null,
            "grid_area": null,
            "grid_auto_columns": null,
            "grid_auto_flow": null,
            "grid_auto_rows": null,
            "grid_column": null,
            "grid_gap": null,
            "grid_row": null,
            "grid_template_areas": null,
            "grid_template_columns": null,
            "grid_template_rows": null,
            "height": null,
            "justify_content": null,
            "justify_items": null,
            "left": null,
            "margin": null,
            "max_height": null,
            "max_width": null,
            "min_height": null,
            "min_width": null,
            "object_fit": null,
            "object_position": null,
            "order": null,
            "overflow": null,
            "overflow_x": null,
            "overflow_y": null,
            "padding": null,
            "right": null,
            "top": null,
            "visibility": null,
            "width": null
          }
        },
        "bf0c0880239b4fcdbe150600290559b2": {
          "model_module": "@jupyter-widgets/controls",
          "model_name": "ProgressStyleModel",
          "model_module_version": "1.5.0",
          "state": {
            "_model_module": "@jupyter-widgets/controls",
            "_model_module_version": "1.5.0",
            "_model_name": "ProgressStyleModel",
            "_view_count": null,
            "_view_module": "@jupyter-widgets/base",
            "_view_module_version": "1.2.0",
            "_view_name": "StyleView",
            "bar_color": null,
            "description_width": ""
          }
        },
        "9c082f03993041a99055d242d2157577": {
          "model_module": "@jupyter-widgets/base",
          "model_name": "LayoutModel",
          "model_module_version": "1.2.0",
          "state": {
            "_model_module": "@jupyter-widgets/base",
            "_model_module_version": "1.2.0",
            "_model_name": "LayoutModel",
            "_view_count": null,
            "_view_module": "@jupyter-widgets/base",
            "_view_module_version": "1.2.0",
            "_view_name": "LayoutView",
            "align_content": null,
            "align_items": null,
            "align_self": null,
            "border": null,
            "bottom": null,
            "display": null,
            "flex": null,
            "flex_flow": null,
            "grid_area": null,
            "grid_auto_columns": null,
            "grid_auto_flow": null,
            "grid_auto_rows": null,
            "grid_column": null,
            "grid_gap": null,
            "grid_row": null,
            "grid_template_areas": null,
            "grid_template_columns": null,
            "grid_template_rows": null,
            "height": null,
            "justify_content": null,
            "justify_items": null,
            "left": null,
            "margin": null,
            "max_height": null,
            "max_width": null,
            "min_height": null,
            "min_width": null,
            "object_fit": null,
            "object_position": null,
            "order": null,
            "overflow": null,
            "overflow_x": null,
            "overflow_y": null,
            "padding": null,
            "right": null,
            "top": null,
            "visibility": null,
            "width": null
          }
        },
        "be9753abe96c40178a3e6f769610de09": {
          "model_module": "@jupyter-widgets/controls",
          "model_name": "DescriptionStyleModel",
          "model_module_version": "1.5.0",
          "state": {
            "_model_module": "@jupyter-widgets/controls",
            "_model_module_version": "1.5.0",
            "_model_name": "DescriptionStyleModel",
            "_view_count": null,
            "_view_module": "@jupyter-widgets/base",
            "_view_module_version": "1.2.0",
            "_view_name": "StyleView",
            "description_width": ""
          }
        }
      }
    }
  },
  "cells": [
    {
      "cell_type": "markdown",
      "source": [
        "## 1. 분류 모형 활용 사례"
      ],
      "metadata": {
        "id": "DwF3YkqEz4c0"
      }
    },
    {
      "cell_type": "markdown",
      "source": [
        "## 2. Smote + MLP"
      ],
      "metadata": {
        "id": "zn5QudWy0ppB"
      }
    },
    {
      "cell_type": "code",
      "source": [
        "!pip install pycaret"
      ],
      "metadata": {
        "id": "hpafbdzn7dJ7"
      },
      "execution_count": null,
      "outputs": []
    },
    {
      "cell_type": "code",
      "source": [
        "!unzip caravan.zip"
      ],
      "metadata": {
        "colab": {
          "base_uri": "https://localhost:8080/"
        },
        "id": "XHPdZN1Q3ZJK",
        "outputId": "56b8d384-a7ad-402b-979c-f34892f1cd8d"
      },
      "execution_count": 2,
      "outputs": [
        {
          "output_type": "stream",
          "name": "stdout",
          "text": [
            "Archive:  caravan.zip\n",
            "  inflating: caravan.csv             \n"
          ]
        }
      ]
    },
    {
      "cell_type": "code",
      "source": [
        "import pandas as pd\n",
        "data = pd.read_csv(\"caravan.csv\")\n",
        "print( data.Purchase.value_counts() )\n",
        "\n",
        "from sklearn.model_selection import train_test_split\n",
        "from sklearn.preprocessing import StandardScaler\n",
        "\n",
        "X  = data.drop(\"Purchase\", axis=1)\n",
        "X_scaled = StandardScaler().fit_transform( X )\n",
        "y = data.Purchase\n",
        "\n",
        "X_train, X_test,y_train,y_test = train_test_split(X_scaled,y,test_size=0.2, stratify=y)"
      ],
      "metadata": {
        "colab": {
          "base_uri": "https://localhost:8080/"
        },
        "id": "HTu4rlBO0yml",
        "outputId": "d94f8115-7dbf-47f3-9024-55fe05dd0291"
      },
      "execution_count": 17,
      "outputs": [
        {
          "output_type": "stream",
          "name": "stdout",
          "text": [
            "0    5474\n",
            "1     348\n",
            "Name: Purchase, dtype: int64\n"
          ]
        }
      ]
    },
    {
      "cell_type": "code",
      "source": [
        "from imblearn.over_sampling import SMOTE\n",
        "X_train_res, y_train_res = SMOTE(sampling_strategy = 0.25).fit_resample( X_train, y_train )"
      ],
      "metadata": {
        "id": "i2AcBFJV4AXL"
      },
      "execution_count": 18,
      "outputs": []
    },
    {
      "cell_type": "code",
      "source": [
        "from sklearn.neural_network import MLPClassifier\n",
        "model = MLPClassifier( hidden_layer_sizes=(24,12 ) )\n",
        "model.fit( X_train_res, y_train_res)"
      ],
      "metadata": {
        "colab": {
          "base_uri": "https://localhost:8080/",
          "height": 74
        },
        "id": "K8Xd4tC54sTX",
        "outputId": "bde4a9f5-bcdc-4480-8195-c8a3d56b431a"
      },
      "execution_count": 19,
      "outputs": [
        {
          "output_type": "execute_result",
          "data": {
            "text/plain": [
              "MLPClassifier(hidden_layer_sizes=(24, 12))"
            ],
            "text/html": [
              "<style>#sk-container-id-1 {color: black;background-color: white;}#sk-container-id-1 pre{padding: 0;}#sk-container-id-1 div.sk-toggleable {background-color: white;}#sk-container-id-1 label.sk-toggleable__label {cursor: pointer;display: block;width: 100%;margin-bottom: 0;padding: 0.3em;box-sizing: border-box;text-align: center;}#sk-container-id-1 label.sk-toggleable__label-arrow:before {content: \"▸\";float: left;margin-right: 0.25em;color: #696969;}#sk-container-id-1 label.sk-toggleable__label-arrow:hover:before {color: black;}#sk-container-id-1 div.sk-estimator:hover label.sk-toggleable__label-arrow:before {color: black;}#sk-container-id-1 div.sk-toggleable__content {max-height: 0;max-width: 0;overflow: hidden;text-align: left;background-color: #f0f8ff;}#sk-container-id-1 div.sk-toggleable__content pre {margin: 0.2em;color: black;border-radius: 0.25em;background-color: #f0f8ff;}#sk-container-id-1 input.sk-toggleable__control:checked~div.sk-toggleable__content {max-height: 200px;max-width: 100%;overflow: auto;}#sk-container-id-1 input.sk-toggleable__control:checked~label.sk-toggleable__label-arrow:before {content: \"▾\";}#sk-container-id-1 div.sk-estimator input.sk-toggleable__control:checked~label.sk-toggleable__label {background-color: #d4ebff;}#sk-container-id-1 div.sk-label input.sk-toggleable__control:checked~label.sk-toggleable__label {background-color: #d4ebff;}#sk-container-id-1 input.sk-hidden--visually {border: 0;clip: rect(1px 1px 1px 1px);clip: rect(1px, 1px, 1px, 1px);height: 1px;margin: -1px;overflow: hidden;padding: 0;position: absolute;width: 1px;}#sk-container-id-1 div.sk-estimator {font-family: monospace;background-color: #f0f8ff;border: 1px dotted black;border-radius: 0.25em;box-sizing: border-box;margin-bottom: 0.5em;}#sk-container-id-1 div.sk-estimator:hover {background-color: #d4ebff;}#sk-container-id-1 div.sk-parallel-item::after {content: \"\";width: 100%;border-bottom: 1px solid gray;flex-grow: 1;}#sk-container-id-1 div.sk-label:hover label.sk-toggleable__label {background-color: #d4ebff;}#sk-container-id-1 div.sk-serial::before {content: \"\";position: absolute;border-left: 1px solid gray;box-sizing: border-box;top: 0;bottom: 0;left: 50%;z-index: 0;}#sk-container-id-1 div.sk-serial {display: flex;flex-direction: column;align-items: center;background-color: white;padding-right: 0.2em;padding-left: 0.2em;position: relative;}#sk-container-id-1 div.sk-item {position: relative;z-index: 1;}#sk-container-id-1 div.sk-parallel {display: flex;align-items: stretch;justify-content: center;background-color: white;position: relative;}#sk-container-id-1 div.sk-item::before, #sk-container-id-1 div.sk-parallel-item::before {content: \"\";position: absolute;border-left: 1px solid gray;box-sizing: border-box;top: 0;bottom: 0;left: 50%;z-index: -1;}#sk-container-id-1 div.sk-parallel-item {display: flex;flex-direction: column;z-index: 1;position: relative;background-color: white;}#sk-container-id-1 div.sk-parallel-item:first-child::after {align-self: flex-end;width: 50%;}#sk-container-id-1 div.sk-parallel-item:last-child::after {align-self: flex-start;width: 50%;}#sk-container-id-1 div.sk-parallel-item:only-child::after {width: 0;}#sk-container-id-1 div.sk-dashed-wrapped {border: 1px dashed gray;margin: 0 0.4em 0.5em 0.4em;box-sizing: border-box;padding-bottom: 0.4em;background-color: white;}#sk-container-id-1 div.sk-label label {font-family: monospace;font-weight: bold;display: inline-block;line-height: 1.2em;}#sk-container-id-1 div.sk-label-container {text-align: center;}#sk-container-id-1 div.sk-container {/* jupyter's `normalize.less` sets `[hidden] { display: none; }` but bootstrap.min.css set `[hidden] { display: none !important; }` so we also need the `!important` here to be able to override the default hidden behavior on the sphinx rendered scikit-learn.org. See: https://github.com/scikit-learn/scikit-learn/issues/21755 */display: inline-block !important;position: relative;}#sk-container-id-1 div.sk-text-repr-fallback {display: none;}</style><div id=\"sk-container-id-1\" class=\"sk-top-container\"><div class=\"sk-text-repr-fallback\"><pre>MLPClassifier(hidden_layer_sizes=(24, 12))</pre><b>In a Jupyter environment, please rerun this cell to show the HTML representation or trust the notebook. <br />On GitHub, the HTML representation is unable to render, please try loading this page with nbviewer.org.</b></div><div class=\"sk-container\" hidden><div class=\"sk-item\"><div class=\"sk-estimator sk-toggleable\"><input class=\"sk-toggleable__control sk-hidden--visually\" id=\"sk-estimator-id-1\" type=\"checkbox\" checked><label for=\"sk-estimator-id-1\" class=\"sk-toggleable__label sk-toggleable__label-arrow\">MLPClassifier</label><div class=\"sk-toggleable__content\"><pre>MLPClassifier(hidden_layer_sizes=(24, 12))</pre></div></div></div></div></div>"
            ]
          },
          "metadata": {},
          "execution_count": 19
        }
      ]
    },
    {
      "cell_type": "code",
      "source": [
        "from sklearn.metrics import classification_report\n",
        "print( classification_report( y_test, model.predict( X_test)) )"
      ],
      "metadata": {
        "colab": {
          "base_uri": "https://localhost:8080/"
        },
        "id": "pcu1X0No6S-t",
        "outputId": "5421b31a-af07-4839-a6cd-726aff033b71"
      },
      "execution_count": 20,
      "outputs": [
        {
          "output_type": "stream",
          "name": "stdout",
          "text": [
            "              precision    recall  f1-score   support\n",
            "\n",
            "           0       0.94      0.92      0.93      1095\n",
            "           1       0.10      0.13      0.11        70\n",
            "\n",
            "    accuracy                           0.88      1165\n",
            "   macro avg       0.52      0.53      0.52      1165\n",
            "weighted avg       0.89      0.88      0.88      1165\n",
            "\n"
          ]
        }
      ]
    },
    {
      "cell_type": "markdown",
      "source": [
        "- pycaret 비교"
      ],
      "metadata": {
        "id": "k8oKxl0k6PlP"
      }
    },
    {
      "cell_type": "code",
      "source": [
        "from pycaret.classification import *"
      ],
      "metadata": {
        "id": "AUshxfAN6x1b"
      },
      "execution_count": 7,
      "outputs": []
    },
    {
      "cell_type": "code",
      "source": [
        "tmp = pd.DataFrame(X_train_res)\n",
        "tmp[\"Purchase\"] = y_train_res"
      ],
      "metadata": {
        "id": "bBGsCHKk7KmP"
      },
      "execution_count": 22,
      "outputs": []
    },
    {
      "cell_type": "code",
      "source": [
        "clf = setup(data=tmp, target='Purchase', train_size=0.8, session_id=10, normalize=True)"
      ],
      "metadata": {
        "colab": {
          "base_uri": "https://localhost:8080/",
          "height": 707
        },
        "id": "bYULgh-j6x4V",
        "outputId": "a2d265ba-9328-4b70-c0a9-58b0f88f5750"
      },
      "execution_count": 23,
      "outputs": [
        {
          "output_type": "display_data",
          "data": {
            "text/plain": [
              "<pandas.io.formats.style.Styler at 0x7c53c1aa64d0>"
            ],
            "text/html": [
              "<style type=\"text/css\">\n",
              "#T_c4d98_row8_col1, #T_c4d98_row12_col1 {\n",
              "  background-color: lightgreen;\n",
              "}\n",
              "</style>\n",
              "<table id=\"T_c4d98\" class=\"dataframe\">\n",
              "  <thead>\n",
              "    <tr>\n",
              "      <th class=\"blank level0\" >&nbsp;</th>\n",
              "      <th id=\"T_c4d98_level0_col0\" class=\"col_heading level0 col0\" >Description</th>\n",
              "      <th id=\"T_c4d98_level0_col1\" class=\"col_heading level0 col1\" >Value</th>\n",
              "    </tr>\n",
              "  </thead>\n",
              "  <tbody>\n",
              "    <tr>\n",
              "      <th id=\"T_c4d98_level0_row0\" class=\"row_heading level0 row0\" >0</th>\n",
              "      <td id=\"T_c4d98_row0_col0\" class=\"data row0 col0\" >Session id</td>\n",
              "      <td id=\"T_c4d98_row0_col1\" class=\"data row0 col1\" >10</td>\n",
              "    </tr>\n",
              "    <tr>\n",
              "      <th id=\"T_c4d98_level0_row1\" class=\"row_heading level0 row1\" >1</th>\n",
              "      <td id=\"T_c4d98_row1_col0\" class=\"data row1 col0\" >Target</td>\n",
              "      <td id=\"T_c4d98_row1_col1\" class=\"data row1 col1\" >Purchase</td>\n",
              "    </tr>\n",
              "    <tr>\n",
              "      <th id=\"T_c4d98_level0_row2\" class=\"row_heading level0 row2\" >2</th>\n",
              "      <td id=\"T_c4d98_row2_col0\" class=\"data row2 col0\" >Target type</td>\n",
              "      <td id=\"T_c4d98_row2_col1\" class=\"data row2 col1\" >Binary</td>\n",
              "    </tr>\n",
              "    <tr>\n",
              "      <th id=\"T_c4d98_level0_row3\" class=\"row_heading level0 row3\" >3</th>\n",
              "      <td id=\"T_c4d98_row3_col0\" class=\"data row3 col0\" >Original data shape</td>\n",
              "      <td id=\"T_c4d98_row3_col1\" class=\"data row3 col1\" >(5473, 86)</td>\n",
              "    </tr>\n",
              "    <tr>\n",
              "      <th id=\"T_c4d98_level0_row4\" class=\"row_heading level0 row4\" >4</th>\n",
              "      <td id=\"T_c4d98_row4_col0\" class=\"data row4 col0\" >Transformed data shape</td>\n",
              "      <td id=\"T_c4d98_row4_col1\" class=\"data row4 col1\" >(5473, 86)</td>\n",
              "    </tr>\n",
              "    <tr>\n",
              "      <th id=\"T_c4d98_level0_row5\" class=\"row_heading level0 row5\" >5</th>\n",
              "      <td id=\"T_c4d98_row5_col0\" class=\"data row5 col0\" >Transformed train set shape</td>\n",
              "      <td id=\"T_c4d98_row5_col1\" class=\"data row5 col1\" >(4378, 86)</td>\n",
              "    </tr>\n",
              "    <tr>\n",
              "      <th id=\"T_c4d98_level0_row6\" class=\"row_heading level0 row6\" >6</th>\n",
              "      <td id=\"T_c4d98_row6_col0\" class=\"data row6 col0\" >Transformed test set shape</td>\n",
              "      <td id=\"T_c4d98_row6_col1\" class=\"data row6 col1\" >(1095, 86)</td>\n",
              "    </tr>\n",
              "    <tr>\n",
              "      <th id=\"T_c4d98_level0_row7\" class=\"row_heading level0 row7\" >7</th>\n",
              "      <td id=\"T_c4d98_row7_col0\" class=\"data row7 col0\" >Numeric features</td>\n",
              "      <td id=\"T_c4d98_row7_col1\" class=\"data row7 col1\" >85</td>\n",
              "    </tr>\n",
              "    <tr>\n",
              "      <th id=\"T_c4d98_level0_row8\" class=\"row_heading level0 row8\" >8</th>\n",
              "      <td id=\"T_c4d98_row8_col0\" class=\"data row8 col0\" >Preprocess</td>\n",
              "      <td id=\"T_c4d98_row8_col1\" class=\"data row8 col1\" >True</td>\n",
              "    </tr>\n",
              "    <tr>\n",
              "      <th id=\"T_c4d98_level0_row9\" class=\"row_heading level0 row9\" >9</th>\n",
              "      <td id=\"T_c4d98_row9_col0\" class=\"data row9 col0\" >Imputation type</td>\n",
              "      <td id=\"T_c4d98_row9_col1\" class=\"data row9 col1\" >simple</td>\n",
              "    </tr>\n",
              "    <tr>\n",
              "      <th id=\"T_c4d98_level0_row10\" class=\"row_heading level0 row10\" >10</th>\n",
              "      <td id=\"T_c4d98_row10_col0\" class=\"data row10 col0\" >Numeric imputation</td>\n",
              "      <td id=\"T_c4d98_row10_col1\" class=\"data row10 col1\" >mean</td>\n",
              "    </tr>\n",
              "    <tr>\n",
              "      <th id=\"T_c4d98_level0_row11\" class=\"row_heading level0 row11\" >11</th>\n",
              "      <td id=\"T_c4d98_row11_col0\" class=\"data row11 col0\" >Categorical imputation</td>\n",
              "      <td id=\"T_c4d98_row11_col1\" class=\"data row11 col1\" >mode</td>\n",
              "    </tr>\n",
              "    <tr>\n",
              "      <th id=\"T_c4d98_level0_row12\" class=\"row_heading level0 row12\" >12</th>\n",
              "      <td id=\"T_c4d98_row12_col0\" class=\"data row12 col0\" >Normalize</td>\n",
              "      <td id=\"T_c4d98_row12_col1\" class=\"data row12 col1\" >True</td>\n",
              "    </tr>\n",
              "    <tr>\n",
              "      <th id=\"T_c4d98_level0_row13\" class=\"row_heading level0 row13\" >13</th>\n",
              "      <td id=\"T_c4d98_row13_col0\" class=\"data row13 col0\" >Normalize method</td>\n",
              "      <td id=\"T_c4d98_row13_col1\" class=\"data row13 col1\" >zscore</td>\n",
              "    </tr>\n",
              "    <tr>\n",
              "      <th id=\"T_c4d98_level0_row14\" class=\"row_heading level0 row14\" >14</th>\n",
              "      <td id=\"T_c4d98_row14_col0\" class=\"data row14 col0\" >Fold Generator</td>\n",
              "      <td id=\"T_c4d98_row14_col1\" class=\"data row14 col1\" >StratifiedKFold</td>\n",
              "    </tr>\n",
              "    <tr>\n",
              "      <th id=\"T_c4d98_level0_row15\" class=\"row_heading level0 row15\" >15</th>\n",
              "      <td id=\"T_c4d98_row15_col0\" class=\"data row15 col0\" >Fold Number</td>\n",
              "      <td id=\"T_c4d98_row15_col1\" class=\"data row15 col1\" >10</td>\n",
              "    </tr>\n",
              "    <tr>\n",
              "      <th id=\"T_c4d98_level0_row16\" class=\"row_heading level0 row16\" >16</th>\n",
              "      <td id=\"T_c4d98_row16_col0\" class=\"data row16 col0\" >CPU Jobs</td>\n",
              "      <td id=\"T_c4d98_row16_col1\" class=\"data row16 col1\" >-1</td>\n",
              "    </tr>\n",
              "    <tr>\n",
              "      <th id=\"T_c4d98_level0_row17\" class=\"row_heading level0 row17\" >17</th>\n",
              "      <td id=\"T_c4d98_row17_col0\" class=\"data row17 col0\" >Use GPU</td>\n",
              "      <td id=\"T_c4d98_row17_col1\" class=\"data row17 col1\" >False</td>\n",
              "    </tr>\n",
              "    <tr>\n",
              "      <th id=\"T_c4d98_level0_row18\" class=\"row_heading level0 row18\" >18</th>\n",
              "      <td id=\"T_c4d98_row18_col0\" class=\"data row18 col0\" >Log Experiment</td>\n",
              "      <td id=\"T_c4d98_row18_col1\" class=\"data row18 col1\" >False</td>\n",
              "    </tr>\n",
              "    <tr>\n",
              "      <th id=\"T_c4d98_level0_row19\" class=\"row_heading level0 row19\" >19</th>\n",
              "      <td id=\"T_c4d98_row19_col0\" class=\"data row19 col0\" >Experiment Name</td>\n",
              "      <td id=\"T_c4d98_row19_col1\" class=\"data row19 col1\" >clf-default-name</td>\n",
              "    </tr>\n",
              "    <tr>\n",
              "      <th id=\"T_c4d98_level0_row20\" class=\"row_heading level0 row20\" >20</th>\n",
              "      <td id=\"T_c4d98_row20_col0\" class=\"data row20 col0\" >USI</td>\n",
              "      <td id=\"T_c4d98_row20_col1\" class=\"data row20 col1\" >49fc</td>\n",
              "    </tr>\n",
              "  </tbody>\n",
              "</table>\n"
            ]
          },
          "metadata": {}
        }
      ]
    },
    {
      "cell_type": "code",
      "source": [
        "models = compare_models(sort='Recall', n_select=3, fold=2)"
      ],
      "metadata": {
        "colab": {
          "base_uri": "https://localhost:8080/",
          "height": 519,
          "referenced_widgets": [
            "70ee12b2c02d437cbd770c471abaf5ec",
            "0a3f56d49e0949c0ae732f87542a6feb",
            "6a8f9265a9564b12837eb8f51684a2e7",
            "55089a680c2b4ebd82fe6fb5085544d9",
            "8d2aa60c7e6f4579b5e243679045bd40",
            "300458b995f34c5ca6c9a173fd413a3e",
            "37c0bb88db06477f93dcd908913688a0",
            "a213ce5fe0a040f6930c94ef594e4edf",
            "421f143ac6ba40f5b373746d6528e59f",
            "d73d52c6f3df4dc8887385cac2b6df3e",
            "c6be4443f6234b64b1737a5afbac96b3"
          ]
        },
        "id": "n_zQO4kN8Ft_",
        "outputId": "69016352-9282-4195-a631-cc0eab4365d9"
      },
      "execution_count": 24,
      "outputs": [
        {
          "output_type": "display_data",
          "data": {
            "text/plain": [
              "<IPython.core.display.HTML object>"
            ],
            "text/html": []
          },
          "metadata": {}
        },
        {
          "output_type": "display_data",
          "data": {
            "text/plain": [
              "<pandas.io.formats.style.Styler at 0x7c5423e11570>"
            ],
            "text/html": [
              "<style type=\"text/css\">\n",
              "#T_09317 th {\n",
              "  text-align: left;\n",
              "}\n",
              "#T_09317_row0_col0, #T_09317_row0_col1, #T_09317_row0_col2, #T_09317_row0_col4, #T_09317_row0_col5, #T_09317_row0_col6, #T_09317_row0_col7, #T_09317_row1_col0, #T_09317_row1_col1, #T_09317_row1_col2, #T_09317_row1_col3, #T_09317_row1_col4, #T_09317_row1_col7, #T_09317_row2_col0, #T_09317_row2_col1, #T_09317_row2_col2, #T_09317_row2_col3, #T_09317_row2_col4, #T_09317_row2_col5, #T_09317_row2_col6, #T_09317_row2_col7, #T_09317_row3_col0, #T_09317_row3_col1, #T_09317_row3_col3, #T_09317_row3_col4, #T_09317_row3_col5, #T_09317_row3_col6, #T_09317_row3_col7, #T_09317_row4_col0, #T_09317_row4_col1, #T_09317_row4_col2, #T_09317_row4_col3, #T_09317_row4_col4, #T_09317_row4_col5, #T_09317_row4_col6, #T_09317_row4_col7, #T_09317_row5_col0, #T_09317_row5_col2, #T_09317_row5_col3, #T_09317_row5_col5, #T_09317_row5_col6, #T_09317_row6_col0, #T_09317_row6_col1, #T_09317_row6_col2, #T_09317_row6_col3, #T_09317_row6_col4, #T_09317_row6_col5, #T_09317_row6_col6, #T_09317_row6_col7, #T_09317_row7_col0, #T_09317_row7_col1, #T_09317_row7_col2, #T_09317_row7_col3, #T_09317_row7_col4, #T_09317_row7_col5, #T_09317_row7_col6, #T_09317_row7_col7, #T_09317_row8_col0, #T_09317_row8_col1, #T_09317_row8_col2, #T_09317_row8_col3, #T_09317_row8_col4, #T_09317_row8_col5, #T_09317_row8_col6, #T_09317_row8_col7, #T_09317_row9_col0, #T_09317_row9_col1, #T_09317_row9_col2, #T_09317_row9_col3, #T_09317_row9_col4, #T_09317_row9_col5, #T_09317_row9_col6, #T_09317_row9_col7, #T_09317_row10_col0, #T_09317_row10_col1, #T_09317_row10_col2, #T_09317_row10_col3, #T_09317_row10_col4, #T_09317_row10_col5, #T_09317_row10_col6, #T_09317_row10_col7, #T_09317_row11_col0, #T_09317_row11_col1, #T_09317_row11_col2, #T_09317_row11_col3, #T_09317_row11_col4, #T_09317_row11_col5, #T_09317_row11_col6, #T_09317_row11_col7, #T_09317_row12_col0, #T_09317_row12_col1, #T_09317_row12_col2, #T_09317_row12_col3, #T_09317_row12_col4, #T_09317_row12_col5, #T_09317_row12_col6, #T_09317_row12_col7, #T_09317_row13_col0, #T_09317_row13_col1, #T_09317_row13_col2, #T_09317_row13_col3, #T_09317_row13_col4, #T_09317_row13_col5, #T_09317_row13_col6, #T_09317_row13_col7, #T_09317_row14_col0, #T_09317_row14_col1, #T_09317_row14_col2, #T_09317_row14_col3, #T_09317_row14_col4, #T_09317_row14_col5, #T_09317_row14_col6, #T_09317_row14_col7 {\n",
              "  text-align: left;\n",
              "}\n",
              "#T_09317_row0_col3, #T_09317_row1_col5, #T_09317_row1_col6, #T_09317_row3_col2, #T_09317_row5_col1, #T_09317_row5_col4, #T_09317_row5_col7 {\n",
              "  text-align: left;\n",
              "  background-color: yellow;\n",
              "}\n",
              "#T_09317_row0_col8, #T_09317_row1_col8, #T_09317_row2_col8, #T_09317_row3_col8, #T_09317_row4_col8, #T_09317_row5_col8, #T_09317_row6_col8, #T_09317_row7_col8, #T_09317_row8_col8, #T_09317_row9_col8, #T_09317_row10_col8, #T_09317_row11_col8, #T_09317_row12_col8, #T_09317_row13_col8 {\n",
              "  text-align: left;\n",
              "  background-color: lightgrey;\n",
              "}\n",
              "#T_09317_row14_col8 {\n",
              "  text-align: left;\n",
              "  background-color: yellow;\n",
              "  background-color: lightgrey;\n",
              "}\n",
              "</style>\n",
              "<table id=\"T_09317\" class=\"dataframe\">\n",
              "  <thead>\n",
              "    <tr>\n",
              "      <th class=\"blank level0\" >&nbsp;</th>\n",
              "      <th id=\"T_09317_level0_col0\" class=\"col_heading level0 col0\" >Model</th>\n",
              "      <th id=\"T_09317_level0_col1\" class=\"col_heading level0 col1\" >Accuracy</th>\n",
              "      <th id=\"T_09317_level0_col2\" class=\"col_heading level0 col2\" >AUC</th>\n",
              "      <th id=\"T_09317_level0_col3\" class=\"col_heading level0 col3\" >Recall</th>\n",
              "      <th id=\"T_09317_level0_col4\" class=\"col_heading level0 col4\" >Prec.</th>\n",
              "      <th id=\"T_09317_level0_col5\" class=\"col_heading level0 col5\" >F1</th>\n",
              "      <th id=\"T_09317_level0_col6\" class=\"col_heading level0 col6\" >Kappa</th>\n",
              "      <th id=\"T_09317_level0_col7\" class=\"col_heading level0 col7\" >MCC</th>\n",
              "      <th id=\"T_09317_level0_col8\" class=\"col_heading level0 col8\" >TT (Sec)</th>\n",
              "    </tr>\n",
              "  </thead>\n",
              "  <tbody>\n",
              "    <tr>\n",
              "      <th id=\"T_09317_level0_row0\" class=\"row_heading level0 row0\" >nb</th>\n",
              "      <td id=\"T_09317_row0_col0\" class=\"data row0 col0\" >Naive Bayes</td>\n",
              "      <td id=\"T_09317_row0_col1\" class=\"data row0 col1\" >0.2442</td>\n",
              "      <td id=\"T_09317_row0_col2\" class=\"data row0 col2\" >0.5489</td>\n",
              "      <td id=\"T_09317_row0_col3\" class=\"data row0 col3\" >0.9829</td>\n",
              "      <td id=\"T_09317_row0_col4\" class=\"data row0 col4\" >0.2070</td>\n",
              "      <td id=\"T_09317_row0_col5\" class=\"data row0 col5\" >0.3420</td>\n",
              "      <td id=\"T_09317_row0_col6\" class=\"data row0 col6\" >0.0177</td>\n",
              "      <td id=\"T_09317_row0_col7\" class=\"data row0 col7\" >0.0764</td>\n",
              "      <td id=\"T_09317_row0_col8\" class=\"data row0 col8\" >0.1100</td>\n",
              "    </tr>\n",
              "    <tr>\n",
              "      <th id=\"T_09317_level0_row1\" class=\"row_heading level0 row1\" >xgboost</th>\n",
              "      <td id=\"T_09317_row1_col0\" class=\"data row1 col0\" >Extreme Gradient Boosting</td>\n",
              "      <td id=\"T_09317_row1_col1\" class=\"data row1 col1\" >0.9246</td>\n",
              "      <td id=\"T_09317_row1_col2\" class=\"data row1 col2\" >0.9341</td>\n",
              "      <td id=\"T_09317_row1_col3\" class=\"data row1 col3\" >0.7360</td>\n",
              "      <td id=\"T_09317_row1_col4\" class=\"data row1 col4\" >0.8668</td>\n",
              "      <td id=\"T_09317_row1_col5\" class=\"data row1 col5\" >0.7961</td>\n",
              "      <td id=\"T_09317_row1_col6\" class=\"data row1 col6\" >0.7502</td>\n",
              "      <td id=\"T_09317_row1_col7\" class=\"data row1 col7\" >0.7540</td>\n",
              "      <td id=\"T_09317_row1_col8\" class=\"data row1 col8\" >0.7850</td>\n",
              "    </tr>\n",
              "    <tr>\n",
              "      <th id=\"T_09317_level0_row2\" class=\"row_heading level0 row2\" >knn</th>\n",
              "      <td id=\"T_09317_row2_col0\" class=\"data row2 col0\" >K Neighbors Classifier</td>\n",
              "      <td id=\"T_09317_row2_col1\" class=\"data row2 col1\" >0.7990</td>\n",
              "      <td id=\"T_09317_row2_col2\" class=\"data row2 col2\" >0.8616</td>\n",
              "      <td id=\"T_09317_row2_col3\" class=\"data row2 col3\" >0.7212</td>\n",
              "      <td id=\"T_09317_row2_col4\" class=\"data row2 col4\" >0.4992</td>\n",
              "      <td id=\"T_09317_row2_col5\" class=\"data row2 col5\" >0.5895</td>\n",
              "      <td id=\"T_09317_row2_col6\" class=\"data row2 col6\" >0.4624</td>\n",
              "      <td id=\"T_09317_row2_col7\" class=\"data row2 col7\" >0.4764</td>\n",
              "      <td id=\"T_09317_row2_col8\" class=\"data row2 col8\" >0.2600</td>\n",
              "    </tr>\n",
              "    <tr>\n",
              "      <th id=\"T_09317_level0_row3\" class=\"row_heading level0 row3\" >lightgbm</th>\n",
              "      <td id=\"T_09317_row3_col0\" class=\"data row3 col0\" >Light Gradient Boosting Machine</td>\n",
              "      <td id=\"T_09317_row3_col1\" class=\"data row3 col1\" >0.9237</td>\n",
              "      <td id=\"T_09317_row3_col2\" class=\"data row3 col2\" >0.9365</td>\n",
              "      <td id=\"T_09317_row3_col3\" class=\"data row3 col3\" >0.7211</td>\n",
              "      <td id=\"T_09317_row3_col4\" class=\"data row3 col4\" >0.8752</td>\n",
              "      <td id=\"T_09317_row3_col5\" class=\"data row3 col5\" >0.7907</td>\n",
              "      <td id=\"T_09317_row3_col6\" class=\"data row3 col6\" >0.7446</td>\n",
              "      <td id=\"T_09317_row3_col7\" class=\"data row3 col7\" >0.7498</td>\n",
              "      <td id=\"T_09317_row3_col8\" class=\"data row3 col8\" >2.5550</td>\n",
              "    </tr>\n",
              "    <tr>\n",
              "      <th id=\"T_09317_level0_row4\" class=\"row_heading level0 row4\" >dt</th>\n",
              "      <td id=\"T_09317_row4_col0\" class=\"data row4 col0\" >Decision Tree Classifier</td>\n",
              "      <td id=\"T_09317_row4_col1\" class=\"data row4 col1\" >0.8696</td>\n",
              "      <td id=\"T_09317_row4_col2\" class=\"data row4 col2\" >0.8130</td>\n",
              "      <td id=\"T_09317_row4_col3\" class=\"data row4 col3\" >0.7063</td>\n",
              "      <td id=\"T_09317_row4_col4\" class=\"data row4 col4\" >0.6631</td>\n",
              "      <td id=\"T_09317_row4_col5\" class=\"data row4 col5\" >0.6840</td>\n",
              "      <td id=\"T_09317_row4_col6\" class=\"data row4 col6\" >0.6019</td>\n",
              "      <td id=\"T_09317_row4_col7\" class=\"data row4 col7\" >0.6024</td>\n",
              "      <td id=\"T_09317_row4_col8\" class=\"data row4 col8\" >0.1400</td>\n",
              "    </tr>\n",
              "    <tr>\n",
              "      <th id=\"T_09317_level0_row5\" class=\"row_heading level0 row5\" >gbc</th>\n",
              "      <td id=\"T_09317_row5_col0\" class=\"data row5 col0\" >Gradient Boosting Classifier</td>\n",
              "      <td id=\"T_09317_row5_col1\" class=\"data row5 col1\" >0.9287</td>\n",
              "      <td id=\"T_09317_row5_col2\" class=\"data row5 col2\" >0.9348</td>\n",
              "      <td id=\"T_09317_row5_col3\" class=\"data row5 col3\" >0.6731</td>\n",
              "      <td id=\"T_09317_row5_col4\" class=\"data row5 col4\" >0.9576</td>\n",
              "      <td id=\"T_09317_row5_col5\" class=\"data row5 col5\" >0.7905</td>\n",
              "      <td id=\"T_09317_row5_col6\" class=\"data row5 col6\" >0.7492</td>\n",
              "      <td id=\"T_09317_row5_col7\" class=\"data row5 col7\" >0.7661</td>\n",
              "      <td id=\"T_09317_row5_col8\" class=\"data row5 col8\" >1.2750</td>\n",
              "    </tr>\n",
              "    <tr>\n",
              "      <th id=\"T_09317_level0_row6\" class=\"row_heading level0 row6\" >et</th>\n",
              "      <td id=\"T_09317_row6_col0\" class=\"data row6 col0\" >Extra Trees Classifier</td>\n",
              "      <td id=\"T_09317_row6_col1\" class=\"data row6 col1\" >0.9095</td>\n",
              "      <td id=\"T_09317_row6_col2\" class=\"data row6 col2\" >0.9280</td>\n",
              "      <td id=\"T_09317_row6_col3\" class=\"data row6 col3\" >0.6708</td>\n",
              "      <td id=\"T_09317_row6_col4\" class=\"data row6 col4\" >0.8445</td>\n",
              "      <td id=\"T_09317_row6_col5\" class=\"data row6 col5\" >0.7476</td>\n",
              "      <td id=\"T_09317_row6_col6\" class=\"data row6 col6\" >0.6934</td>\n",
              "      <td id=\"T_09317_row6_col7\" class=\"data row6 col7\" >0.7003</td>\n",
              "      <td id=\"T_09317_row6_col8\" class=\"data row6 col8\" >0.8650</td>\n",
              "    </tr>\n",
              "    <tr>\n",
              "      <th id=\"T_09317_level0_row7\" class=\"row_heading level0 row7\" >rf</th>\n",
              "      <td id=\"T_09317_row7_col0\" class=\"data row7 col0\" >Random Forest Classifier</td>\n",
              "      <td id=\"T_09317_row7_col1\" class=\"data row7 col1\" >0.9109</td>\n",
              "      <td id=\"T_09317_row7_col2\" class=\"data row7 col2\" >0.9338</td>\n",
              "      <td id=\"T_09317_row7_col3\" class=\"data row7 col3\" >0.6411</td>\n",
              "      <td id=\"T_09317_row7_col4\" class=\"data row7 col4\" >0.8807</td>\n",
              "      <td id=\"T_09317_row7_col5\" class=\"data row7 col5\" >0.7421</td>\n",
              "      <td id=\"T_09317_row7_col6\" class=\"data row7 col6\" >0.6898</td>\n",
              "      <td id=\"T_09317_row7_col7\" class=\"data row7 col7\" >0.7025</td>\n",
              "      <td id=\"T_09317_row7_col8\" class=\"data row7 col8\" >0.5400</td>\n",
              "    </tr>\n",
              "    <tr>\n",
              "      <th id=\"T_09317_level0_row8\" class=\"row_heading level0 row8\" >ada</th>\n",
              "      <td id=\"T_09317_row8_col0\" class=\"data row8 col0\" >Ada Boost Classifier</td>\n",
              "      <td id=\"T_09317_row8_col1\" class=\"data row8 col1\" >0.8954</td>\n",
              "      <td id=\"T_09317_row8_col2\" class=\"data row8 col2\" >0.8905</td>\n",
              "      <td id=\"T_09317_row8_col3\" class=\"data row8 col3\" >0.6263</td>\n",
              "      <td id=\"T_09317_row8_col4\" class=\"data row8 col4\" >0.8069</td>\n",
              "      <td id=\"T_09317_row8_col5\" class=\"data row8 col5\" >0.7052</td>\n",
              "      <td id=\"T_09317_row8_col6\" class=\"data row8 col6\" >0.6428</td>\n",
              "      <td id=\"T_09317_row8_col7\" class=\"data row8 col7\" >0.6505</td>\n",
              "      <td id=\"T_09317_row8_col8\" class=\"data row8 col8\" >0.3600</td>\n",
              "    </tr>\n",
              "    <tr>\n",
              "      <th id=\"T_09317_level0_row9\" class=\"row_heading level0 row9\" >svm</th>\n",
              "      <td id=\"T_09317_row9_col0\" class=\"data row9 col0\" >SVM - Linear Kernel</td>\n",
              "      <td id=\"T_09317_row9_col1\" class=\"data row9 col1\" >0.7650</td>\n",
              "      <td id=\"T_09317_row9_col2\" class=\"data row9 col2\" >0.0000</td>\n",
              "      <td id=\"T_09317_row9_col3\" class=\"data row9 col3\" >0.4320</td>\n",
              "      <td id=\"T_09317_row9_col4\" class=\"data row9 col4\" >0.4154</td>\n",
              "      <td id=\"T_09317_row9_col5\" class=\"data row9 col5\" >0.4235</td>\n",
              "      <td id=\"T_09317_row9_col6\" class=\"data row9 col6\" >0.2760</td>\n",
              "      <td id=\"T_09317_row9_col7\" class=\"data row9 col7\" >0.2761</td>\n",
              "      <td id=\"T_09317_row9_col8\" class=\"data row9 col8\" >0.1250</td>\n",
              "    </tr>\n",
              "    <tr>\n",
              "      <th id=\"T_09317_level0_row10\" class=\"row_heading level0 row10\" >lr</th>\n",
              "      <td id=\"T_09317_row10_col0\" class=\"data row10 col0\" >Logistic Regression</td>\n",
              "      <td id=\"T_09317_row10_col1\" class=\"data row10 col1\" >0.8038</td>\n",
              "      <td id=\"T_09317_row10_col2\" class=\"data row10 col2\" >0.7834</td>\n",
              "      <td id=\"T_09317_row10_col3\" class=\"data row10 col3\" >0.2457</td>\n",
              "      <td id=\"T_09317_row10_col4\" class=\"data row10 col4\" >0.5186</td>\n",
              "      <td id=\"T_09317_row10_col5\" class=\"data row10 col5\" >0.3334</td>\n",
              "      <td id=\"T_09317_row10_col6\" class=\"data row10 col6\" >0.2353</td>\n",
              "      <td id=\"T_09317_row10_col7\" class=\"data row10 col7\" >0.2579</td>\n",
              "      <td id=\"T_09317_row10_col8\" class=\"data row10 col8\" >2.7600</td>\n",
              "    </tr>\n",
              "    <tr>\n",
              "      <th id=\"T_09317_level0_row11\" class=\"row_heading level0 row11\" >lda</th>\n",
              "      <td id=\"T_09317_row11_col0\" class=\"data row11 col0\" >Linear Discriminant Analysis</td>\n",
              "      <td id=\"T_09317_row11_col1\" class=\"data row11 col1\" >0.8074</td>\n",
              "      <td id=\"T_09317_row11_col2\" class=\"data row11 col2\" >0.7852</td>\n",
              "      <td id=\"T_09317_row11_col3\" class=\"data row11 col3\" >0.2457</td>\n",
              "      <td id=\"T_09317_row11_col4\" class=\"data row11 col4\" >0.5393</td>\n",
              "      <td id=\"T_09317_row11_col5\" class=\"data row11 col5\" >0.3373</td>\n",
              "      <td id=\"T_09317_row11_col6\" class=\"data row11 col6\" >0.2429</td>\n",
              "      <td id=\"T_09317_row11_col7\" class=\"data row11 col7\" >0.2687</td>\n",
              "      <td id=\"T_09317_row11_col8\" class=\"data row11 col8\" >0.2050</td>\n",
              "    </tr>\n",
              "    <tr>\n",
              "      <th id=\"T_09317_level0_row12\" class=\"row_heading level0 row12\" >ridge</th>\n",
              "      <td id=\"T_09317_row12_col0\" class=\"data row12 col0\" >Ridge Classifier</td>\n",
              "      <td id=\"T_09317_row12_col1\" class=\"data row12 col1\" >0.8095</td>\n",
              "      <td id=\"T_09317_row12_col2\" class=\"data row12 col2\" >0.0000</td>\n",
              "      <td id=\"T_09317_row12_col3\" class=\"data row12 col3\" >0.1543</td>\n",
              "      <td id=\"T_09317_row12_col4\" class=\"data row12 col4\" >0.5919</td>\n",
              "      <td id=\"T_09317_row12_col5\" class=\"data row12 col5\" >0.2447</td>\n",
              "      <td id=\"T_09317_row12_col6\" class=\"data row12 col6\" >0.1764</td>\n",
              "      <td id=\"T_09317_row12_col7\" class=\"data row12 col7\" >0.2295</td>\n",
              "      <td id=\"T_09317_row12_col8\" class=\"data row12 col8\" >0.1100</td>\n",
              "    </tr>\n",
              "    <tr>\n",
              "      <th id=\"T_09317_level0_row13\" class=\"row_heading level0 row13\" >qda</th>\n",
              "      <td id=\"T_09317_row13_col0\" class=\"data row13 col0\" >Quadratic Discriminant Analysis</td>\n",
              "      <td id=\"T_09317_row13_col1\" class=\"data row13 col1\" >0.7988</td>\n",
              "      <td id=\"T_09317_row13_col2\" class=\"data row13 col2\" >0.5029</td>\n",
              "      <td id=\"T_09317_row13_col3\" class=\"data row13 col3\" >0.0069</td>\n",
              "      <td id=\"T_09317_row13_col4\" class=\"data row13 col4\" >0.1667</td>\n",
              "      <td id=\"T_09317_row13_col5\" class=\"data row13 col5\" >0.0132</td>\n",
              "      <td id=\"T_09317_row13_col6\" class=\"data row13 col6\" >0.0054</td>\n",
              "      <td id=\"T_09317_row13_col7\" class=\"data row13 col7\" >0.0152</td>\n",
              "      <td id=\"T_09317_row13_col8\" class=\"data row13 col8\" >0.1350</td>\n",
              "    </tr>\n",
              "    <tr>\n",
              "      <th id=\"T_09317_level0_row14\" class=\"row_heading level0 row14\" >dummy</th>\n",
              "      <td id=\"T_09317_row14_col0\" class=\"data row14 col0\" >Dummy Classifier</td>\n",
              "      <td id=\"T_09317_row14_col1\" class=\"data row14 col1\" >0.8001</td>\n",
              "      <td id=\"T_09317_row14_col2\" class=\"data row14 col2\" >0.5000</td>\n",
              "      <td id=\"T_09317_row14_col3\" class=\"data row14 col3\" >0.0000</td>\n",
              "      <td id=\"T_09317_row14_col4\" class=\"data row14 col4\" >0.0000</td>\n",
              "      <td id=\"T_09317_row14_col5\" class=\"data row14 col5\" >0.0000</td>\n",
              "      <td id=\"T_09317_row14_col6\" class=\"data row14 col6\" >0.0000</td>\n",
              "      <td id=\"T_09317_row14_col7\" class=\"data row14 col7\" >0.0000</td>\n",
              "      <td id=\"T_09317_row14_col8\" class=\"data row14 col8\" >0.1000</td>\n",
              "    </tr>\n",
              "  </tbody>\n",
              "</table>\n"
            ]
          },
          "metadata": {}
        },
        {
          "output_type": "display_data",
          "data": {
            "text/plain": [
              "Processing:   0%|          | 0/67 [00:00<?, ?it/s]"
            ],
            "application/vnd.jupyter.widget-view+json": {
              "version_major": 2,
              "version_minor": 0,
              "model_id": "70ee12b2c02d437cbd770c471abaf5ec"
            }
          },
          "metadata": {
            "application/vnd.jupyter.widget-view+json": {
              "colab": {
                "custom_widget_manager": {
                  "url": "https://ssl.gstatic.com/colaboratory-static/widgets/colab-cdn-widget-manager/b3e629b1971e1542/manager.min.js"
                }
              }
            }
          }
        },
        {
          "output_type": "display_data",
          "data": {
            "text/plain": [
              "<IPython.core.display.HTML object>"
            ],
            "text/html": []
          },
          "metadata": {}
        }
      ]
    },
    {
      "cell_type": "code",
      "source": [
        "tmp_test = pd.DataFrame(X_test)\n",
        "\n",
        "model1 = tune_model(models[2], optimize=\"Prec.\")"
      ],
      "metadata": {
        "colab": {
          "base_uri": "https://localhost:8080/",
          "height": 475,
          "referenced_widgets": [
            "7ee672757fe34887bf32f7f51a5765ff",
            "c97867c09ac047709b8eacc147dc5d43",
            "1b71a659fa1b4aa2909bda2168b6d32b",
            "2180bbac45114cc4aa2b20caa1ad251f",
            "ae9c11eb29234b9c96a8b56633d896ef",
            "41a65cc9de3f45a8ae02e8d22742193a",
            "09740cc7ecc94aac893bb8966126dfd7",
            "4e890114d32549d48a727c155a915820",
            "bf0c0880239b4fcdbe150600290559b2",
            "9c082f03993041a99055d242d2157577",
            "be9753abe96c40178a3e6f769610de09"
          ]
        },
        "id": "AC_sY63X8Fw9",
        "outputId": "a5def151-d49a-49b1-c004-ba2397a8eff7"
      },
      "execution_count": 25,
      "outputs": [
        {
          "output_type": "display_data",
          "data": {
            "text/plain": [
              "<IPython.core.display.HTML object>"
            ],
            "text/html": []
          },
          "metadata": {}
        },
        {
          "output_type": "display_data",
          "data": {
            "text/plain": [
              "<pandas.io.formats.style.Styler at 0x7c53d29e29e0>"
            ],
            "text/html": [
              "<style type=\"text/css\">\n",
              "#T_e31b0_row10_col0, #T_e31b0_row10_col1, #T_e31b0_row10_col2, #T_e31b0_row10_col3, #T_e31b0_row10_col4, #T_e31b0_row10_col5, #T_e31b0_row10_col6 {\n",
              "  background: yellow;\n",
              "}\n",
              "</style>\n",
              "<table id=\"T_e31b0\" class=\"dataframe\">\n",
              "  <thead>\n",
              "    <tr>\n",
              "      <th class=\"blank level0\" >&nbsp;</th>\n",
              "      <th id=\"T_e31b0_level0_col0\" class=\"col_heading level0 col0\" >Accuracy</th>\n",
              "      <th id=\"T_e31b0_level0_col1\" class=\"col_heading level0 col1\" >AUC</th>\n",
              "      <th id=\"T_e31b0_level0_col2\" class=\"col_heading level0 col2\" >Recall</th>\n",
              "      <th id=\"T_e31b0_level0_col3\" class=\"col_heading level0 col3\" >Prec.</th>\n",
              "      <th id=\"T_e31b0_level0_col4\" class=\"col_heading level0 col4\" >F1</th>\n",
              "      <th id=\"T_e31b0_level0_col5\" class=\"col_heading level0 col5\" >Kappa</th>\n",
              "      <th id=\"T_e31b0_level0_col6\" class=\"col_heading level0 col6\" >MCC</th>\n",
              "    </tr>\n",
              "    <tr>\n",
              "      <th class=\"index_name level0\" >Fold</th>\n",
              "      <th class=\"blank col0\" >&nbsp;</th>\n",
              "      <th class=\"blank col1\" >&nbsp;</th>\n",
              "      <th class=\"blank col2\" >&nbsp;</th>\n",
              "      <th class=\"blank col3\" >&nbsp;</th>\n",
              "      <th class=\"blank col4\" >&nbsp;</th>\n",
              "      <th class=\"blank col5\" >&nbsp;</th>\n",
              "      <th class=\"blank col6\" >&nbsp;</th>\n",
              "    </tr>\n",
              "  </thead>\n",
              "  <tbody>\n",
              "    <tr>\n",
              "      <th id=\"T_e31b0_level0_row0\" class=\"row_heading level0 row0\" >0</th>\n",
              "      <td id=\"T_e31b0_row0_col0\" class=\"data row0 col0\" >0.8904</td>\n",
              "      <td id=\"T_e31b0_row0_col1\" class=\"data row0 col1\" >0.9293</td>\n",
              "      <td id=\"T_e31b0_row0_col2\" class=\"data row0 col2\" >0.6552</td>\n",
              "      <td id=\"T_e31b0_row0_col3\" class=\"data row0 col3\" >0.7600</td>\n",
              "      <td id=\"T_e31b0_row0_col4\" class=\"data row0 col4\" >0.7037</td>\n",
              "      <td id=\"T_e31b0_row0_col5\" class=\"data row0 col5\" >0.6369</td>\n",
              "      <td id=\"T_e31b0_row0_col6\" class=\"data row0 col6\" >0.6396</td>\n",
              "    </tr>\n",
              "    <tr>\n",
              "      <th id=\"T_e31b0_level0_row1\" class=\"row_heading level0 row1\" >1</th>\n",
              "      <td id=\"T_e31b0_row1_col0\" class=\"data row1 col0\" >0.8904</td>\n",
              "      <td id=\"T_e31b0_row1_col1\" class=\"data row1 col1\" >0.9257</td>\n",
              "      <td id=\"T_e31b0_row1_col2\" class=\"data row1 col2\" >0.6667</td>\n",
              "      <td id=\"T_e31b0_row1_col3\" class=\"data row1 col3\" >0.7532</td>\n",
              "      <td id=\"T_e31b0_row1_col4\" class=\"data row1 col4\" >0.7073</td>\n",
              "      <td id=\"T_e31b0_row1_col5\" class=\"data row1 col5\" >0.6402</td>\n",
              "      <td id=\"T_e31b0_row1_col6\" class=\"data row1 col6\" >0.6420</td>\n",
              "    </tr>\n",
              "    <tr>\n",
              "      <th id=\"T_e31b0_level0_row2\" class=\"row_heading level0 row2\" >2</th>\n",
              "      <td id=\"T_e31b0_row2_col0\" class=\"data row2 col0\" >0.8813</td>\n",
              "      <td id=\"T_e31b0_row2_col1\" class=\"data row2 col1\" >0.8849</td>\n",
              "      <td id=\"T_e31b0_row2_col2\" class=\"data row2 col2\" >0.6552</td>\n",
              "      <td id=\"T_e31b0_row2_col3\" class=\"data row2 col3\" >0.7215</td>\n",
              "      <td id=\"T_e31b0_row2_col4\" class=\"data row2 col4\" >0.6867</td>\n",
              "      <td id=\"T_e31b0_row2_col5\" class=\"data row2 col5\" >0.6137</td>\n",
              "      <td id=\"T_e31b0_row2_col6\" class=\"data row2 col6\" >0.6148</td>\n",
              "    </tr>\n",
              "    <tr>\n",
              "      <th id=\"T_e31b0_level0_row3\" class=\"row_heading level0 row3\" >3</th>\n",
              "      <td id=\"T_e31b0_row3_col0\" class=\"data row3 col0\" >0.8607</td>\n",
              "      <td id=\"T_e31b0_row3_col1\" class=\"data row3 col1\" >0.8783</td>\n",
              "      <td id=\"T_e31b0_row3_col2\" class=\"data row3 col2\" >0.5795</td>\n",
              "      <td id=\"T_e31b0_row3_col3\" class=\"data row3 col3\" >0.6800</td>\n",
              "      <td id=\"T_e31b0_row3_col4\" class=\"data row3 col4\" >0.6258</td>\n",
              "      <td id=\"T_e31b0_row3_col5\" class=\"data row3 col5\" >0.5409</td>\n",
              "      <td id=\"T_e31b0_row3_col6\" class=\"data row3 col6\" >0.5435</td>\n",
              "    </tr>\n",
              "    <tr>\n",
              "      <th id=\"T_e31b0_level0_row4\" class=\"row_heading level0 row4\" >4</th>\n",
              "      <td id=\"T_e31b0_row4_col0\" class=\"data row4 col0\" >0.9041</td>\n",
              "      <td id=\"T_e31b0_row4_col1\" class=\"data row4 col1\" >0.9319</td>\n",
              "      <td id=\"T_e31b0_row4_col2\" class=\"data row4 col2\" >0.7045</td>\n",
              "      <td id=\"T_e31b0_row4_col3\" class=\"data row4 col3\" >0.7949</td>\n",
              "      <td id=\"T_e31b0_row4_col4\" class=\"data row4 col4\" >0.7470</td>\n",
              "      <td id=\"T_e31b0_row4_col5\" class=\"data row4 col5\" >0.6881</td>\n",
              "      <td id=\"T_e31b0_row4_col6\" class=\"data row4 col6\" >0.6900</td>\n",
              "    </tr>\n",
              "    <tr>\n",
              "      <th id=\"T_e31b0_level0_row5\" class=\"row_heading level0 row5\" >5</th>\n",
              "      <td id=\"T_e31b0_row5_col0\" class=\"data row5 col0\" >0.9041</td>\n",
              "      <td id=\"T_e31b0_row5_col1\" class=\"data row5 col1\" >0.9341</td>\n",
              "      <td id=\"T_e31b0_row5_col2\" class=\"data row5 col2\" >0.6932</td>\n",
              "      <td id=\"T_e31b0_row5_col3\" class=\"data row5 col3\" >0.8026</td>\n",
              "      <td id=\"T_e31b0_row5_col4\" class=\"data row5 col4\" >0.7439</td>\n",
              "      <td id=\"T_e31b0_row5_col5\" class=\"data row5 col5\" >0.6853</td>\n",
              "      <td id=\"T_e31b0_row5_col6\" class=\"data row5 col6\" >0.6881</td>\n",
              "    </tr>\n",
              "    <tr>\n",
              "      <th id=\"T_e31b0_level0_row6\" class=\"row_heading level0 row6\" >6</th>\n",
              "      <td id=\"T_e31b0_row6_col0\" class=\"data row6 col0\" >0.8699</td>\n",
              "      <td id=\"T_e31b0_row6_col1\" class=\"data row6 col1\" >0.8881</td>\n",
              "      <td id=\"T_e31b0_row6_col2\" class=\"data row6 col2\" >0.6364</td>\n",
              "      <td id=\"T_e31b0_row6_col3\" class=\"data row6 col3\" >0.6914</td>\n",
              "      <td id=\"T_e31b0_row6_col4\" class=\"data row6 col4\" >0.6627</td>\n",
              "      <td id=\"T_e31b0_row6_col5\" class=\"data row6 col5\" >0.5823</td>\n",
              "      <td id=\"T_e31b0_row6_col6\" class=\"data row6 col6\" >0.5830</td>\n",
              "    </tr>\n",
              "    <tr>\n",
              "      <th id=\"T_e31b0_level0_row7\" class=\"row_heading level0 row7\" >7</th>\n",
              "      <td id=\"T_e31b0_row7_col0\" class=\"data row7 col0\" >0.8676</td>\n",
              "      <td id=\"T_e31b0_row7_col1\" class=\"data row7 col1\" >0.9022</td>\n",
              "      <td id=\"T_e31b0_row7_col2\" class=\"data row7 col2\" >0.5795</td>\n",
              "      <td id=\"T_e31b0_row7_col3\" class=\"data row7 col3\" >0.7083</td>\n",
              "      <td id=\"T_e31b0_row7_col4\" class=\"data row7 col4\" >0.6375</td>\n",
              "      <td id=\"T_e31b0_row7_col5\" class=\"data row7 col5\" >0.5575</td>\n",
              "      <td id=\"T_e31b0_row7_col6\" class=\"data row7 col6\" >0.5617</td>\n",
              "    </tr>\n",
              "    <tr>\n",
              "      <th id=\"T_e31b0_level0_row8\" class=\"row_heading level0 row8\" >8</th>\n",
              "      <td id=\"T_e31b0_row8_col0\" class=\"data row8 col0\" >0.8787</td>\n",
              "      <td id=\"T_e31b0_row8_col1\" class=\"data row8 col1\" >0.8940</td>\n",
              "      <td id=\"T_e31b0_row8_col2\" class=\"data row8 col2\" >0.5862</td>\n",
              "      <td id=\"T_e31b0_row8_col3\" class=\"data row8 col3\" >0.7500</td>\n",
              "      <td id=\"T_e31b0_row8_col4\" class=\"data row8 col4\" >0.6581</td>\n",
              "      <td id=\"T_e31b0_row8_col5\" class=\"data row8 col5\" >0.5857</td>\n",
              "      <td id=\"T_e31b0_row8_col6\" class=\"data row8 col6\" >0.5923</td>\n",
              "    </tr>\n",
              "    <tr>\n",
              "      <th id=\"T_e31b0_level0_row9\" class=\"row_heading level0 row9\" >9</th>\n",
              "      <td id=\"T_e31b0_row9_col0\" class=\"data row9 col0\" >0.8810</td>\n",
              "      <td id=\"T_e31b0_row9_col1\" class=\"data row9 col1\" >0.9153</td>\n",
              "      <td id=\"T_e31b0_row9_col2\" class=\"data row9 col2\" >0.6207</td>\n",
              "      <td id=\"T_e31b0_row9_col3\" class=\"data row9 col3\" >0.7397</td>\n",
              "      <td id=\"T_e31b0_row9_col4\" class=\"data row9 col4\" >0.6750</td>\n",
              "      <td id=\"T_e31b0_row9_col5\" class=\"data row9 col5\" >0.6029</td>\n",
              "      <td id=\"T_e31b0_row9_col6\" class=\"data row9 col6\" >0.6063</td>\n",
              "    </tr>\n",
              "    <tr>\n",
              "      <th id=\"T_e31b0_level0_row10\" class=\"row_heading level0 row10\" >Mean</th>\n",
              "      <td id=\"T_e31b0_row10_col0\" class=\"data row10 col0\" >0.8828</td>\n",
              "      <td id=\"T_e31b0_row10_col1\" class=\"data row10 col1\" >0.9084</td>\n",
              "      <td id=\"T_e31b0_row10_col2\" class=\"data row10 col2\" >0.6377</td>\n",
              "      <td id=\"T_e31b0_row10_col3\" class=\"data row10 col3\" >0.7402</td>\n",
              "      <td id=\"T_e31b0_row10_col4\" class=\"data row10 col4\" >0.6848</td>\n",
              "      <td id=\"T_e31b0_row10_col5\" class=\"data row10 col5\" >0.6133</td>\n",
              "      <td id=\"T_e31b0_row10_col6\" class=\"data row10 col6\" >0.6161</td>\n",
              "    </tr>\n",
              "    <tr>\n",
              "      <th id=\"T_e31b0_level0_row11\" class=\"row_heading level0 row11\" >Std</th>\n",
              "      <td id=\"T_e31b0_row11_col0\" class=\"data row11 col0\" >0.0139</td>\n",
              "      <td id=\"T_e31b0_row11_col1\" class=\"data row11 col1\" >0.0203</td>\n",
              "      <td id=\"T_e31b0_row11_col2\" class=\"data row11 col2\" >0.0432</td>\n",
              "      <td id=\"T_e31b0_row11_col3\" class=\"data row11 col3\" >0.0386</td>\n",
              "      <td id=\"T_e31b0_row11_col4\" class=\"data row11 col4\" >0.0391</td>\n",
              "      <td id=\"T_e31b0_row11_col5\" class=\"data row11 col5\" >0.0472</td>\n",
              "      <td id=\"T_e31b0_row11_col6\" class=\"data row11 col6\" >0.0468</td>\n",
              "    </tr>\n",
              "  </tbody>\n",
              "</table>\n"
            ]
          },
          "metadata": {}
        },
        {
          "output_type": "display_data",
          "data": {
            "text/plain": [
              "Processing:   0%|          | 0/7 [00:00<?, ?it/s]"
            ],
            "application/vnd.jupyter.widget-view+json": {
              "version_major": 2,
              "version_minor": 0,
              "model_id": "7ee672757fe34887bf32f7f51a5765ff"
            }
          },
          "metadata": {
            "application/vnd.jupyter.widget-view+json": {
              "colab": {
                "custom_widget_manager": {
                  "url": "https://ssl.gstatic.com/colaboratory-static/widgets/colab-cdn-widget-manager/b3e629b1971e1542/manager.min.js"
                }
              }
            }
          }
        },
        {
          "output_type": "stream",
          "name": "stdout",
          "text": [
            "Fitting 10 folds for each of 10 candidates, totalling 100 fits\n"
          ]
        },
        {
          "output_type": "display_data",
          "data": {
            "text/plain": [
              "<IPython.core.display.HTML object>"
            ],
            "text/html": []
          },
          "metadata": {}
        }
      ]
    },
    {
      "cell_type": "code",
      "source": [
        "predicted =  predict_model(model1, tmp_test)\n",
        "print(classification_report( y_test, predicted.prediction_label))"
      ],
      "metadata": {
        "colab": {
          "base_uri": "https://localhost:8080/",
          "height": 185
        },
        "id": "VCcptayP9a5r",
        "outputId": "71bceeb7-9245-413f-c752-43a595b3d882"
      },
      "execution_count": 26,
      "outputs": [
        {
          "output_type": "display_data",
          "data": {
            "text/plain": [
              "<IPython.core.display.HTML object>"
            ],
            "text/html": []
          },
          "metadata": {}
        },
        {
          "output_type": "stream",
          "name": "stdout",
          "text": [
            "              precision    recall  f1-score   support\n",
            "\n",
            "           0       0.94      0.95      0.95      1095\n",
            "           1       0.14      0.13      0.13        70\n",
            "\n",
            "    accuracy                           0.90      1165\n",
            "   macro avg       0.54      0.54      0.54      1165\n",
            "weighted avg       0.90      0.90      0.90      1165\n",
            "\n"
          ]
        }
      ]
    },
    {
      "cell_type": "markdown",
      "source": [
        "## 3. MLP + GridSearch"
      ],
      "metadata": {
        "id": "9S-uJMNa0sdW"
      }
    },
    {
      "cell_type": "code",
      "source": [
        "from sklearn import model_selection\n",
        "from sklearn import metrics\n",
        "\n",
        "param_grid = {\n",
        "    \"hidden_layer_sizes\":[(24,12),(12,6)]\n",
        "}\n",
        "#declaring GridSearchCV model\n",
        "grid = model_selection.GridSearchCV(\n",
        "    estimator = MLPClassifier(), #모형\n",
        "    param_grid = param_grid,  #\n",
        "    scoring = 'accuracy', #정분류율\n",
        "    verbose = 10,\n",
        "    n_jobs = 1,\n",
        "    cv = 2      #k-fold CV, k값.\n",
        ")\n",
        "#fitting values to the gridsearchcv model\n",
        "grid.fit(X_train_res, y_train_res)\n",
        "\n",
        "#printing the best possible values to enhance accuracy\n",
        "print(grid.best_params_)\n",
        "print(grid.best_estimator_)\n",
        "#printing the best score\n",
        "print(grid.best_score_)\n",
        "\n"
      ],
      "metadata": {
        "colab": {
          "base_uri": "https://localhost:8080/"
        },
        "id": "8aTOLApY0zDa",
        "outputId": "9ac6b3eb-9f5d-45be-92b1-8b8320161468"
      },
      "execution_count": 27,
      "outputs": [
        {
          "output_type": "stream",
          "name": "stdout",
          "text": [
            "Fitting 2 folds for each of 2 candidates, totalling 4 fits\n",
            "[CV 1/2; 1/2] START hidden_layer_sizes=(24, 12).................................\n",
            "[CV 1/2; 1/2] END ..hidden_layer_sizes=(24, 12);, score=0.885 total time=   2.7s\n",
            "[CV 2/2; 1/2] START hidden_layer_sizes=(24, 12).................................\n",
            "[CV 2/2; 1/2] END ..hidden_layer_sizes=(24, 12);, score=0.918 total time=   2.7s\n",
            "[CV 1/2; 2/2] START hidden_layer_sizes=(12, 6)..................................\n",
            "[CV 1/2; 2/2] END ...hidden_layer_sizes=(12, 6);, score=0.874 total time=   1.6s\n",
            "[CV 2/2; 2/2] START hidden_layer_sizes=(12, 6)..................................\n",
            "[CV 2/2; 2/2] END ...hidden_layer_sizes=(12, 6);, score=0.872 total time=   1.9s\n",
            "{'hidden_layer_sizes': (24, 12)}\n",
            "MLPClassifier(activation='relu', alpha=0.0001, batch_size='auto', beta_1=0.9,\n",
            "              beta_2=0.999, early_stopping=False, epsilon=1e-08,\n",
            "              hidden_layer_sizes=(24, 12), learning_rate='constant',\n",
            "              learning_rate_init=0.001, max_fun=15000, max_iter=200,\n",
            "              momentum=0.9, n_iter_no_change=10, nesterovs_momentum=True,\n",
            "              power_t=0.5, random_state=None, shuffle=True, solver='adam',\n",
            "              tol=0.0001, validation_fraction=0.1, verbose=False,\n",
            "              warm_start=False)\n",
            "0.9011541401457608\n"
          ]
        }
      ]
    },
    {
      "cell_type": "markdown",
      "source": [
        "## 4. Keras Tuner 활용 하이퍼파라미터 튜닝"
      ],
      "metadata": {
        "id": "TrnSedjaylCl"
      }
    },
    {
      "cell_type": "markdown",
      "source": [
        " - DNN의 하이터파라미터: 층의 수, 노드의 수, 학습율, 배치크기 등"
      ],
      "metadata": {
        "id": "oP4KLrxElL7C"
      }
    },
    {
      "cell_type": "code",
      "source": [
        "import tensorflow as tf\n",
        "from tensorflow import keras"
      ],
      "metadata": {
        "id": "oAGnxJuPmY3F"
      },
      "execution_count": 28,
      "outputs": []
    },
    {
      "cell_type": "code",
      "source": [
        "!pip install -q -U keras-tuner"
      ],
      "metadata": {
        "colab": {
          "base_uri": "https://localhost:8080/"
        },
        "id": "k3fVM6f_maUK",
        "outputId": "3c386827-7cb7-4999-aee7-628f83c71b0d"
      },
      "execution_count": 29,
      "outputs": [
        {
          "output_type": "stream",
          "name": "stdout",
          "text": [
            "\u001b[?25l     \u001b[90m━━━━━━━━━━━━━━━━━━━━━━━━━━━━━━━━━━━━━━━━\u001b[0m \u001b[32m0.0/128.9 kB\u001b[0m \u001b[31m?\u001b[0m eta \u001b[36m-:--:--\u001b[0m\r\u001b[2K     \u001b[91m━━━━━━━━━━━━━━━━━━━\u001b[0m\u001b[90m╺\u001b[0m\u001b[90m━━━━━━━━━━━━━━━━━━━━\u001b[0m \u001b[32m61.4/128.9 kB\u001b[0m \u001b[31m1.9 MB/s\u001b[0m eta \u001b[36m0:00:01\u001b[0m\r\u001b[2K     \u001b[90m━━━━━━━━━━━━━━━━━━━━━━━━━━━━━━━━━━━━━━━━\u001b[0m \u001b[32m128.9/128.9 kB\u001b[0m \u001b[31m2.6 MB/s\u001b[0m eta \u001b[36m0:00:00\u001b[0m\n",
            "\u001b[?25h"
          ]
        }
      ]
    },
    {
      "cell_type": "code",
      "source": [
        "import keras_tuner as kt"
      ],
      "metadata": {
        "id": "g3k8yPrBmbgh"
      },
      "execution_count": 30,
      "outputs": []
    },
    {
      "cell_type": "code",
      "source": [
        "(img_train, label_train), (img_test, label_test) = keras.datasets.fashion_mnist.load_data()"
      ],
      "metadata": {
        "colab": {
          "base_uri": "https://localhost:8080/"
        },
        "id": "z9z_eexhmc41",
        "outputId": "a6b43fac-cd41-4d57-fcdb-ef5eedd21473"
      },
      "execution_count": 31,
      "outputs": [
        {
          "output_type": "stream",
          "name": "stdout",
          "text": [
            "Downloading data from https://storage.googleapis.com/tensorflow/tf-keras-datasets/train-labels-idx1-ubyte.gz\n",
            "29515/29515 [==============================] - 0s 0us/step\n",
            "Downloading data from https://storage.googleapis.com/tensorflow/tf-keras-datasets/train-images-idx3-ubyte.gz\n",
            "26421880/26421880 [==============================] - 0s 0us/step\n",
            "Downloading data from https://storage.googleapis.com/tensorflow/tf-keras-datasets/t10k-labels-idx1-ubyte.gz\n",
            "5148/5148 [==============================] - 0s 0us/step\n",
            "Downloading data from https://storage.googleapis.com/tensorflow/tf-keras-datasets/t10k-images-idx3-ubyte.gz\n",
            "4422102/4422102 [==============================] - 0s 0us/step\n"
          ]
        }
      ]
    },
    {
      "cell_type": "code",
      "source": [
        "img_train.shape\n",
        "label_train.shape\n",
        "img_train[0].reshape(784, )"
      ],
      "metadata": {
        "id": "o1x-O4cpRTsZ"
      },
      "execution_count": null,
      "outputs": []
    },
    {
      "cell_type": "code",
      "source": [
        "# Normalize pixel values between 0 and 1\n",
        "img_train = img_train.astype('float32').reshape(60000, 784) / 255.0\n",
        "# 값을 변경(정수-> 실수), 모양을 2D로 변경, MinMaxScaling\n",
        "img_test = img_test.astype('float32').reshape(10000, 784) / 255.0"
      ],
      "metadata": {
        "id": "l0fR79c4mePy"
      },
      "execution_count": 38,
      "outputs": []
    },
    {
      "cell_type": "code",
      "source": [
        "# 위의 자료에 대해서 lable_train을 범주를 하는 DNN을 구성하세요\n",
        "# MLPClassifier : 48, 24\n",
        "# tensorfolw : 48, 24\n",
        "# target의 범주의 수는 10개 ->\n",
        "\n",
        "# test에 대한 성능을 측정해보세요\n",
        "\n",
        "model1 = MLPClassifier(hidden_)\n",
        "\n",
        "\n",
        "from tensorflow.keras.models import Sequential\n",
        "from tensorflow.keras.layers import\n"
      ],
      "metadata": {
        "id": "9knBWicSbB_1"
      },
      "execution_count": null,
      "outputs": []
    },
    {
      "cell_type": "markdown",
      "source": [
        "- 하이퍼튜닝을 위한 모형 구축 시 하이퍼 파라미터 탐색 공간 정의\n",
        "- 하이퍼 모델: 하이퍼튜닝을 위해 설정하는 모델\n",
        "\n",
        "- 하이퍼 모형의 설정\n",
        " - 모델 빌더 함수 사용: Keras Tuner API의 HyperModel 클래스를 하위 클래스화\n",
        " - 컴파일된 모델을 반환하고 인라인으로 정의한 하이퍼파라미터를 사용하여 모델을 하이퍼튜닝"
      ],
      "metadata": {
        "id": "HceYF6u4mgyG"
      }
    },
    {
      "cell_type": "code",
      "source": [
        "def model_builder(hp):\n",
        "  model = keras.Sequential()\n",
        "  model.add(keras.layers.Flatten(input_shape=(784, )))\n",
        "\n",
        "  # Choose an optimal value between 32-96\n",
        "  hp_units = hp.Int('units', min_value=32, max_value=96, step=32)\n",
        "  model.add(keras.layers.Dense(units=hp_units, activation='relu'))\n",
        "  model.add(keras.layers.Dense(10))\n",
        "\n",
        "  # Choose an optimal value from 0.01, 0.001, or 0.0001\n",
        "  hp_learning_rate = hp.Choice('learning_rate', values=[1e-2, 1e-3, 1e-4])\n",
        "\n",
        "  model.compile(optimizer=keras.optimizers.Adam(learning_rate=hp_learning_rate),\n",
        "                loss=keras.losses.SparseCategoricalCrossentropy(from_logits=True),\n",
        "                metrics=['accuracy'])\n",
        "\n",
        "  return model"
      ],
      "metadata": {
        "id": "sgbc8HPbmjBs"
      },
      "execution_count": null,
      "outputs": []
    },
    {
      "cell_type": "markdown",
      "source": [
        "- tuner 객체 만들고 튜닝 수행\n",
        " - randomsearch, hyperband, bayesianoptimization, sklearn 등의 tuner 가능\n",
        " - Hyperband 사용 시: objective와 epoch 지정"
      ],
      "metadata": {
        "id": "VvqyTbwgnWx2"
      }
    },
    {
      "cell_type": "code",
      "source": [
        "tuner = kt.Hyperband(model_builder,\n",
        "                     objective='val_accuracy',\n",
        "                     max_epochs=10,\n",
        "                     factor=3,\n",
        "                     directory='my_dir',\n",
        "                     project_name='intro_to_kt')"
      ],
      "metadata": {
        "id": "9qYF4v38mlMY"
      },
      "execution_count": null,
      "outputs": []
    },
    {
      "cell_type": "code",
      "source": [
        "class ClearTrainingOutput(tf.keras.callbacks.Callback): #조기 학습 중단을 위해 사용\n",
        "  def on_train_end(*args, **kwargs):\n",
        "    IPython.display.clear_output(wait = True)"
      ],
      "metadata": {
        "id": "hGTUOE6_mnKx"
      },
      "execution_count": null,
      "outputs": []
    },
    {
      "cell_type": "code",
      "source": [
        "#하이퍼 파라미터 탐색 실행\n",
        "tuner.search(img_train, label_train, epochs=50, validation_split=0.2, callbacks=[tf.keras.callbacks.EarlyStopping(patience=1)])\n",
        "\n",
        "# Get the optimal hyperparameters\n",
        "best_hps=tuner.get_best_hyperparameters(num_trials=1)[0]\n",
        "\n",
        "print(f\"\"\"\n",
        "optimal number of units:  {best_hps.get('units')}\n",
        "optimal learning rate for the optimizer:  {best_hps.get('learning_rate')}\n",
        "\"\"\")"
      ],
      "metadata": {
        "colab": {
          "base_uri": "https://localhost:8080/"
        },
        "id": "xi0GjM7bmov5",
        "outputId": "bcec268c-1946-42b4-ee7b-31ddbe69dfc7"
      },
      "execution_count": null,
      "outputs": [
        {
          "output_type": "stream",
          "name": "stdout",
          "text": [
            "Trial 8 Complete [00h 00m 16s]\n",
            "val_accuracy: 0.09833333641290665\n",
            "\n",
            "Best val_accuracy So Far: 0.12333333492279053\n",
            "Total elapsed time: 00h 02m 13s\n",
            "\n",
            "optimal number of units:  64\n",
            "optimal learning rate for the optimizer:  0.001\n",
            "\n"
          ]
        }
      ]
    },
    {
      "cell_type": "code",
      "source": [
        "#탐색을 통해 찾은 하이퍼파라미터로 훈련 시 최적의 epoch을 발견\n",
        "model = tuner.hypermodel.build(best_hps)\n",
        "history = model.fit(img_train, label_train, epochs=10, validation_split=0.2)\n",
        "\n",
        "val_acc_per_epoch = history.history['val_accuracy']\n",
        "best_epoch = val_acc_per_epoch.index(max(val_acc_per_epoch)) + 1\n",
        "print('Best epoch: %d' % (best_epoch,))"
      ],
      "metadata": {
        "colab": {
          "base_uri": "https://localhost:8080/"
        },
        "id": "MDNF8PRYmqro",
        "outputId": "c9fe5539-2f1b-4a42-c211-7bdbac349b27"
      },
      "execution_count": null,
      "outputs": [
        {
          "output_type": "stream",
          "name": "stdout",
          "text": [
            "Epoch 1/10\n",
            "1500/1500 [==============================] - 9s 5ms/step - loss: 2.3025 - accuracy: 0.1044 - val_loss: 2.3016 - val_accuracy: 0.1027\n",
            "Epoch 2/10\n",
            "1500/1500 [==============================] - 7s 5ms/step - loss: 2.2999 - accuracy: 0.1110 - val_loss: 2.2968 - val_accuracy: 0.1075\n",
            "Epoch 3/10\n",
            "1500/1500 [==============================] - 6s 4ms/step - loss: 2.2900 - accuracy: 0.1480 - val_loss: 2.2806 - val_accuracy: 0.2557\n",
            "Epoch 4/10\n",
            "1500/1500 [==============================] - 6s 4ms/step - loss: 2.2669 - accuracy: 0.2247 - val_loss: 2.2493 - val_accuracy: 0.2792\n",
            "Epoch 5/10\n",
            "1500/1500 [==============================] - 6s 4ms/step - loss: 2.2280 - accuracy: 0.2694 - val_loss: 2.2027 - val_accuracy: 0.3434\n",
            "Epoch 6/10\n",
            "1500/1500 [==============================] - 7s 5ms/step - loss: 2.1764 - accuracy: 0.2890 - val_loss: 2.1470 - val_accuracy: 0.3134\n",
            "Epoch 7/10\n",
            "1500/1500 [==============================] - 7s 4ms/step - loss: 2.1185 - accuracy: 0.3222 - val_loss: 2.0873 - val_accuracy: 0.3027\n",
            "Epoch 8/10\n",
            "1500/1500 [==============================] - 6s 4ms/step - loss: 2.0590 - accuracy: 0.3164 - val_loss: 2.0290 - val_accuracy: 0.3810\n",
            "Epoch 9/10\n",
            "1500/1500 [==============================] - 6s 4ms/step - loss: 2.0011 - accuracy: 0.3673 - val_loss: 1.9724 - val_accuracy: 0.3598\n",
            "Epoch 10/10\n",
            "1500/1500 [==============================] - 6s 4ms/step - loss: 1.9462 - accuracy: 0.3578 - val_loss: 1.9178 - val_accuracy: 0.3954\n",
            "Best epoch: 10\n"
          ]
        }
      ]
    },
    {
      "cell_type": "code",
      "source": [
        "#최적 모형 객체 만들기\n",
        "hypermodel = tuner.hypermodel.build(best_hps)\n",
        "\n",
        "# 최적 epoch으로 학습\n",
        "hypermodel.fit(img_train, label_train, epochs=best_epoch, validation_split=0.2)"
      ],
      "metadata": {
        "colab": {
          "base_uri": "https://localhost:8080/"
        },
        "id": "bqgveVnlmr7T",
        "outputId": "1375f0d4-dba6-42d6-9153-ad9a412edccd"
      },
      "execution_count": null,
      "outputs": [
        {
          "output_type": "stream",
          "name": "stdout",
          "text": [
            "Epoch 1/10\n",
            "1500/1500 [==============================] - 7s 5ms/step - loss: 2.3028 - accuracy: 0.0982 - val_loss: 2.3028 - val_accuracy: 0.0957\n",
            "Epoch 2/10\n",
            "1500/1500 [==============================] - 7s 4ms/step - loss: 2.3028 - accuracy: 0.0977 - val_loss: 2.3029 - val_accuracy: 0.0983\n",
            "Epoch 3/10\n",
            "1500/1500 [==============================] - 7s 4ms/step - loss: 2.3028 - accuracy: 0.0995 - val_loss: 2.3028 - val_accuracy: 0.0957\n",
            "Epoch 4/10\n",
            "1500/1500 [==============================] - 7s 5ms/step - loss: 2.3028 - accuracy: 0.0999 - val_loss: 2.3026 - val_accuracy: 0.1027\n",
            "Epoch 5/10\n",
            "1500/1500 [==============================] - 7s 5ms/step - loss: 2.3028 - accuracy: 0.0992 - val_loss: 2.3026 - val_accuracy: 0.0995\n",
            "Epoch 6/10\n",
            "1500/1500 [==============================] - 6s 4ms/step - loss: 2.3028 - accuracy: 0.0980 - val_loss: 2.3027 - val_accuracy: 0.0995\n",
            "Epoch 7/10\n",
            "1500/1500 [==============================] - 7s 4ms/step - loss: 2.3028 - accuracy: 0.0983 - val_loss: 2.3027 - val_accuracy: 0.0995\n",
            "Epoch 8/10\n",
            "1500/1500 [==============================] - 6s 4ms/step - loss: 2.3027 - accuracy: 0.0963 - val_loss: 2.3028 - val_accuracy: 0.1005\n",
            "Epoch 9/10\n",
            "1500/1500 [==============================] - 6s 4ms/step - loss: 2.3028 - accuracy: 0.0990 - val_loss: 2.3027 - val_accuracy: 0.0957\n",
            "Epoch 10/10\n",
            "1500/1500 [==============================] - 7s 5ms/step - loss: 2.3028 - accuracy: 0.0991 - val_loss: 2.3027 - val_accuracy: 0.1003\n"
          ]
        },
        {
          "output_type": "execute_result",
          "data": {
            "text/plain": [
              "<keras.src.callbacks.History at 0x7b6b03759f00>"
            ]
          },
          "metadata": {},
          "execution_count": 51
        }
      ]
    },
    {
      "cell_type": "code",
      "source": [
        "eval_result = hypermodel.evaluate(img_test, label_test)\n",
        "print(\"[test loss, test accuracy]:\", eval_result)"
      ],
      "metadata": {
        "colab": {
          "base_uri": "https://localhost:8080/"
        },
        "id": "yrRdslDnmtbh",
        "outputId": "56a35d92-8aff-450a-ed38-64637eb19504"
      },
      "execution_count": null,
      "outputs": [
        {
          "output_type": "stream",
          "name": "stdout",
          "text": [
            "313/313 [==============================] - 1s 2ms/step - loss: 2.2947 - accuracy: 0.2550\n",
            "[test loss, test accuracy]: [2.294664144515991, 0.2549999952316284]\n"
          ]
        }
      ]
    },
    {
      "cell_type": "markdown",
      "source": [
        "## 6. 유사도와 추천"
      ],
      "metadata": {
        "id": "Kvg0X_MM004H"
      }
    },
    {
      "cell_type": "code",
      "source": [
        "import pandas as pd\n",
        "df = pd.read_csv('movies.csv')"
      ],
      "metadata": {
        "id": "BC1KyW_FdDcr"
      },
      "execution_count": 39,
      "outputs": []
    },
    {
      "cell_type": "code",
      "source": [
        "df.head()"
      ],
      "metadata": {
        "colab": {
          "base_uri": "https://localhost:8080/",
          "height": 206
        },
        "id": "1KsEF0_ee_jG",
        "outputId": "f251c82f-30fc-4c54-c69a-26abfb1d5c23"
      },
      "execution_count": 40,
      "outputs": [
        {
          "output_type": "execute_result",
          "data": {
            "text/plain": [
              "   userId         title  rating   timestamp\n",
              "0       1  American Pie     4.0  1260759139\n",
              "1       4  American Pie     4.0   949896114\n",
              "2      15  American Pie     4.0  1052896867\n",
              "3      30  American Pie     2.0   994439964\n",
              "4      34  American Pie     4.0   973747765"
            ],
            "text/html": [
              "\n",
              "  <div id=\"df-8679e5e7-79ed-4d4a-bd93-b55f6a949932\" class=\"colab-df-container\">\n",
              "    <div>\n",
              "<style scoped>\n",
              "    .dataframe tbody tr th:only-of-type {\n",
              "        vertical-align: middle;\n",
              "    }\n",
              "\n",
              "    .dataframe tbody tr th {\n",
              "        vertical-align: top;\n",
              "    }\n",
              "\n",
              "    .dataframe thead th {\n",
              "        text-align: right;\n",
              "    }\n",
              "</style>\n",
              "<table border=\"1\" class=\"dataframe\">\n",
              "  <thead>\n",
              "    <tr style=\"text-align: right;\">\n",
              "      <th></th>\n",
              "      <th>userId</th>\n",
              "      <th>title</th>\n",
              "      <th>rating</th>\n",
              "      <th>timestamp</th>\n",
              "    </tr>\n",
              "  </thead>\n",
              "  <tbody>\n",
              "    <tr>\n",
              "      <th>0</th>\n",
              "      <td>1</td>\n",
              "      <td>American Pie</td>\n",
              "      <td>4.0</td>\n",
              "      <td>1260759139</td>\n",
              "    </tr>\n",
              "    <tr>\n",
              "      <th>1</th>\n",
              "      <td>4</td>\n",
              "      <td>American Pie</td>\n",
              "      <td>4.0</td>\n",
              "      <td>949896114</td>\n",
              "    </tr>\n",
              "    <tr>\n",
              "      <th>2</th>\n",
              "      <td>15</td>\n",
              "      <td>American Pie</td>\n",
              "      <td>4.0</td>\n",
              "      <td>1052896867</td>\n",
              "    </tr>\n",
              "    <tr>\n",
              "      <th>3</th>\n",
              "      <td>30</td>\n",
              "      <td>American Pie</td>\n",
              "      <td>2.0</td>\n",
              "      <td>994439964</td>\n",
              "    </tr>\n",
              "    <tr>\n",
              "      <th>4</th>\n",
              "      <td>34</td>\n",
              "      <td>American Pie</td>\n",
              "      <td>4.0</td>\n",
              "      <td>973747765</td>\n",
              "    </tr>\n",
              "  </tbody>\n",
              "</table>\n",
              "</div>\n",
              "    <div class=\"colab-df-buttons\">\n",
              "\n",
              "  <div class=\"colab-df-container\">\n",
              "    <button class=\"colab-df-convert\" onclick=\"convertToInteractive('df-8679e5e7-79ed-4d4a-bd93-b55f6a949932')\"\n",
              "            title=\"Convert this dataframe to an interactive table.\"\n",
              "            style=\"display:none;\">\n",
              "\n",
              "  <svg xmlns=\"http://www.w3.org/2000/svg\" height=\"24px\" viewBox=\"0 -960 960 960\">\n",
              "    <path d=\"M120-120v-720h720v720H120Zm60-500h600v-160H180v160Zm220 220h160v-160H400v160Zm0 220h160v-160H400v160ZM180-400h160v-160H180v160Zm440 0h160v-160H620v160ZM180-180h160v-160H180v160Zm440 0h160v-160H620v160Z\"/>\n",
              "  </svg>\n",
              "    </button>\n",
              "\n",
              "  <style>\n",
              "    .colab-df-container {\n",
              "      display:flex;\n",
              "      gap: 12px;\n",
              "    }\n",
              "\n",
              "    .colab-df-convert {\n",
              "      background-color: #E8F0FE;\n",
              "      border: none;\n",
              "      border-radius: 50%;\n",
              "      cursor: pointer;\n",
              "      display: none;\n",
              "      fill: #1967D2;\n",
              "      height: 32px;\n",
              "      padding: 0 0 0 0;\n",
              "      width: 32px;\n",
              "    }\n",
              "\n",
              "    .colab-df-convert:hover {\n",
              "      background-color: #E2EBFA;\n",
              "      box-shadow: 0px 1px 2px rgba(60, 64, 67, 0.3), 0px 1px 3px 1px rgba(60, 64, 67, 0.15);\n",
              "      fill: #174EA6;\n",
              "    }\n",
              "\n",
              "    .colab-df-buttons div {\n",
              "      margin-bottom: 4px;\n",
              "    }\n",
              "\n",
              "    [theme=dark] .colab-df-convert {\n",
              "      background-color: #3B4455;\n",
              "      fill: #D2E3FC;\n",
              "    }\n",
              "\n",
              "    [theme=dark] .colab-df-convert:hover {\n",
              "      background-color: #434B5C;\n",
              "      box-shadow: 0px 1px 3px 1px rgba(0, 0, 0, 0.15);\n",
              "      filter: drop-shadow(0px 1px 2px rgba(0, 0, 0, 0.3));\n",
              "      fill: #FFFFFF;\n",
              "    }\n",
              "  </style>\n",
              "\n",
              "    <script>\n",
              "      const buttonEl =\n",
              "        document.querySelector('#df-8679e5e7-79ed-4d4a-bd93-b55f6a949932 button.colab-df-convert');\n",
              "      buttonEl.style.display =\n",
              "        google.colab.kernel.accessAllowed ? 'block' : 'none';\n",
              "\n",
              "      async function convertToInteractive(key) {\n",
              "        const element = document.querySelector('#df-8679e5e7-79ed-4d4a-bd93-b55f6a949932');\n",
              "        const dataTable =\n",
              "          await google.colab.kernel.invokeFunction('convertToInteractive',\n",
              "                                                    [key], {});\n",
              "        if (!dataTable) return;\n",
              "\n",
              "        const docLinkHtml = 'Like what you see? Visit the ' +\n",
              "          '<a target=\"_blank\" href=https://colab.research.google.com/notebooks/data_table.ipynb>data table notebook</a>'\n",
              "          + ' to learn more about interactive tables.';\n",
              "        element.innerHTML = '';\n",
              "        dataTable['output_type'] = 'display_data';\n",
              "        await google.colab.output.renderOutput(dataTable, element);\n",
              "        const docLink = document.createElement('div');\n",
              "        docLink.innerHTML = docLinkHtml;\n",
              "        element.appendChild(docLink);\n",
              "      }\n",
              "    </script>\n",
              "  </div>\n",
              "\n",
              "\n",
              "<div id=\"df-0d4cd89a-f694-44e3-b806-9b98cafa0c18\">\n",
              "  <button class=\"colab-df-quickchart\" onclick=\"quickchart('df-0d4cd89a-f694-44e3-b806-9b98cafa0c18')\"\n",
              "            title=\"Suggest charts\"\n",
              "            style=\"display:none;\">\n",
              "\n",
              "<svg xmlns=\"http://www.w3.org/2000/svg\" height=\"24px\"viewBox=\"0 0 24 24\"\n",
              "     width=\"24px\">\n",
              "    <g>\n",
              "        <path d=\"M19 3H5c-1.1 0-2 .9-2 2v14c0 1.1.9 2 2 2h14c1.1 0 2-.9 2-2V5c0-1.1-.9-2-2-2zM9 17H7v-7h2v7zm4 0h-2V7h2v10zm4 0h-2v-4h2v4z\"/>\n",
              "    </g>\n",
              "</svg>\n",
              "  </button>\n",
              "\n",
              "<style>\n",
              "  .colab-df-quickchart {\n",
              "      --bg-color: #E8F0FE;\n",
              "      --fill-color: #1967D2;\n",
              "      --hover-bg-color: #E2EBFA;\n",
              "      --hover-fill-color: #174EA6;\n",
              "      --disabled-fill-color: #AAA;\n",
              "      --disabled-bg-color: #DDD;\n",
              "  }\n",
              "\n",
              "  [theme=dark] .colab-df-quickchart {\n",
              "      --bg-color: #3B4455;\n",
              "      --fill-color: #D2E3FC;\n",
              "      --hover-bg-color: #434B5C;\n",
              "      --hover-fill-color: #FFFFFF;\n",
              "      --disabled-bg-color: #3B4455;\n",
              "      --disabled-fill-color: #666;\n",
              "  }\n",
              "\n",
              "  .colab-df-quickchart {\n",
              "    background-color: var(--bg-color);\n",
              "    border: none;\n",
              "    border-radius: 50%;\n",
              "    cursor: pointer;\n",
              "    display: none;\n",
              "    fill: var(--fill-color);\n",
              "    height: 32px;\n",
              "    padding: 0;\n",
              "    width: 32px;\n",
              "  }\n",
              "\n",
              "  .colab-df-quickchart:hover {\n",
              "    background-color: var(--hover-bg-color);\n",
              "    box-shadow: 0 1px 2px rgba(60, 64, 67, 0.3), 0 1px 3px 1px rgba(60, 64, 67, 0.15);\n",
              "    fill: var(--button-hover-fill-color);\n",
              "  }\n",
              "\n",
              "  .colab-df-quickchart-complete:disabled,\n",
              "  .colab-df-quickchart-complete:disabled:hover {\n",
              "    background-color: var(--disabled-bg-color);\n",
              "    fill: var(--disabled-fill-color);\n",
              "    box-shadow: none;\n",
              "  }\n",
              "\n",
              "  .colab-df-spinner {\n",
              "    border: 2px solid var(--fill-color);\n",
              "    border-color: transparent;\n",
              "    border-bottom-color: var(--fill-color);\n",
              "    animation:\n",
              "      spin 1s steps(1) infinite;\n",
              "  }\n",
              "\n",
              "  @keyframes spin {\n",
              "    0% {\n",
              "      border-color: transparent;\n",
              "      border-bottom-color: var(--fill-color);\n",
              "      border-left-color: var(--fill-color);\n",
              "    }\n",
              "    20% {\n",
              "      border-color: transparent;\n",
              "      border-left-color: var(--fill-color);\n",
              "      border-top-color: var(--fill-color);\n",
              "    }\n",
              "    30% {\n",
              "      border-color: transparent;\n",
              "      border-left-color: var(--fill-color);\n",
              "      border-top-color: var(--fill-color);\n",
              "      border-right-color: var(--fill-color);\n",
              "    }\n",
              "    40% {\n",
              "      border-color: transparent;\n",
              "      border-right-color: var(--fill-color);\n",
              "      border-top-color: var(--fill-color);\n",
              "    }\n",
              "    60% {\n",
              "      border-color: transparent;\n",
              "      border-right-color: var(--fill-color);\n",
              "    }\n",
              "    80% {\n",
              "      border-color: transparent;\n",
              "      border-right-color: var(--fill-color);\n",
              "      border-bottom-color: var(--fill-color);\n",
              "    }\n",
              "    90% {\n",
              "      border-color: transparent;\n",
              "      border-bottom-color: var(--fill-color);\n",
              "    }\n",
              "  }\n",
              "</style>\n",
              "\n",
              "  <script>\n",
              "    async function quickchart(key) {\n",
              "      const quickchartButtonEl =\n",
              "        document.querySelector('#' + key + ' button');\n",
              "      quickchartButtonEl.disabled = true;  // To prevent multiple clicks.\n",
              "      quickchartButtonEl.classList.add('colab-df-spinner');\n",
              "      try {\n",
              "        const charts = await google.colab.kernel.invokeFunction(\n",
              "            'suggestCharts', [key], {});\n",
              "      } catch (error) {\n",
              "        console.error('Error during call to suggestCharts:', error);\n",
              "      }\n",
              "      quickchartButtonEl.classList.remove('colab-df-spinner');\n",
              "      quickchartButtonEl.classList.add('colab-df-quickchart-complete');\n",
              "    }\n",
              "    (() => {\n",
              "      let quickchartButtonEl =\n",
              "        document.querySelector('#df-0d4cd89a-f694-44e3-b806-9b98cafa0c18 button');\n",
              "      quickchartButtonEl.style.display =\n",
              "        google.colab.kernel.accessAllowed ? 'block' : 'none';\n",
              "    })();\n",
              "  </script>\n",
              "</div>\n",
              "    </div>\n",
              "  </div>\n"
            ]
          },
          "metadata": {},
          "execution_count": 40
        }
      ]
    },
    {
      "cell_type": "code",
      "source": [
        "df = df.pivot_table('rating', index = 'userId', columns = 'title')\n",
        "df.head()"
      ],
      "metadata": {
        "colab": {
          "base_uri": "https://localhost:8080/",
          "height": 356
        },
        "id": "_xPcHrC8fFs0",
        "outputId": "571533c5-ac85-4f8c-f98b-b0a8497c06f3"
      },
      "execution_count": null,
      "outputs": [
        {
          "output_type": "execute_result",
          "data": {
            "text/plain": [
              "title   10 Things I Hate About You  12 Angry Men  1408  15 Minutes  16 Blocks  \\\n",
              "userId                                                                          \n",
              "1                              NaN           NaN   NaN         NaN        NaN   \n",
              "2                              NaN           NaN   NaN         NaN        NaN   \n",
              "3                              NaN           NaN   NaN         NaN        NaN   \n",
              "4                              NaN           NaN   NaN         NaN        NaN   \n",
              "5                              NaN           NaN   NaN         NaN        NaN   \n",
              "\n",
              "title   20,000 Leagues Under the Sea  2001: A Space Odyssey  2046  21 Grams  \\\n",
              "userId                                                                        \n",
              "1                                NaN                    NaN   NaN       NaN   \n",
              "2                                NaN                    3.0   NaN       NaN   \n",
              "3                                NaN                    NaN   NaN       NaN   \n",
              "4                                3.0                    NaN   NaN       NaN   \n",
              "5                                NaN                    NaN   NaN       NaN   \n",
              "\n",
              "title   25th Hour  ...  Willy Wonka & the Chocolate Factory  \\\n",
              "userId             ...                                        \n",
              "1             NaN  ...                                  NaN   \n",
              "2             NaN  ...                                  NaN   \n",
              "3             NaN  ...                                  NaN   \n",
              "4             NaN  ...                                  NaN   \n",
              "5             NaN  ...                                  NaN   \n",
              "\n",
              "title   World Trade Center  X-Men Origins: Wolverine  Y Tu Mamá También  \\\n",
              "userId                                                                    \n",
              "1                      NaN                       NaN                NaN   \n",
              "2                      NaN                       NaN                NaN   \n",
              "3                      NaN                       NaN                NaN   \n",
              "4                      NaN                       5.0                NaN   \n",
              "5                      NaN                       NaN                NaN   \n",
              "\n",
              "title   You Only Live Twice  You, Me and Dupree  Young Frankenstein  Zodiac  \\\n",
              "userId                                                                        \n",
              "1                       NaN                 NaN                 NaN     NaN   \n",
              "2                       NaN                 NaN                 NaN     NaN   \n",
              "3                       NaN                 NaN                 NaN     NaN   \n",
              "4                       NaN                 NaN                 5.0     NaN   \n",
              "5                       NaN                 NaN                 NaN     NaN   \n",
              "\n",
              "title   eXistenZ  xXx  \n",
              "userId                 \n",
              "1            NaN  NaN  \n",
              "2            NaN  NaN  \n",
              "3            NaN  NaN  \n",
              "4            NaN  NaN  \n",
              "5            NaN  NaN  \n",
              "\n",
              "[5 rows x 856 columns]"
            ],
            "text/html": [
              "\n",
              "  <div id=\"df-97be5bfd-b940-4fae-9474-8dafa5f6d22b\" class=\"colab-df-container\">\n",
              "    <div>\n",
              "<style scoped>\n",
              "    .dataframe tbody tr th:only-of-type {\n",
              "        vertical-align: middle;\n",
              "    }\n",
              "\n",
              "    .dataframe tbody tr th {\n",
              "        vertical-align: top;\n",
              "    }\n",
              "\n",
              "    .dataframe thead th {\n",
              "        text-align: right;\n",
              "    }\n",
              "</style>\n",
              "<table border=\"1\" class=\"dataframe\">\n",
              "  <thead>\n",
              "    <tr style=\"text-align: right;\">\n",
              "      <th>title</th>\n",
              "      <th>10 Things I Hate About You</th>\n",
              "      <th>12 Angry Men</th>\n",
              "      <th>1408</th>\n",
              "      <th>15 Minutes</th>\n",
              "      <th>16 Blocks</th>\n",
              "      <th>20,000 Leagues Under the Sea</th>\n",
              "      <th>2001: A Space Odyssey</th>\n",
              "      <th>2046</th>\n",
              "      <th>21 Grams</th>\n",
              "      <th>25th Hour</th>\n",
              "      <th>...</th>\n",
              "      <th>Willy Wonka &amp; the Chocolate Factory</th>\n",
              "      <th>World Trade Center</th>\n",
              "      <th>X-Men Origins: Wolverine</th>\n",
              "      <th>Y Tu Mamá También</th>\n",
              "      <th>You Only Live Twice</th>\n",
              "      <th>You, Me and Dupree</th>\n",
              "      <th>Young Frankenstein</th>\n",
              "      <th>Zodiac</th>\n",
              "      <th>eXistenZ</th>\n",
              "      <th>xXx</th>\n",
              "    </tr>\n",
              "    <tr>\n",
              "      <th>userId</th>\n",
              "      <th></th>\n",
              "      <th></th>\n",
              "      <th></th>\n",
              "      <th></th>\n",
              "      <th></th>\n",
              "      <th></th>\n",
              "      <th></th>\n",
              "      <th></th>\n",
              "      <th></th>\n",
              "      <th></th>\n",
              "      <th></th>\n",
              "      <th></th>\n",
              "      <th></th>\n",
              "      <th></th>\n",
              "      <th></th>\n",
              "      <th></th>\n",
              "      <th></th>\n",
              "      <th></th>\n",
              "      <th></th>\n",
              "      <th></th>\n",
              "      <th></th>\n",
              "    </tr>\n",
              "  </thead>\n",
              "  <tbody>\n",
              "    <tr>\n",
              "      <th>1</th>\n",
              "      <td>NaN</td>\n",
              "      <td>NaN</td>\n",
              "      <td>NaN</td>\n",
              "      <td>NaN</td>\n",
              "      <td>NaN</td>\n",
              "      <td>NaN</td>\n",
              "      <td>NaN</td>\n",
              "      <td>NaN</td>\n",
              "      <td>NaN</td>\n",
              "      <td>NaN</td>\n",
              "      <td>...</td>\n",
              "      <td>NaN</td>\n",
              "      <td>NaN</td>\n",
              "      <td>NaN</td>\n",
              "      <td>NaN</td>\n",
              "      <td>NaN</td>\n",
              "      <td>NaN</td>\n",
              "      <td>NaN</td>\n",
              "      <td>NaN</td>\n",
              "      <td>NaN</td>\n",
              "      <td>NaN</td>\n",
              "    </tr>\n",
              "    <tr>\n",
              "      <th>2</th>\n",
              "      <td>NaN</td>\n",
              "      <td>NaN</td>\n",
              "      <td>NaN</td>\n",
              "      <td>NaN</td>\n",
              "      <td>NaN</td>\n",
              "      <td>NaN</td>\n",
              "      <td>3.0</td>\n",
              "      <td>NaN</td>\n",
              "      <td>NaN</td>\n",
              "      <td>NaN</td>\n",
              "      <td>...</td>\n",
              "      <td>NaN</td>\n",
              "      <td>NaN</td>\n",
              "      <td>NaN</td>\n",
              "      <td>NaN</td>\n",
              "      <td>NaN</td>\n",
              "      <td>NaN</td>\n",
              "      <td>NaN</td>\n",
              "      <td>NaN</td>\n",
              "      <td>NaN</td>\n",
              "      <td>NaN</td>\n",
              "    </tr>\n",
              "    <tr>\n",
              "      <th>3</th>\n",
              "      <td>NaN</td>\n",
              "      <td>NaN</td>\n",
              "      <td>NaN</td>\n",
              "      <td>NaN</td>\n",
              "      <td>NaN</td>\n",
              "      <td>NaN</td>\n",
              "      <td>NaN</td>\n",
              "      <td>NaN</td>\n",
              "      <td>NaN</td>\n",
              "      <td>NaN</td>\n",
              "      <td>...</td>\n",
              "      <td>NaN</td>\n",
              "      <td>NaN</td>\n",
              "      <td>NaN</td>\n",
              "      <td>NaN</td>\n",
              "      <td>NaN</td>\n",
              "      <td>NaN</td>\n",
              "      <td>NaN</td>\n",
              "      <td>NaN</td>\n",
              "      <td>NaN</td>\n",
              "      <td>NaN</td>\n",
              "    </tr>\n",
              "    <tr>\n",
              "      <th>4</th>\n",
              "      <td>NaN</td>\n",
              "      <td>NaN</td>\n",
              "      <td>NaN</td>\n",
              "      <td>NaN</td>\n",
              "      <td>NaN</td>\n",
              "      <td>3.0</td>\n",
              "      <td>NaN</td>\n",
              "      <td>NaN</td>\n",
              "      <td>NaN</td>\n",
              "      <td>NaN</td>\n",
              "      <td>...</td>\n",
              "      <td>NaN</td>\n",
              "      <td>NaN</td>\n",
              "      <td>5.0</td>\n",
              "      <td>NaN</td>\n",
              "      <td>NaN</td>\n",
              "      <td>NaN</td>\n",
              "      <td>5.0</td>\n",
              "      <td>NaN</td>\n",
              "      <td>NaN</td>\n",
              "      <td>NaN</td>\n",
              "    </tr>\n",
              "    <tr>\n",
              "      <th>5</th>\n",
              "      <td>NaN</td>\n",
              "      <td>NaN</td>\n",
              "      <td>NaN</td>\n",
              "      <td>NaN</td>\n",
              "      <td>NaN</td>\n",
              "      <td>NaN</td>\n",
              "      <td>NaN</td>\n",
              "      <td>NaN</td>\n",
              "      <td>NaN</td>\n",
              "      <td>NaN</td>\n",
              "      <td>...</td>\n",
              "      <td>NaN</td>\n",
              "      <td>NaN</td>\n",
              "      <td>NaN</td>\n",
              "      <td>NaN</td>\n",
              "      <td>NaN</td>\n",
              "      <td>NaN</td>\n",
              "      <td>NaN</td>\n",
              "      <td>NaN</td>\n",
              "      <td>NaN</td>\n",
              "      <td>NaN</td>\n",
              "    </tr>\n",
              "  </tbody>\n",
              "</table>\n",
              "<p>5 rows × 856 columns</p>\n",
              "</div>\n",
              "    <div class=\"colab-df-buttons\">\n",
              "\n",
              "  <div class=\"colab-df-container\">\n",
              "    <button class=\"colab-df-convert\" onclick=\"convertToInteractive('df-97be5bfd-b940-4fae-9474-8dafa5f6d22b')\"\n",
              "            title=\"Convert this dataframe to an interactive table.\"\n",
              "            style=\"display:none;\">\n",
              "\n",
              "  <svg xmlns=\"http://www.w3.org/2000/svg\" height=\"24px\" viewBox=\"0 -960 960 960\">\n",
              "    <path d=\"M120-120v-720h720v720H120Zm60-500h600v-160H180v160Zm220 220h160v-160H400v160Zm0 220h160v-160H400v160ZM180-400h160v-160H180v160Zm440 0h160v-160H620v160ZM180-180h160v-160H180v160Zm440 0h160v-160H620v160Z\"/>\n",
              "  </svg>\n",
              "    </button>\n",
              "\n",
              "  <style>\n",
              "    .colab-df-container {\n",
              "      display:flex;\n",
              "      gap: 12px;\n",
              "    }\n",
              "\n",
              "    .colab-df-convert {\n",
              "      background-color: #E8F0FE;\n",
              "      border: none;\n",
              "      border-radius: 50%;\n",
              "      cursor: pointer;\n",
              "      display: none;\n",
              "      fill: #1967D2;\n",
              "      height: 32px;\n",
              "      padding: 0 0 0 0;\n",
              "      width: 32px;\n",
              "    }\n",
              "\n",
              "    .colab-df-convert:hover {\n",
              "      background-color: #E2EBFA;\n",
              "      box-shadow: 0px 1px 2px rgba(60, 64, 67, 0.3), 0px 1px 3px 1px rgba(60, 64, 67, 0.15);\n",
              "      fill: #174EA6;\n",
              "    }\n",
              "\n",
              "    .colab-df-buttons div {\n",
              "      margin-bottom: 4px;\n",
              "    }\n",
              "\n",
              "    [theme=dark] .colab-df-convert {\n",
              "      background-color: #3B4455;\n",
              "      fill: #D2E3FC;\n",
              "    }\n",
              "\n",
              "    [theme=dark] .colab-df-convert:hover {\n",
              "      background-color: #434B5C;\n",
              "      box-shadow: 0px 1px 3px 1px rgba(0, 0, 0, 0.15);\n",
              "      filter: drop-shadow(0px 1px 2px rgba(0, 0, 0, 0.3));\n",
              "      fill: #FFFFFF;\n",
              "    }\n",
              "  </style>\n",
              "\n",
              "    <script>\n",
              "      const buttonEl =\n",
              "        document.querySelector('#df-97be5bfd-b940-4fae-9474-8dafa5f6d22b button.colab-df-convert');\n",
              "      buttonEl.style.display =\n",
              "        google.colab.kernel.accessAllowed ? 'block' : 'none';\n",
              "\n",
              "      async function convertToInteractive(key) {\n",
              "        const element = document.querySelector('#df-97be5bfd-b940-4fae-9474-8dafa5f6d22b');\n",
              "        const dataTable =\n",
              "          await google.colab.kernel.invokeFunction('convertToInteractive',\n",
              "                                                    [key], {});\n",
              "        if (!dataTable) return;\n",
              "\n",
              "        const docLinkHtml = 'Like what you see? Visit the ' +\n",
              "          '<a target=\"_blank\" href=https://colab.research.google.com/notebooks/data_table.ipynb>data table notebook</a>'\n",
              "          + ' to learn more about interactive tables.';\n",
              "        element.innerHTML = '';\n",
              "        dataTable['output_type'] = 'display_data';\n",
              "        await google.colab.output.renderOutput(dataTable, element);\n",
              "        const docLink = document.createElement('div');\n",
              "        docLink.innerHTML = docLinkHtml;\n",
              "        element.appendChild(docLink);\n",
              "      }\n",
              "    </script>\n",
              "  </div>\n",
              "\n",
              "\n",
              "<div id=\"df-42601c7a-9592-46b3-832f-9ddedf979723\">\n",
              "  <button class=\"colab-df-quickchart\" onclick=\"quickchart('df-42601c7a-9592-46b3-832f-9ddedf979723')\"\n",
              "            title=\"Suggest charts\"\n",
              "            style=\"display:none;\">\n",
              "\n",
              "<svg xmlns=\"http://www.w3.org/2000/svg\" height=\"24px\"viewBox=\"0 0 24 24\"\n",
              "     width=\"24px\">\n",
              "    <g>\n",
              "        <path d=\"M19 3H5c-1.1 0-2 .9-2 2v14c0 1.1.9 2 2 2h14c1.1 0 2-.9 2-2V5c0-1.1-.9-2-2-2zM9 17H7v-7h2v7zm4 0h-2V7h2v10zm4 0h-2v-4h2v4z\"/>\n",
              "    </g>\n",
              "</svg>\n",
              "  </button>\n",
              "\n",
              "<style>\n",
              "  .colab-df-quickchart {\n",
              "      --bg-color: #E8F0FE;\n",
              "      --fill-color: #1967D2;\n",
              "      --hover-bg-color: #E2EBFA;\n",
              "      --hover-fill-color: #174EA6;\n",
              "      --disabled-fill-color: #AAA;\n",
              "      --disabled-bg-color: #DDD;\n",
              "  }\n",
              "\n",
              "  [theme=dark] .colab-df-quickchart {\n",
              "      --bg-color: #3B4455;\n",
              "      --fill-color: #D2E3FC;\n",
              "      --hover-bg-color: #434B5C;\n",
              "      --hover-fill-color: #FFFFFF;\n",
              "      --disabled-bg-color: #3B4455;\n",
              "      --disabled-fill-color: #666;\n",
              "  }\n",
              "\n",
              "  .colab-df-quickchart {\n",
              "    background-color: var(--bg-color);\n",
              "    border: none;\n",
              "    border-radius: 50%;\n",
              "    cursor: pointer;\n",
              "    display: none;\n",
              "    fill: var(--fill-color);\n",
              "    height: 32px;\n",
              "    padding: 0;\n",
              "    width: 32px;\n",
              "  }\n",
              "\n",
              "  .colab-df-quickchart:hover {\n",
              "    background-color: var(--hover-bg-color);\n",
              "    box-shadow: 0 1px 2px rgba(60, 64, 67, 0.3), 0 1px 3px 1px rgba(60, 64, 67, 0.15);\n",
              "    fill: var(--button-hover-fill-color);\n",
              "  }\n",
              "\n",
              "  .colab-df-quickchart-complete:disabled,\n",
              "  .colab-df-quickchart-complete:disabled:hover {\n",
              "    background-color: var(--disabled-bg-color);\n",
              "    fill: var(--disabled-fill-color);\n",
              "    box-shadow: none;\n",
              "  }\n",
              "\n",
              "  .colab-df-spinner {\n",
              "    border: 2px solid var(--fill-color);\n",
              "    border-color: transparent;\n",
              "    border-bottom-color: var(--fill-color);\n",
              "    animation:\n",
              "      spin 1s steps(1) infinite;\n",
              "  }\n",
              "\n",
              "  @keyframes spin {\n",
              "    0% {\n",
              "      border-color: transparent;\n",
              "      border-bottom-color: var(--fill-color);\n",
              "      border-left-color: var(--fill-color);\n",
              "    }\n",
              "    20% {\n",
              "      border-color: transparent;\n",
              "      border-left-color: var(--fill-color);\n",
              "      border-top-color: var(--fill-color);\n",
              "    }\n",
              "    30% {\n",
              "      border-color: transparent;\n",
              "      border-left-color: var(--fill-color);\n",
              "      border-top-color: var(--fill-color);\n",
              "      border-right-color: var(--fill-color);\n",
              "    }\n",
              "    40% {\n",
              "      border-color: transparent;\n",
              "      border-right-color: var(--fill-color);\n",
              "      border-top-color: var(--fill-color);\n",
              "    }\n",
              "    60% {\n",
              "      border-color: transparent;\n",
              "      border-right-color: var(--fill-color);\n",
              "    }\n",
              "    80% {\n",
              "      border-color: transparent;\n",
              "      border-right-color: var(--fill-color);\n",
              "      border-bottom-color: var(--fill-color);\n",
              "    }\n",
              "    90% {\n",
              "      border-color: transparent;\n",
              "      border-bottom-color: var(--fill-color);\n",
              "    }\n",
              "  }\n",
              "</style>\n",
              "\n",
              "  <script>\n",
              "    async function quickchart(key) {\n",
              "      const quickchartButtonEl =\n",
              "        document.querySelector('#' + key + ' button');\n",
              "      quickchartButtonEl.disabled = true;  // To prevent multiple clicks.\n",
              "      quickchartButtonEl.classList.add('colab-df-spinner');\n",
              "      try {\n",
              "        const charts = await google.colab.kernel.invokeFunction(\n",
              "            'suggestCharts', [key], {});\n",
              "      } catch (error) {\n",
              "        console.error('Error during call to suggestCharts:', error);\n",
              "      }\n",
              "      quickchartButtonEl.classList.remove('colab-df-spinner');\n",
              "      quickchartButtonEl.classList.add('colab-df-quickchart-complete');\n",
              "    }\n",
              "    (() => {\n",
              "      let quickchartButtonEl =\n",
              "        document.querySelector('#df-42601c7a-9592-46b3-832f-9ddedf979723 button');\n",
              "      quickchartButtonEl.style.display =\n",
              "        google.colab.kernel.accessAllowed ? 'block' : 'none';\n",
              "    })();\n",
              "  </script>\n",
              "</div>\n",
              "\n",
              "    </div>\n",
              "  </div>\n"
            ]
          },
          "metadata": {},
          "execution_count": 3
        }
      ]
    },
    {
      "cell_type": "code",
      "source": [
        "df.shape"
      ],
      "metadata": {
        "colab": {
          "base_uri": "https://localhost:8080/"
        },
        "id": "C53SPz2ofJuk",
        "outputId": "0e1bdd74-c3a7-40b6-9971-7a606cb2075e"
      },
      "execution_count": null,
      "outputs": [
        {
          "output_type": "execute_result",
          "data": {
            "text/plain": [
              "(670, 856)"
            ]
          },
          "metadata": {},
          "execution_count": 4
        }
      ]
    },
    {
      "cell_type": "markdown",
      "source": [
        "- user들별로 평점을 주는 범위가 다르기 때문에 scaling하여 조정"
      ],
      "metadata": {
        "id": "y0uE4J-dkz8c"
      }
    },
    {
      "cell_type": "code",
      "source": [
        "import numpy as np\n",
        "df_scaled = df.apply(lambda x: (x-np.mean(x))/(np.max(x)-np.min(x)), axis=1)"
      ],
      "metadata": {
        "id": "MaJwR6EZldrb"
      },
      "execution_count": null,
      "outputs": []
    },
    {
      "cell_type": "markdown",
      "source": [
        "### Collaborative Filtering (협업 필터링) 리뷰\n",
        "- 추천 시스템: 고객의 선호, 관심, 구매경력과 같은 개인화 정보를 기초로 고객에게 가장 알맞은 구매정보 제공\n",
        "- 방식\n",
        "  - Item-based collaborative filtering: item 간 similarity를 기반으로 추천\n",
        "  - User-based collaborative filtering: user 간 similarity를 기반으로 추천\n",
        "    - 성능이 다른 방식에 비해 떨어지는 것으로 알려져있음\n",
        "  - Matrix factorization collaborative filtering: 잠재요인이 있다고 가정하여, 그 잠재요인을 행렬분해를 통해 찾아냄\n",
        "    - 일반적으로 SVD(singular value decomposition)을 활용\n",
        "\n",
        "- Input: user-item matrix (preference matrix)\n",
        "  - 일반적으로 5점 척도로 구성된 rating + cosine similarity\n",
        "  - binary인 경우 jaccard similarity 사용\n",
        "\n",
        "- 한계\n",
        "  - 단순 matrix를 사용하여 추천하기 때문에 context/content를 고려하지 않음\n",
        "    - 최근에는 item의 text 정보, user의 context 정보들을 반영하여 딥러닝 기반의 추천 시스템 등장"
      ],
      "metadata": {
        "id": "p1UalWWEKlR1"
      }
    },
    {
      "cell_type": "markdown",
      "source": [
        "### Item-based collaborative filtering\n",
        "- Item*user으로 구성된 matrix를 사용하여 유사도 측정"
      ],
      "metadata": {
        "id": "gq97DZdUgukM"
      }
    },
    {
      "cell_type": "code",
      "source": [
        "df_scaled = df_scaled.transpose().fillna(0)\n",
        "df_scaled.head(5)"
      ],
      "metadata": {
        "colab": {
          "base_uri": "https://localhost:8080/",
          "height": 267
        },
        "id": "rTxRfEZEg4ad",
        "outputId": "0d4ca860-7ac2-4ea1-bede-6a3ca4d9d3a7"
      },
      "execution_count": null,
      "outputs": [
        {
          "output_type": "execute_result",
          "data": {
            "text/plain": [
              "userId                      1    2    3    4    5    6    7    8    9    10   \\\n",
              "title                                                                          \n",
              "10 Things I Hate About You  0.0  0.0  0.0  0.0  0.0  0.0  0.0  0.0  0.0  0.0   \n",
              "12 Angry Men                0.0  0.0  0.0  0.0  0.0  0.0  0.0  0.0  0.0  0.0   \n",
              "1408                        0.0  0.0  0.0  0.0  0.0  0.0  0.0  0.0  0.0  0.0   \n",
              "15 Minutes                  0.0  0.0  0.0  0.0  0.0  0.0  0.0  0.0  0.0  0.0   \n",
              "16 Blocks                   0.0  0.0  0.0  0.0  0.0  0.0  0.0  0.0  0.0  0.0   \n",
              "\n",
              "userId                      ...  662  663  664       665  666  667  668  669  \\\n",
              "title                       ...                                                \n",
              "10 Things I Hate About You  ...  0.0  0.0  0.0 -0.060526  0.0  0.0  0.0  0.0   \n",
              "12 Angry Men                ...  0.0  0.0  0.0  0.000000  0.0  0.0  0.0  0.0   \n",
              "1408                        ...  0.0  0.0  0.0  0.000000  0.0  0.0  0.0  0.0   \n",
              "15 Minutes                  ...  0.0  0.0  0.0  0.000000  0.0  0.0  0.0  0.0   \n",
              "16 Blocks                   ...  0.0  0.0  0.0  0.000000  0.0  0.0  0.0  0.0   \n",
              "\n",
              "userId                      670  671  \n",
              "title                                 \n",
              "10 Things I Hate About You  0.0  0.0  \n",
              "12 Angry Men                0.0  0.0  \n",
              "1408                        0.0  0.0  \n",
              "15 Minutes                  0.0  0.0  \n",
              "16 Blocks                   0.0  0.0  \n",
              "\n",
              "[5 rows x 670 columns]"
            ],
            "text/html": [
              "\n",
              "  <div id=\"df-9e7a6270-5218-45a5-976f-b2f0099f030d\" class=\"colab-df-container\">\n",
              "    <div>\n",
              "<style scoped>\n",
              "    .dataframe tbody tr th:only-of-type {\n",
              "        vertical-align: middle;\n",
              "    }\n",
              "\n",
              "    .dataframe tbody tr th {\n",
              "        vertical-align: top;\n",
              "    }\n",
              "\n",
              "    .dataframe thead th {\n",
              "        text-align: right;\n",
              "    }\n",
              "</style>\n",
              "<table border=\"1\" class=\"dataframe\">\n",
              "  <thead>\n",
              "    <tr style=\"text-align: right;\">\n",
              "      <th>userId</th>\n",
              "      <th>1</th>\n",
              "      <th>2</th>\n",
              "      <th>3</th>\n",
              "      <th>4</th>\n",
              "      <th>5</th>\n",
              "      <th>6</th>\n",
              "      <th>7</th>\n",
              "      <th>8</th>\n",
              "      <th>9</th>\n",
              "      <th>10</th>\n",
              "      <th>...</th>\n",
              "      <th>662</th>\n",
              "      <th>663</th>\n",
              "      <th>664</th>\n",
              "      <th>665</th>\n",
              "      <th>666</th>\n",
              "      <th>667</th>\n",
              "      <th>668</th>\n",
              "      <th>669</th>\n",
              "      <th>670</th>\n",
              "      <th>671</th>\n",
              "    </tr>\n",
              "    <tr>\n",
              "      <th>title</th>\n",
              "      <th></th>\n",
              "      <th></th>\n",
              "      <th></th>\n",
              "      <th></th>\n",
              "      <th></th>\n",
              "      <th></th>\n",
              "      <th></th>\n",
              "      <th></th>\n",
              "      <th></th>\n",
              "      <th></th>\n",
              "      <th></th>\n",
              "      <th></th>\n",
              "      <th></th>\n",
              "      <th></th>\n",
              "      <th></th>\n",
              "      <th></th>\n",
              "      <th></th>\n",
              "      <th></th>\n",
              "      <th></th>\n",
              "      <th></th>\n",
              "      <th></th>\n",
              "    </tr>\n",
              "  </thead>\n",
              "  <tbody>\n",
              "    <tr>\n",
              "      <th>10 Things I Hate About You</th>\n",
              "      <td>0.0</td>\n",
              "      <td>0.0</td>\n",
              "      <td>0.0</td>\n",
              "      <td>0.0</td>\n",
              "      <td>0.0</td>\n",
              "      <td>0.0</td>\n",
              "      <td>0.0</td>\n",
              "      <td>0.0</td>\n",
              "      <td>0.0</td>\n",
              "      <td>0.0</td>\n",
              "      <td>...</td>\n",
              "      <td>0.0</td>\n",
              "      <td>0.0</td>\n",
              "      <td>0.0</td>\n",
              "      <td>-0.060526</td>\n",
              "      <td>0.0</td>\n",
              "      <td>0.0</td>\n",
              "      <td>0.0</td>\n",
              "      <td>0.0</td>\n",
              "      <td>0.0</td>\n",
              "      <td>0.0</td>\n",
              "    </tr>\n",
              "    <tr>\n",
              "      <th>12 Angry Men</th>\n",
              "      <td>0.0</td>\n",
              "      <td>0.0</td>\n",
              "      <td>0.0</td>\n",
              "      <td>0.0</td>\n",
              "      <td>0.0</td>\n",
              "      <td>0.0</td>\n",
              "      <td>0.0</td>\n",
              "      <td>0.0</td>\n",
              "      <td>0.0</td>\n",
              "      <td>0.0</td>\n",
              "      <td>...</td>\n",
              "      <td>0.0</td>\n",
              "      <td>0.0</td>\n",
              "      <td>0.0</td>\n",
              "      <td>0.000000</td>\n",
              "      <td>0.0</td>\n",
              "      <td>0.0</td>\n",
              "      <td>0.0</td>\n",
              "      <td>0.0</td>\n",
              "      <td>0.0</td>\n",
              "      <td>0.0</td>\n",
              "    </tr>\n",
              "    <tr>\n",
              "      <th>1408</th>\n",
              "      <td>0.0</td>\n",
              "      <td>0.0</td>\n",
              "      <td>0.0</td>\n",
              "      <td>0.0</td>\n",
              "      <td>0.0</td>\n",
              "      <td>0.0</td>\n",
              "      <td>0.0</td>\n",
              "      <td>0.0</td>\n",
              "      <td>0.0</td>\n",
              "      <td>0.0</td>\n",
              "      <td>...</td>\n",
              "      <td>0.0</td>\n",
              "      <td>0.0</td>\n",
              "      <td>0.0</td>\n",
              "      <td>0.000000</td>\n",
              "      <td>0.0</td>\n",
              "      <td>0.0</td>\n",
              "      <td>0.0</td>\n",
              "      <td>0.0</td>\n",
              "      <td>0.0</td>\n",
              "      <td>0.0</td>\n",
              "    </tr>\n",
              "    <tr>\n",
              "      <th>15 Minutes</th>\n",
              "      <td>0.0</td>\n",
              "      <td>0.0</td>\n",
              "      <td>0.0</td>\n",
              "      <td>0.0</td>\n",
              "      <td>0.0</td>\n",
              "      <td>0.0</td>\n",
              "      <td>0.0</td>\n",
              "      <td>0.0</td>\n",
              "      <td>0.0</td>\n",
              "      <td>0.0</td>\n",
              "      <td>...</td>\n",
              "      <td>0.0</td>\n",
              "      <td>0.0</td>\n",
              "      <td>0.0</td>\n",
              "      <td>0.000000</td>\n",
              "      <td>0.0</td>\n",
              "      <td>0.0</td>\n",
              "      <td>0.0</td>\n",
              "      <td>0.0</td>\n",
              "      <td>0.0</td>\n",
              "      <td>0.0</td>\n",
              "    </tr>\n",
              "    <tr>\n",
              "      <th>16 Blocks</th>\n",
              "      <td>0.0</td>\n",
              "      <td>0.0</td>\n",
              "      <td>0.0</td>\n",
              "      <td>0.0</td>\n",
              "      <td>0.0</td>\n",
              "      <td>0.0</td>\n",
              "      <td>0.0</td>\n",
              "      <td>0.0</td>\n",
              "      <td>0.0</td>\n",
              "      <td>0.0</td>\n",
              "      <td>...</td>\n",
              "      <td>0.0</td>\n",
              "      <td>0.0</td>\n",
              "      <td>0.0</td>\n",
              "      <td>0.000000</td>\n",
              "      <td>0.0</td>\n",
              "      <td>0.0</td>\n",
              "      <td>0.0</td>\n",
              "      <td>0.0</td>\n",
              "      <td>0.0</td>\n",
              "      <td>0.0</td>\n",
              "    </tr>\n",
              "  </tbody>\n",
              "</table>\n",
              "<p>5 rows × 670 columns</p>\n",
              "</div>\n",
              "    <div class=\"colab-df-buttons\">\n",
              "\n",
              "  <div class=\"colab-df-container\">\n",
              "    <button class=\"colab-df-convert\" onclick=\"convertToInteractive('df-9e7a6270-5218-45a5-976f-b2f0099f030d')\"\n",
              "            title=\"Convert this dataframe to an interactive table.\"\n",
              "            style=\"display:none;\">\n",
              "\n",
              "  <svg xmlns=\"http://www.w3.org/2000/svg\" height=\"24px\" viewBox=\"0 -960 960 960\">\n",
              "    <path d=\"M120-120v-720h720v720H120Zm60-500h600v-160H180v160Zm220 220h160v-160H400v160Zm0 220h160v-160H400v160ZM180-400h160v-160H180v160Zm440 0h160v-160H620v160ZM180-180h160v-160H180v160Zm440 0h160v-160H620v160Z\"/>\n",
              "  </svg>\n",
              "    </button>\n",
              "\n",
              "  <style>\n",
              "    .colab-df-container {\n",
              "      display:flex;\n",
              "      gap: 12px;\n",
              "    }\n",
              "\n",
              "    .colab-df-convert {\n",
              "      background-color: #E8F0FE;\n",
              "      border: none;\n",
              "      border-radius: 50%;\n",
              "      cursor: pointer;\n",
              "      display: none;\n",
              "      fill: #1967D2;\n",
              "      height: 32px;\n",
              "      padding: 0 0 0 0;\n",
              "      width: 32px;\n",
              "    }\n",
              "\n",
              "    .colab-df-convert:hover {\n",
              "      background-color: #E2EBFA;\n",
              "      box-shadow: 0px 1px 2px rgba(60, 64, 67, 0.3), 0px 1px 3px 1px rgba(60, 64, 67, 0.15);\n",
              "      fill: #174EA6;\n",
              "    }\n",
              "\n",
              "    .colab-df-buttons div {\n",
              "      margin-bottom: 4px;\n",
              "    }\n",
              "\n",
              "    [theme=dark] .colab-df-convert {\n",
              "      background-color: #3B4455;\n",
              "      fill: #D2E3FC;\n",
              "    }\n",
              "\n",
              "    [theme=dark] .colab-df-convert:hover {\n",
              "      background-color: #434B5C;\n",
              "      box-shadow: 0px 1px 3px 1px rgba(0, 0, 0, 0.15);\n",
              "      filter: drop-shadow(0px 1px 2px rgba(0, 0, 0, 0.3));\n",
              "      fill: #FFFFFF;\n",
              "    }\n",
              "  </style>\n",
              "\n",
              "    <script>\n",
              "      const buttonEl =\n",
              "        document.querySelector('#df-9e7a6270-5218-45a5-976f-b2f0099f030d button.colab-df-convert');\n",
              "      buttonEl.style.display =\n",
              "        google.colab.kernel.accessAllowed ? 'block' : 'none';\n",
              "\n",
              "      async function convertToInteractive(key) {\n",
              "        const element = document.querySelector('#df-9e7a6270-5218-45a5-976f-b2f0099f030d');\n",
              "        const dataTable =\n",
              "          await google.colab.kernel.invokeFunction('convertToInteractive',\n",
              "                                                    [key], {});\n",
              "        if (!dataTable) return;\n",
              "\n",
              "        const docLinkHtml = 'Like what you see? Visit the ' +\n",
              "          '<a target=\"_blank\" href=https://colab.research.google.com/notebooks/data_table.ipynb>data table notebook</a>'\n",
              "          + ' to learn more about interactive tables.';\n",
              "        element.innerHTML = '';\n",
              "        dataTable['output_type'] = 'display_data';\n",
              "        await google.colab.output.renderOutput(dataTable, element);\n",
              "        const docLink = document.createElement('div');\n",
              "        docLink.innerHTML = docLinkHtml;\n",
              "        element.appendChild(docLink);\n",
              "      }\n",
              "    </script>\n",
              "  </div>\n",
              "\n",
              "\n",
              "<div id=\"df-986ecd80-2588-4fd1-8f97-85600680c0eb\">\n",
              "  <button class=\"colab-df-quickchart\" onclick=\"quickchart('df-986ecd80-2588-4fd1-8f97-85600680c0eb')\"\n",
              "            title=\"Suggest charts\"\n",
              "            style=\"display:none;\">\n",
              "\n",
              "<svg xmlns=\"http://www.w3.org/2000/svg\" height=\"24px\"viewBox=\"0 0 24 24\"\n",
              "     width=\"24px\">\n",
              "    <g>\n",
              "        <path d=\"M19 3H5c-1.1 0-2 .9-2 2v14c0 1.1.9 2 2 2h14c1.1 0 2-.9 2-2V5c0-1.1-.9-2-2-2zM9 17H7v-7h2v7zm4 0h-2V7h2v10zm4 0h-2v-4h2v4z\"/>\n",
              "    </g>\n",
              "</svg>\n",
              "  </button>\n",
              "\n",
              "<style>\n",
              "  .colab-df-quickchart {\n",
              "      --bg-color: #E8F0FE;\n",
              "      --fill-color: #1967D2;\n",
              "      --hover-bg-color: #E2EBFA;\n",
              "      --hover-fill-color: #174EA6;\n",
              "      --disabled-fill-color: #AAA;\n",
              "      --disabled-bg-color: #DDD;\n",
              "  }\n",
              "\n",
              "  [theme=dark] .colab-df-quickchart {\n",
              "      --bg-color: #3B4455;\n",
              "      --fill-color: #D2E3FC;\n",
              "      --hover-bg-color: #434B5C;\n",
              "      --hover-fill-color: #FFFFFF;\n",
              "      --disabled-bg-color: #3B4455;\n",
              "      --disabled-fill-color: #666;\n",
              "  }\n",
              "\n",
              "  .colab-df-quickchart {\n",
              "    background-color: var(--bg-color);\n",
              "    border: none;\n",
              "    border-radius: 50%;\n",
              "    cursor: pointer;\n",
              "    display: none;\n",
              "    fill: var(--fill-color);\n",
              "    height: 32px;\n",
              "    padding: 0;\n",
              "    width: 32px;\n",
              "  }\n",
              "\n",
              "  .colab-df-quickchart:hover {\n",
              "    background-color: var(--hover-bg-color);\n",
              "    box-shadow: 0 1px 2px rgba(60, 64, 67, 0.3), 0 1px 3px 1px rgba(60, 64, 67, 0.15);\n",
              "    fill: var(--button-hover-fill-color);\n",
              "  }\n",
              "\n",
              "  .colab-df-quickchart-complete:disabled,\n",
              "  .colab-df-quickchart-complete:disabled:hover {\n",
              "    background-color: var(--disabled-bg-color);\n",
              "    fill: var(--disabled-fill-color);\n",
              "    box-shadow: none;\n",
              "  }\n",
              "\n",
              "  .colab-df-spinner {\n",
              "    border: 2px solid var(--fill-color);\n",
              "    border-color: transparent;\n",
              "    border-bottom-color: var(--fill-color);\n",
              "    animation:\n",
              "      spin 1s steps(1) infinite;\n",
              "  }\n",
              "\n",
              "  @keyframes spin {\n",
              "    0% {\n",
              "      border-color: transparent;\n",
              "      border-bottom-color: var(--fill-color);\n",
              "      border-left-color: var(--fill-color);\n",
              "    }\n",
              "    20% {\n",
              "      border-color: transparent;\n",
              "      border-left-color: var(--fill-color);\n",
              "      border-top-color: var(--fill-color);\n",
              "    }\n",
              "    30% {\n",
              "      border-color: transparent;\n",
              "      border-left-color: var(--fill-color);\n",
              "      border-top-color: var(--fill-color);\n",
              "      border-right-color: var(--fill-color);\n",
              "    }\n",
              "    40% {\n",
              "      border-color: transparent;\n",
              "      border-right-color: var(--fill-color);\n",
              "      border-top-color: var(--fill-color);\n",
              "    }\n",
              "    60% {\n",
              "      border-color: transparent;\n",
              "      border-right-color: var(--fill-color);\n",
              "    }\n",
              "    80% {\n",
              "      border-color: transparent;\n",
              "      border-right-color: var(--fill-color);\n",
              "      border-bottom-color: var(--fill-color);\n",
              "    }\n",
              "    90% {\n",
              "      border-color: transparent;\n",
              "      border-bottom-color: var(--fill-color);\n",
              "    }\n",
              "  }\n",
              "</style>\n",
              "\n",
              "  <script>\n",
              "    async function quickchart(key) {\n",
              "      const quickchartButtonEl =\n",
              "        document.querySelector('#' + key + ' button');\n",
              "      quickchartButtonEl.disabled = true;  // To prevent multiple clicks.\n",
              "      quickchartButtonEl.classList.add('colab-df-spinner');\n",
              "      try {\n",
              "        const charts = await google.colab.kernel.invokeFunction(\n",
              "            'suggestCharts', [key], {});\n",
              "      } catch (error) {\n",
              "        console.error('Error during call to suggestCharts:', error);\n",
              "      }\n",
              "      quickchartButtonEl.classList.remove('colab-df-spinner');\n",
              "      quickchartButtonEl.classList.add('colab-df-quickchart-complete');\n",
              "    }\n",
              "    (() => {\n",
              "      let quickchartButtonEl =\n",
              "        document.querySelector('#df-986ecd80-2588-4fd1-8f97-85600680c0eb button');\n",
              "      quickchartButtonEl.style.display =\n",
              "        google.colab.kernel.accessAllowed ? 'block' : 'none';\n",
              "    })();\n",
              "  </script>\n",
              "</div>\n",
              "\n",
              "    </div>\n",
              "  </div>\n"
            ]
          },
          "metadata": {},
          "execution_count": 6
        }
      ]
    },
    {
      "cell_type": "markdown",
      "source": [
        "- user들 간 평점이 비슷한 정도를 기반으로 영화들의 유사도 평가"
      ],
      "metadata": {
        "id": "yjA5y-REjunE"
      }
    },
    {
      "cell_type": "code",
      "source": [
        "from sklearn.metrics.pairwise import cosine_similarity\n",
        "movie_sim = cosine_similarity(df_scaled, df_scaled)\n",
        "print(movie_sim.shape)"
      ],
      "metadata": {
        "colab": {
          "base_uri": "https://localhost:8080/"
        },
        "id": "wI3-yDIShOj8",
        "outputId": "0ce49d4b-437c-4886-bc35-75d44907cdb8"
      },
      "execution_count": null,
      "outputs": [
        {
          "output_type": "stream",
          "name": "stdout",
          "text": [
            "(856, 856)\n"
          ]
        }
      ]
    },
    {
      "cell_type": "code",
      "source": [
        "movie_sim"
      ],
      "metadata": {
        "id": "y4h6GeLjW59Z"
      },
      "execution_count": null,
      "outputs": []
    },
    {
      "cell_type": "code",
      "source": [
        "movie_sim = pd.DataFrame(movie_sim, index = df_scaled.index, columns = df_scaled.index)"
      ],
      "metadata": {
        "id": "msTwtslyjdaD"
      },
      "execution_count": null,
      "outputs": []
    },
    {
      "cell_type": "code",
      "source": [
        "movie_sim['Snow White and the Seven Dwarfs'].sort_values(ascending=False)[:10]"
      ],
      "metadata": {
        "colab": {
          "base_uri": "https://localhost:8080/"
        },
        "id": "CsgM58aejjUs",
        "outputId": "42ad6a9c-5018-448c-ec73-d25ba02d2e6a"
      },
      "execution_count": null,
      "outputs": [
        {
          "output_type": "execute_result",
          "data": {
            "text/plain": [
              "title\n",
              "Garfield                           1.000000\n",
              "The Matrix                         1.000000\n",
              "Snow White and the Seven Dwarfs    1.000000\n",
              "Highlander                         1.000000\n",
              "Alvin and the Chipmunks            0.922721\n",
              "Prom Night                         0.913674\n",
              "They Live                          0.558437\n",
              "Zodiac                             0.546653\n",
              "The Dark Knight                    0.491283\n",
              "Shine a Light                      0.463028\n",
              "Name: Snow White and the Seven Dwarfs, dtype: float64"
            ]
          },
          "metadata": {},
          "execution_count": 9
        }
      ]
    },
    {
      "cell_type": "markdown",
      "source": [
        "## 7 .추천 라이브러리"
      ],
      "metadata": {
        "id": "brBWzkg_03AV"
      }
    },
    {
      "cell_type": "code",
      "source": [
        "!pip install surprise"
      ],
      "metadata": {
        "colab": {
          "base_uri": "https://localhost:8080/"
        },
        "id": "4n756w2Fbu2j",
        "outputId": "b286c0bc-c636-4f87-9255-96a01f1bf995"
      },
      "execution_count": 41,
      "outputs": [
        {
          "output_type": "stream",
          "name": "stdout",
          "text": [
            "Collecting surprise\n",
            "  Downloading surprise-0.1-py2.py3-none-any.whl (1.8 kB)\n",
            "Collecting scikit-surprise (from surprise)\n",
            "  Downloading scikit-surprise-1.1.3.tar.gz (771 kB)\n",
            "\u001b[2K     \u001b[90m━━━━━━━━━━━━━━━━━━━━━━━━━━━━━━━━━━━━━━━━\u001b[0m \u001b[32m772.0/772.0 kB\u001b[0m \u001b[31m6.9 MB/s\u001b[0m eta \u001b[36m0:00:00\u001b[0m\n",
            "\u001b[?25h  Preparing metadata (setup.py) ... \u001b[?25l\u001b[?25hdone\n",
            "Requirement already satisfied: joblib>=1.0.0 in /usr/local/lib/python3.10/dist-packages (from scikit-surprise->surprise) (1.3.2)\n",
            "Requirement already satisfied: numpy>=1.17.3 in /usr/local/lib/python3.10/dist-packages (from scikit-surprise->surprise) (1.23.5)\n",
            "Requirement already satisfied: scipy>=1.3.2 in /usr/local/lib/python3.10/dist-packages (from scikit-surprise->surprise) (1.10.1)\n",
            "Building wheels for collected packages: scikit-surprise\n",
            "  Building wheel for scikit-surprise (setup.py) ... \u001b[?25l\u001b[?25hdone\n",
            "  Created wheel for scikit-surprise: filename=scikit_surprise-1.1.3-cp310-cp310-linux_x86_64.whl size=3163751 sha256=5e19b966678b2c6f10cd58f0b341cd8ae507dc517f095d2c34071a11acac957d\n",
            "  Stored in directory: /root/.cache/pip/wheels/a5/ca/a8/4e28def53797fdc4363ca4af740db15a9c2f1595ebc51fb445\n",
            "Successfully built scikit-surprise\n",
            "Installing collected packages: scikit-surprise, surprise\n",
            "Successfully installed scikit-surprise-1.1.3 surprise-0.1\n"
          ]
        }
      ]
    },
    {
      "cell_type": "code",
      "source": [
        "df = pd.read_csv('movies.csv')\n",
        "df"
      ],
      "metadata": {
        "id": "YXrf7B_-cW5F",
        "colab": {
          "base_uri": "https://localhost:8080/",
          "height": 423
        },
        "outputId": "ae783c29-3ac5-499c-9269-33cb5d11a186"
      },
      "execution_count": null,
      "outputs": [
        {
          "output_type": "execute_result",
          "data": {
            "text/plain": [
              "       userId               title  rating   timestamp\n",
              "0           1        American Pie     4.0  1260759139\n",
              "1           4        American Pie     4.0   949896114\n",
              "2          15        American Pie     4.0  1052896867\n",
              "3          30        American Pie     2.0   994439964\n",
              "4          34        American Pie     4.0   973747765\n",
              "...       ...                 ...     ...         ...\n",
              "18566     652  Lion of the Desert     5.0  1440269953\n",
              "18567     652                 Mud     5.0  1439586954\n",
              "18568     659               K-PAX     4.0   836137550\n",
              "18569     659   Starship Troopers     3.0   834694187\n",
              "18570     665       Spirited Away     3.0   995232528\n",
              "\n",
              "[18571 rows x 4 columns]"
            ],
            "text/html": [
              "\n",
              "  <div id=\"df-4d78c6cf-9939-4fa9-8e32-6e0c9c20bb24\" class=\"colab-df-container\">\n",
              "    <div>\n",
              "<style scoped>\n",
              "    .dataframe tbody tr th:only-of-type {\n",
              "        vertical-align: middle;\n",
              "    }\n",
              "\n",
              "    .dataframe tbody tr th {\n",
              "        vertical-align: top;\n",
              "    }\n",
              "\n",
              "    .dataframe thead th {\n",
              "        text-align: right;\n",
              "    }\n",
              "</style>\n",
              "<table border=\"1\" class=\"dataframe\">\n",
              "  <thead>\n",
              "    <tr style=\"text-align: right;\">\n",
              "      <th></th>\n",
              "      <th>userId</th>\n",
              "      <th>title</th>\n",
              "      <th>rating</th>\n",
              "      <th>timestamp</th>\n",
              "    </tr>\n",
              "  </thead>\n",
              "  <tbody>\n",
              "    <tr>\n",
              "      <th>0</th>\n",
              "      <td>1</td>\n",
              "      <td>American Pie</td>\n",
              "      <td>4.0</td>\n",
              "      <td>1260759139</td>\n",
              "    </tr>\n",
              "    <tr>\n",
              "      <th>1</th>\n",
              "      <td>4</td>\n",
              "      <td>American Pie</td>\n",
              "      <td>4.0</td>\n",
              "      <td>949896114</td>\n",
              "    </tr>\n",
              "    <tr>\n",
              "      <th>2</th>\n",
              "      <td>15</td>\n",
              "      <td>American Pie</td>\n",
              "      <td>4.0</td>\n",
              "      <td>1052896867</td>\n",
              "    </tr>\n",
              "    <tr>\n",
              "      <th>3</th>\n",
              "      <td>30</td>\n",
              "      <td>American Pie</td>\n",
              "      <td>2.0</td>\n",
              "      <td>994439964</td>\n",
              "    </tr>\n",
              "    <tr>\n",
              "      <th>4</th>\n",
              "      <td>34</td>\n",
              "      <td>American Pie</td>\n",
              "      <td>4.0</td>\n",
              "      <td>973747765</td>\n",
              "    </tr>\n",
              "    <tr>\n",
              "      <th>...</th>\n",
              "      <td>...</td>\n",
              "      <td>...</td>\n",
              "      <td>...</td>\n",
              "      <td>...</td>\n",
              "    </tr>\n",
              "    <tr>\n",
              "      <th>18566</th>\n",
              "      <td>652</td>\n",
              "      <td>Lion of the Desert</td>\n",
              "      <td>5.0</td>\n",
              "      <td>1440269953</td>\n",
              "    </tr>\n",
              "    <tr>\n",
              "      <th>18567</th>\n",
              "      <td>652</td>\n",
              "      <td>Mud</td>\n",
              "      <td>5.0</td>\n",
              "      <td>1439586954</td>\n",
              "    </tr>\n",
              "    <tr>\n",
              "      <th>18568</th>\n",
              "      <td>659</td>\n",
              "      <td>K-PAX</td>\n",
              "      <td>4.0</td>\n",
              "      <td>836137550</td>\n",
              "    </tr>\n",
              "    <tr>\n",
              "      <th>18569</th>\n",
              "      <td>659</td>\n",
              "      <td>Starship Troopers</td>\n",
              "      <td>3.0</td>\n",
              "      <td>834694187</td>\n",
              "    </tr>\n",
              "    <tr>\n",
              "      <th>18570</th>\n",
              "      <td>665</td>\n",
              "      <td>Spirited Away</td>\n",
              "      <td>3.0</td>\n",
              "      <td>995232528</td>\n",
              "    </tr>\n",
              "  </tbody>\n",
              "</table>\n",
              "<p>18571 rows × 4 columns</p>\n",
              "</div>\n",
              "    <div class=\"colab-df-buttons\">\n",
              "\n",
              "  <div class=\"colab-df-container\">\n",
              "    <button class=\"colab-df-convert\" onclick=\"convertToInteractive('df-4d78c6cf-9939-4fa9-8e32-6e0c9c20bb24')\"\n",
              "            title=\"Convert this dataframe to an interactive table.\"\n",
              "            style=\"display:none;\">\n",
              "\n",
              "  <svg xmlns=\"http://www.w3.org/2000/svg\" height=\"24px\" viewBox=\"0 -960 960 960\">\n",
              "    <path d=\"M120-120v-720h720v720H120Zm60-500h600v-160H180v160Zm220 220h160v-160H400v160Zm0 220h160v-160H400v160ZM180-400h160v-160H180v160Zm440 0h160v-160H620v160ZM180-180h160v-160H180v160Zm440 0h160v-160H620v160Z\"/>\n",
              "  </svg>\n",
              "    </button>\n",
              "\n",
              "  <style>\n",
              "    .colab-df-container {\n",
              "      display:flex;\n",
              "      gap: 12px;\n",
              "    }\n",
              "\n",
              "    .colab-df-convert {\n",
              "      background-color: #E8F0FE;\n",
              "      border: none;\n",
              "      border-radius: 50%;\n",
              "      cursor: pointer;\n",
              "      display: none;\n",
              "      fill: #1967D2;\n",
              "      height: 32px;\n",
              "      padding: 0 0 0 0;\n",
              "      width: 32px;\n",
              "    }\n",
              "\n",
              "    .colab-df-convert:hover {\n",
              "      background-color: #E2EBFA;\n",
              "      box-shadow: 0px 1px 2px rgba(60, 64, 67, 0.3), 0px 1px 3px 1px rgba(60, 64, 67, 0.15);\n",
              "      fill: #174EA6;\n",
              "    }\n",
              "\n",
              "    .colab-df-buttons div {\n",
              "      margin-bottom: 4px;\n",
              "    }\n",
              "\n",
              "    [theme=dark] .colab-df-convert {\n",
              "      background-color: #3B4455;\n",
              "      fill: #D2E3FC;\n",
              "    }\n",
              "\n",
              "    [theme=dark] .colab-df-convert:hover {\n",
              "      background-color: #434B5C;\n",
              "      box-shadow: 0px 1px 3px 1px rgba(0, 0, 0, 0.15);\n",
              "      filter: drop-shadow(0px 1px 2px rgba(0, 0, 0, 0.3));\n",
              "      fill: #FFFFFF;\n",
              "    }\n",
              "  </style>\n",
              "\n",
              "    <script>\n",
              "      const buttonEl =\n",
              "        document.querySelector('#df-4d78c6cf-9939-4fa9-8e32-6e0c9c20bb24 button.colab-df-convert');\n",
              "      buttonEl.style.display =\n",
              "        google.colab.kernel.accessAllowed ? 'block' : 'none';\n",
              "\n",
              "      async function convertToInteractive(key) {\n",
              "        const element = document.querySelector('#df-4d78c6cf-9939-4fa9-8e32-6e0c9c20bb24');\n",
              "        const dataTable =\n",
              "          await google.colab.kernel.invokeFunction('convertToInteractive',\n",
              "                                                    [key], {});\n",
              "        if (!dataTable) return;\n",
              "\n",
              "        const docLinkHtml = 'Like what you see? Visit the ' +\n",
              "          '<a target=\"_blank\" href=https://colab.research.google.com/notebooks/data_table.ipynb>data table notebook</a>'\n",
              "          + ' to learn more about interactive tables.';\n",
              "        element.innerHTML = '';\n",
              "        dataTable['output_type'] = 'display_data';\n",
              "        await google.colab.output.renderOutput(dataTable, element);\n",
              "        const docLink = document.createElement('div');\n",
              "        docLink.innerHTML = docLinkHtml;\n",
              "        element.appendChild(docLink);\n",
              "      }\n",
              "    </script>\n",
              "  </div>\n",
              "\n",
              "\n",
              "<div id=\"df-2ad17c8e-2fce-4588-be4b-c7bddaf6514d\">\n",
              "  <button class=\"colab-df-quickchart\" onclick=\"quickchart('df-2ad17c8e-2fce-4588-be4b-c7bddaf6514d')\"\n",
              "            title=\"Suggest charts\"\n",
              "            style=\"display:none;\">\n",
              "\n",
              "<svg xmlns=\"http://www.w3.org/2000/svg\" height=\"24px\"viewBox=\"0 0 24 24\"\n",
              "     width=\"24px\">\n",
              "    <g>\n",
              "        <path d=\"M19 3H5c-1.1 0-2 .9-2 2v14c0 1.1.9 2 2 2h14c1.1 0 2-.9 2-2V5c0-1.1-.9-2-2-2zM9 17H7v-7h2v7zm4 0h-2V7h2v10zm4 0h-2v-4h2v4z\"/>\n",
              "    </g>\n",
              "</svg>\n",
              "  </button>\n",
              "\n",
              "<style>\n",
              "  .colab-df-quickchart {\n",
              "      --bg-color: #E8F0FE;\n",
              "      --fill-color: #1967D2;\n",
              "      --hover-bg-color: #E2EBFA;\n",
              "      --hover-fill-color: #174EA6;\n",
              "      --disabled-fill-color: #AAA;\n",
              "      --disabled-bg-color: #DDD;\n",
              "  }\n",
              "\n",
              "  [theme=dark] .colab-df-quickchart {\n",
              "      --bg-color: #3B4455;\n",
              "      --fill-color: #D2E3FC;\n",
              "      --hover-bg-color: #434B5C;\n",
              "      --hover-fill-color: #FFFFFF;\n",
              "      --disabled-bg-color: #3B4455;\n",
              "      --disabled-fill-color: #666;\n",
              "  }\n",
              "\n",
              "  .colab-df-quickchart {\n",
              "    background-color: var(--bg-color);\n",
              "    border: none;\n",
              "    border-radius: 50%;\n",
              "    cursor: pointer;\n",
              "    display: none;\n",
              "    fill: var(--fill-color);\n",
              "    height: 32px;\n",
              "    padding: 0;\n",
              "    width: 32px;\n",
              "  }\n",
              "\n",
              "  .colab-df-quickchart:hover {\n",
              "    background-color: var(--hover-bg-color);\n",
              "    box-shadow: 0 1px 2px rgba(60, 64, 67, 0.3), 0 1px 3px 1px rgba(60, 64, 67, 0.15);\n",
              "    fill: var(--button-hover-fill-color);\n",
              "  }\n",
              "\n",
              "  .colab-df-quickchart-complete:disabled,\n",
              "  .colab-df-quickchart-complete:disabled:hover {\n",
              "    background-color: var(--disabled-bg-color);\n",
              "    fill: var(--disabled-fill-color);\n",
              "    box-shadow: none;\n",
              "  }\n",
              "\n",
              "  .colab-df-spinner {\n",
              "    border: 2px solid var(--fill-color);\n",
              "    border-color: transparent;\n",
              "    border-bottom-color: var(--fill-color);\n",
              "    animation:\n",
              "      spin 1s steps(1) infinite;\n",
              "  }\n",
              "\n",
              "  @keyframes spin {\n",
              "    0% {\n",
              "      border-color: transparent;\n",
              "      border-bottom-color: var(--fill-color);\n",
              "      border-left-color: var(--fill-color);\n",
              "    }\n",
              "    20% {\n",
              "      border-color: transparent;\n",
              "      border-left-color: var(--fill-color);\n",
              "      border-top-color: var(--fill-color);\n",
              "    }\n",
              "    30% {\n",
              "      border-color: transparent;\n",
              "      border-left-color: var(--fill-color);\n",
              "      border-top-color: var(--fill-color);\n",
              "      border-right-color: var(--fill-color);\n",
              "    }\n",
              "    40% {\n",
              "      border-color: transparent;\n",
              "      border-right-color: var(--fill-color);\n",
              "      border-top-color: var(--fill-color);\n",
              "    }\n",
              "    60% {\n",
              "      border-color: transparent;\n",
              "      border-right-color: var(--fill-color);\n",
              "    }\n",
              "    80% {\n",
              "      border-color: transparent;\n",
              "      border-right-color: var(--fill-color);\n",
              "      border-bottom-color: var(--fill-color);\n",
              "    }\n",
              "    90% {\n",
              "      border-color: transparent;\n",
              "      border-bottom-color: var(--fill-color);\n",
              "    }\n",
              "  }\n",
              "</style>\n",
              "\n",
              "  <script>\n",
              "    async function quickchart(key) {\n",
              "      const quickchartButtonEl =\n",
              "        document.querySelector('#' + key + ' button');\n",
              "      quickchartButtonEl.disabled = true;  // To prevent multiple clicks.\n",
              "      quickchartButtonEl.classList.add('colab-df-spinner');\n",
              "      try {\n",
              "        const charts = await google.colab.kernel.invokeFunction(\n",
              "            'suggestCharts', [key], {});\n",
              "      } catch (error) {\n",
              "        console.error('Error during call to suggestCharts:', error);\n",
              "      }\n",
              "      quickchartButtonEl.classList.remove('colab-df-spinner');\n",
              "      quickchartButtonEl.classList.add('colab-df-quickchart-complete');\n",
              "    }\n",
              "    (() => {\n",
              "      let quickchartButtonEl =\n",
              "        document.querySelector('#df-2ad17c8e-2fce-4588-be4b-c7bddaf6514d button');\n",
              "      quickchartButtonEl.style.display =\n",
              "        google.colab.kernel.accessAllowed ? 'block' : 'none';\n",
              "    })();\n",
              "  </script>\n",
              "</div>\n",
              "\n",
              "  <div id=\"id_cd08c962-263e-4979-b350-1d243330cbcf\">\n",
              "    <style>\n",
              "      .colab-df-generate {\n",
              "        background-color: #E8F0FE;\n",
              "        border: none;\n",
              "        border-radius: 50%;\n",
              "        cursor: pointer;\n",
              "        display: none;\n",
              "        fill: #1967D2;\n",
              "        height: 32px;\n",
              "        padding: 0 0 0 0;\n",
              "        width: 32px;\n",
              "      }\n",
              "\n",
              "      .colab-df-generate:hover {\n",
              "        background-color: #E2EBFA;\n",
              "        box-shadow: 0px 1px 2px rgba(60, 64, 67, 0.3), 0px 1px 3px 1px rgba(60, 64, 67, 0.15);\n",
              "        fill: #174EA6;\n",
              "      }\n",
              "\n",
              "      [theme=dark] .colab-df-generate {\n",
              "        background-color: #3B4455;\n",
              "        fill: #D2E3FC;\n",
              "      }\n",
              "\n",
              "      [theme=dark] .colab-df-generate:hover {\n",
              "        background-color: #434B5C;\n",
              "        box-shadow: 0px 1px 3px 1px rgba(0, 0, 0, 0.15);\n",
              "        filter: drop-shadow(0px 1px 2px rgba(0, 0, 0, 0.3));\n",
              "        fill: #FFFFFF;\n",
              "      }\n",
              "    </style>\n",
              "    <button class=\"colab-df-generate\" onclick=\"generateWithVariable('df')\"\n",
              "            title=\"Generate code using this dataframe.\"\n",
              "            style=\"display:none;\">\n",
              "\n",
              "  <svg xmlns=\"http://www.w3.org/2000/svg\" height=\"24px\"viewBox=\"0 0 24 24\"\n",
              "       width=\"24px\">\n",
              "    <path d=\"M7,19H8.4L18.45,9,17,7.55,7,17.6ZM5,21V16.75L18.45,3.32a2,2,0,0,1,2.83,0l1.4,1.43a1.91,1.91,0,0,1,.58,1.4,1.91,1.91,0,0,1-.58,1.4L9.25,21ZM18.45,9,17,7.55Zm-12,3A5.31,5.31,0,0,0,4.9,8.1,5.31,5.31,0,0,0,1,6.5,5.31,5.31,0,0,0,4.9,4.9,5.31,5.31,0,0,0,6.5,1,5.31,5.31,0,0,0,8.1,4.9,5.31,5.31,0,0,0,12,6.5,5.46,5.46,0,0,0,6.5,12Z\"/>\n",
              "  </svg>\n",
              "    </button>\n",
              "    <script>\n",
              "      (() => {\n",
              "      const buttonEl =\n",
              "        document.querySelector('#id_cd08c962-263e-4979-b350-1d243330cbcf button.colab-df-generate');\n",
              "      buttonEl.style.display =\n",
              "        google.colab.kernel.accessAllowed ? 'block' : 'none';\n",
              "\n",
              "      buttonEl.onclick = () => {\n",
              "        google.colab.notebook.generateWithVariable('df');\n",
              "      }\n",
              "      })();\n",
              "    </script>\n",
              "  </div>\n",
              "\n",
              "    </div>\n",
              "  </div>\n"
            ]
          },
          "metadata": {},
          "execution_count": 11
        }
      ]
    },
    {
      "cell_type": "code",
      "source": [
        "from surprise import Reader, Dataset, KNNBasic, SVD\n",
        "from surprise.model_selection import train_test_split, cross_validate\n",
        "import pandas as pd\n",
        "\n",
        "# Prepare the data to be used in Surprise\n",
        "reader = Reader(rating_scale=(0,5))\n",
        "data = Dataset.load_from_df(df[['userId', 'title', 'rating']], reader=reader)\n"
      ],
      "metadata": {
        "id": "4I-uzA7DcHmY"
      },
      "execution_count": null,
      "outputs": []
    },
    {
      "cell_type": "code",
      "source": [
        "data"
      ],
      "metadata": {
        "colab": {
          "base_uri": "https://localhost:8080/"
        },
        "id": "i-kO0pQSYEhv",
        "outputId": "e92aa77a-6adb-4cf8-91d3-3f64711d90e9"
      },
      "execution_count": null,
      "outputs": [
        {
          "output_type": "execute_result",
          "data": {
            "text/plain": [
              "<surprise.dataset.DatasetAutoFolds at 0x7dc4f2a7f3d0>"
            ]
          },
          "metadata": {},
          "execution_count": 13
        }
      ]
    },
    {
      "cell_type": "code",
      "source": [
        "sim_options = {\n",
        "    'name': 'cosine',\n",
        "    'user_based': True\n",
        "}\n",
        "algo = KNNBasic(sim_options=sim_options)\n",
        "\n",
        "# Retrieve the trainset.\n",
        "trainset, testset = train_test_split(data)\n",
        "algo.fit(trainset)\n",
        "\n",
        "# Predict\n",
        "print(algo.predict(1, 5, r_ui=None, verbose=True))"
      ],
      "metadata": {
        "colab": {
          "base_uri": "https://localhost:8080/"
        },
        "id": "L7NIJSQcbsrQ",
        "outputId": "244e2d7b-391c-475b-8076-9135a8529a40"
      },
      "execution_count": null,
      "outputs": [
        {
          "output_type": "stream",
          "name": "stdout",
          "text": [
            "Computing the cosine similarity matrix...\n",
            "Done computing similarity matrix.\n",
            "user: 1          item: 5          r_ui = None   est = 3.54   {'was_impossible': True, 'reason': 'User and/or item is unknown.'}\n",
            "user: 1          item: 5          r_ui = None   est = 3.54   {'was_impossible': True, 'reason': 'User and/or item is unknown.'}\n"
          ]
        }
      ]
    },
    {
      "cell_type": "code",
      "source": [
        "prediction = algo.test(testset)\n",
        "prediction[:5]"
      ],
      "metadata": {
        "colab": {
          "base_uri": "https://localhost:8080/"
        },
        "id": "F2j585i1sd_y",
        "outputId": "14f61541-808f-4184-bdcf-5830338c8e86"
      },
      "execution_count": null,
      "outputs": [
        {
          "output_type": "execute_result",
          "data": {
            "text/plain": [
              "[Prediction(uid=472, iid='Boogie Nights', r_ui=4.0, est=4.201173462840423, details={'actual_k': 40, 'was_impossible': False}),\n",
              " Prediction(uid=517, iid='Metropolis', r_ui=3.0, est=2.6268575319505496, details={'actual_k': 40, 'was_impossible': False}),\n",
              " Prediction(uid=23, iid='Being John Malkovich', r_ui=4.5, est=3.5271392246906523, details={'actual_k': 17, 'was_impossible': False}),\n",
              " Prediction(uid=523, iid='A Nightmare on Elm Street', r_ui=4.0, est=3.4626506634583705, details={'actual_k': 40, 'was_impossible': False}),\n",
              " Prediction(uid=105, iid='20,000 Leagues Under the Sea', r_ui=2.0, est=2.887541215716813, details={'actual_k': 40, 'was_impossible': False})]"
            ]
          },
          "metadata": {},
          "execution_count": 17
        }
      ]
    },
    {
      "cell_type": "markdown",
      "source": [
        "- Surprise 지원 알고리즘\n",
        " - Random : 랜덤한 추천\n",
        " - Baseline : ALS(Alternating Least Square), SGD(Stochastic Gradient Descent)\n",
        " - Matrix factorization: SVD, SVD++\n",
        " - KNNs\n",
        " - Slope one, Co clustering\n",
        "\n",
        " - https://surprise.readthedocs.io/en/stable/prediction_algorithms_package.html"
      ],
      "metadata": {
        "id": "t2hvMQq9cqP-"
      }
    },
    {
      "cell_type": "code",
      "source": [
        "from surprise import BaselineOnly\n",
        "from surprise import KNNWithMeans, KNNBasic, KNNBaseline\n",
        "from surprise import SVD\n",
        "from surprise import SVDpp\n",
        "\n",
        "from surprise import accuracy\n",
        "from surprise import Dataset\n",
        "from surprise.model_selection import train_test_split\n",
        "import matplotlib.pyplot as plt\n"
      ],
      "metadata": {
        "id": "jvt9QLIEeWEx"
      },
      "execution_count": null,
      "outputs": []
    },
    {
      "cell_type": "code",
      "source": [
        "trainset, testset = train_test_split(data, test_size = 0.25)"
      ],
      "metadata": {
        "id": "X4RbXyEke76G"
      },
      "execution_count": null,
      "outputs": []
    },
    {
      "cell_type": "code",
      "source": [
        "recom = KNNBasic()  #CF\n",
        "recom.fit(trainset)\n",
        "predictions = recom.test(testset)\n",
        "accuracy.rmse(predictions)"
      ],
      "metadata": {
        "colab": {
          "base_uri": "https://localhost:8080/"
        },
        "id": "xWqnzsWTfNxy",
        "outputId": "5949e69f-b524-49ef-8399-72c4cfc70991"
      },
      "execution_count": null,
      "outputs": [
        {
          "output_type": "stream",
          "name": "stdout",
          "text": [
            "Computing the msd similarity matrix...\n",
            "Done computing similarity matrix.\n",
            "RMSE: 0.9505\n"
          ]
        },
        {
          "output_type": "execute_result",
          "data": {
            "text/plain": [
              "0.9505290217572812"
            ]
          },
          "metadata": {},
          "execution_count": 22
        }
      ]
    },
    {
      "cell_type": "code",
      "source": [
        "recom = SVD()  #matrix 분해 (SVD) 이용\n",
        "recom.fit(trainset)\n",
        "predictions = recom.test(testset)\n",
        "accuracy.rmse(predictions)"
      ],
      "metadata": {
        "colab": {
          "base_uri": "https://localhost:8080/"
        },
        "id": "EIDERi0lf64S",
        "outputId": "bc988891-8ccf-47b9-b029-cc07c001609a"
      },
      "execution_count": null,
      "outputs": [
        {
          "output_type": "stream",
          "name": "stdout",
          "text": [
            "RMSE: 0.9034\n"
          ]
        },
        {
          "output_type": "execute_result",
          "data": {
            "text/plain": [
              "0.9034162368979297"
            ]
          },
          "metadata": {},
          "execution_count": 23
        }
      ]
    },
    {
      "cell_type": "markdown",
      "source": [
        "- ml-100k에 대해서 여러 추천 알고리즘을 수행하고 비교"
      ],
      "metadata": {
        "id": "JbFnzQ-0gn4l"
      }
    },
    {
      "cell_type": "code",
      "source": [
        "# MovieLens 100K\n",
        "data = Dataset.load_builtin(name=u'ml-100k', prompt = False)\n",
        "trainset, testset = train_test_split(data, test_size = 0.25)"
      ],
      "metadata": {
        "id": "PCPnZ5lrfF4B",
        "colab": {
          "base_uri": "https://localhost:8080/"
        },
        "outputId": "8b6b183e-7da5-47d6-96f7-b6c8503b1dbd"
      },
      "execution_count": null,
      "outputs": [
        {
          "output_type": "stream",
          "name": "stdout",
          "text": [
            "Trying to download dataset from https://files.grouplens.org/datasets/movielens/ml-100k.zip...\n",
            "Done! Dataset ml-100k has been saved to /root/.surprise_data/ml-100k\n"
          ]
        }
      ]
    },
    {
      "cell_type": "code",
      "source": [
        "algorithms = [KNNBasic, SVD]\n",
        "\n",
        "algos=[]\n",
        "rmses=[]\n",
        "\n",
        "for i in algorithms:\n",
        "  algo = i()\n",
        "  algos.append(i.__name__)\n",
        "  algo.fit(trainset)\n",
        "  predictions = algo.test(testset)\n",
        "  rmses.append(accuracy.rmse(predictions))"
      ],
      "metadata": {
        "colab": {
          "base_uri": "https://localhost:8080/"
        },
        "id": "V97xoXuxd-BO",
        "outputId": "64b55014-47c9-4c02-dc30-75f1267e08ce"
      },
      "execution_count": null,
      "outputs": [
        {
          "output_type": "stream",
          "name": "stdout",
          "text": [
            "Computing the msd similarity matrix...\n",
            "Done computing similarity matrix.\n",
            "RMSE: 0.9837\n",
            "RMSE: 0.9371\n"
          ]
        }
      ]
    }
  ]
}